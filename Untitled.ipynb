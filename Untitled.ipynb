{
 "cells": [
  {
   "cell_type": "markdown",
   "metadata": {},
   "source": [
    "![](Zillow.jpg)"
   ]
  },
  {
   "cell_type": "markdown",
   "metadata": {},
   "source": [
    "# Zillow Clustering Project\n",
    "## Natasha Rivers\n",
    "### June 28, 2021"
   ]
  },
  {
   "cell_type": "markdown",
   "metadata": {},
   "source": [
    "<hr style=\"border:2px solid black\"> </hr>"
   ]
  },
  {
   "cell_type": "markdown",
   "metadata": {},
   "source": [
    "### Imports"
   ]
  },
  {
   "cell_type": "code",
   "execution_count": 19,
   "metadata": {},
   "outputs": [],
   "source": [
    "import acquire\n",
    "import prepare\n",
    "import explore\n",
    "\n",
    "import pandas as pd\n",
    "import numpy as np\n",
    "import seaborn as sns\n",
    "import matplotlib.pyplot as plt\n",
    "\n",
    "from sklearn.model_selection import train_test_split\n",
    "from sklearn.impute import SimpleImputer\n",
    "from sklearn.preprocessing import MinMaxScaler\n",
    "\n",
    "import warnings\n",
    "warnings.filterwarnings(\"ignore\")"
   ]
  },
  {
   "cell_type": "markdown",
   "metadata": {},
   "source": [
    "<hr style=\"border:2px solid black\"> </hr>"
   ]
  },
  {
   "cell_type": "markdown",
   "metadata": {},
   "source": [
    "### Acquire"
   ]
  },
  {
   "cell_type": "code",
   "execution_count": 2,
   "metadata": {},
   "outputs": [],
   "source": [
    "#function from acquire.py that reads in the csv if availble, if not, one is created\n",
    "zillow = acquire.get_zillow_file()"
   ]
  },
  {
   "cell_type": "code",
   "execution_count": 3,
   "metadata": {
    "scrolled": true
   },
   "outputs": [
    {
     "data": {
      "text/html": [
       "<div>\n",
       "<style scoped>\n",
       "    .dataframe tbody tr th:only-of-type {\n",
       "        vertical-align: middle;\n",
       "    }\n",
       "\n",
       "    .dataframe tbody tr th {\n",
       "        vertical-align: top;\n",
       "    }\n",
       "\n",
       "    .dataframe thead th {\n",
       "        text-align: right;\n",
       "    }\n",
       "</style>\n",
       "<table border=\"1\" class=\"dataframe\">\n",
       "  <thead>\n",
       "    <tr style=\"text-align: right;\">\n",
       "      <th></th>\n",
       "      <th>parcelid</th>\n",
       "      <th>logerror</th>\n",
       "      <th>bathroomcnt</th>\n",
       "      <th>bedroomcnt</th>\n",
       "      <th>calculatedfinishedsquarefeet</th>\n",
       "      <th>fips</th>\n",
       "      <th>latitude</th>\n",
       "      <th>longitude</th>\n",
       "      <th>lotsizesquarefeet</th>\n",
       "      <th>regionidcity</th>\n",
       "      <th>regionidcounty</th>\n",
       "      <th>regionidzip</th>\n",
       "      <th>yearbuilt</th>\n",
       "      <th>structuretaxvaluedollarcnt</th>\n",
       "      <th>taxvaluedollarcnt</th>\n",
       "      <th>landtaxvaluedollarcnt</th>\n",
       "      <th>taxamount</th>\n",
       "    </tr>\n",
       "  </thead>\n",
       "  <tbody>\n",
       "    <tr>\n",
       "      <th>0</th>\n",
       "      <td>14297519</td>\n",
       "      <td>0.025595</td>\n",
       "      <td>3.5</td>\n",
       "      <td>4.0</td>\n",
       "      <td>3100.0</td>\n",
       "      <td>6059.0</td>\n",
       "      <td>33634931.0</td>\n",
       "      <td>-117869207.0</td>\n",
       "      <td>4506.0</td>\n",
       "      <td>53571.0</td>\n",
       "      <td>1286.0</td>\n",
       "      <td>96978.0</td>\n",
       "      <td>1998.0</td>\n",
       "      <td>485713.0</td>\n",
       "      <td>1023282.0</td>\n",
       "      <td>537569.0</td>\n",
       "      <td>11013.72</td>\n",
       "    </tr>\n",
       "    <tr>\n",
       "      <th>1</th>\n",
       "      <td>17052889</td>\n",
       "      <td>0.055619</td>\n",
       "      <td>1.0</td>\n",
       "      <td>2.0</td>\n",
       "      <td>1465.0</td>\n",
       "      <td>6111.0</td>\n",
       "      <td>34449266.0</td>\n",
       "      <td>-119281531.0</td>\n",
       "      <td>12647.0</td>\n",
       "      <td>13091.0</td>\n",
       "      <td>2061.0</td>\n",
       "      <td>97099.0</td>\n",
       "      <td>1967.0</td>\n",
       "      <td>88000.0</td>\n",
       "      <td>464000.0</td>\n",
       "      <td>376000.0</td>\n",
       "      <td>5672.48</td>\n",
       "    </tr>\n",
       "    <tr>\n",
       "      <th>2</th>\n",
       "      <td>14186244</td>\n",
       "      <td>0.005383</td>\n",
       "      <td>2.0</td>\n",
       "      <td>3.0</td>\n",
       "      <td>1243.0</td>\n",
       "      <td>6059.0</td>\n",
       "      <td>33886168.0</td>\n",
       "      <td>-117823170.0</td>\n",
       "      <td>8432.0</td>\n",
       "      <td>21412.0</td>\n",
       "      <td>1286.0</td>\n",
       "      <td>97078.0</td>\n",
       "      <td>1962.0</td>\n",
       "      <td>85289.0</td>\n",
       "      <td>564778.0</td>\n",
       "      <td>479489.0</td>\n",
       "      <td>6488.30</td>\n",
       "    </tr>\n",
       "    <tr>\n",
       "      <th>3</th>\n",
       "      <td>12177905</td>\n",
       "      <td>-0.103410</td>\n",
       "      <td>3.0</td>\n",
       "      <td>4.0</td>\n",
       "      <td>2376.0</td>\n",
       "      <td>6037.0</td>\n",
       "      <td>34245180.0</td>\n",
       "      <td>-118240722.0</td>\n",
       "      <td>13038.0</td>\n",
       "      <td>396551.0</td>\n",
       "      <td>3101.0</td>\n",
       "      <td>96330.0</td>\n",
       "      <td>1970.0</td>\n",
       "      <td>108918.0</td>\n",
       "      <td>145143.0</td>\n",
       "      <td>36225.0</td>\n",
       "      <td>1777.51</td>\n",
       "    </tr>\n",
       "    <tr>\n",
       "      <th>4</th>\n",
       "      <td>12095076</td>\n",
       "      <td>-0.001011</td>\n",
       "      <td>3.0</td>\n",
       "      <td>4.0</td>\n",
       "      <td>2962.0</td>\n",
       "      <td>6037.0</td>\n",
       "      <td>34145202.0</td>\n",
       "      <td>-118179824.0</td>\n",
       "      <td>63000.0</td>\n",
       "      <td>47019.0</td>\n",
       "      <td>3101.0</td>\n",
       "      <td>96293.0</td>\n",
       "      <td>1950.0</td>\n",
       "      <td>276684.0</td>\n",
       "      <td>773303.0</td>\n",
       "      <td>496619.0</td>\n",
       "      <td>9516.26</td>\n",
       "    </tr>\n",
       "  </tbody>\n",
       "</table>\n",
       "</div>"
      ],
      "text/plain": [
       "   parcelid  logerror  bathroomcnt  bedroomcnt  calculatedfinishedsquarefeet  \\\n",
       "0  14297519  0.025595          3.5         4.0                        3100.0   \n",
       "1  17052889  0.055619          1.0         2.0                        1465.0   \n",
       "2  14186244  0.005383          2.0         3.0                        1243.0   \n",
       "3  12177905 -0.103410          3.0         4.0                        2376.0   \n",
       "4  12095076 -0.001011          3.0         4.0                        2962.0   \n",
       "\n",
       "     fips    latitude    longitude  lotsizesquarefeet  regionidcity  \\\n",
       "0  6059.0  33634931.0 -117869207.0             4506.0       53571.0   \n",
       "1  6111.0  34449266.0 -119281531.0            12647.0       13091.0   \n",
       "2  6059.0  33886168.0 -117823170.0             8432.0       21412.0   \n",
       "3  6037.0  34245180.0 -118240722.0            13038.0      396551.0   \n",
       "4  6037.0  34145202.0 -118179824.0            63000.0       47019.0   \n",
       "\n",
       "   regionidcounty  regionidzip  yearbuilt  structuretaxvaluedollarcnt  \\\n",
       "0          1286.0      96978.0     1998.0                    485713.0   \n",
       "1          2061.0      97099.0     1967.0                     88000.0   \n",
       "2          1286.0      97078.0     1962.0                     85289.0   \n",
       "3          3101.0      96330.0     1970.0                    108918.0   \n",
       "4          3101.0      96293.0     1950.0                    276684.0   \n",
       "\n",
       "   taxvaluedollarcnt  landtaxvaluedollarcnt  taxamount  \n",
       "0          1023282.0               537569.0   11013.72  \n",
       "1           464000.0               376000.0    5672.48  \n",
       "2           564778.0               479489.0    6488.30  \n",
       "3           145143.0                36225.0    1777.51  \n",
       "4           773303.0               496619.0    9516.26  "
      ]
     },
     "execution_count": 3,
     "metadata": {},
     "output_type": "execute_result"
    }
   ],
   "source": [
    "zillow.head()"
   ]
  },
  {
   "cell_type": "code",
   "execution_count": 4,
   "metadata": {},
   "outputs": [
    {
     "data": {
      "text/plain": [
       "parcelid                          int64\n",
       "logerror                        float64\n",
       "bathroomcnt                     float64\n",
       "bedroomcnt                      float64\n",
       "calculatedfinishedsquarefeet    float64\n",
       "fips                            float64\n",
       "latitude                        float64\n",
       "longitude                       float64\n",
       "lotsizesquarefeet               float64\n",
       "regionidcity                    float64\n",
       "regionidcounty                  float64\n",
       "regionidzip                     float64\n",
       "yearbuilt                       float64\n",
       "structuretaxvaluedollarcnt      float64\n",
       "taxvaluedollarcnt               float64\n",
       "landtaxvaluedollarcnt           float64\n",
       "taxamount                       float64\n",
       "dtype: object"
      ]
     },
     "execution_count": 4,
     "metadata": {},
     "output_type": "execute_result"
    }
   ],
   "source": [
    "zillow.dtypes"
   ]
  },
  {
   "cell_type": "code",
   "execution_count": 5,
   "metadata": {},
   "outputs": [
    {
     "name": "stdout",
     "output_type": "stream",
     "text": [
      "<class 'pandas.core.frame.DataFrame'>\n",
      "Int64Index: 52442 entries, 0 to 52441\n",
      "Data columns (total 17 columns):\n",
      " #   Column                        Non-Null Count  Dtype  \n",
      "---  ------                        --------------  -----  \n",
      " 0   parcelid                      52442 non-null  int64  \n",
      " 1   logerror                      52442 non-null  float64\n",
      " 2   bathroomcnt                   52442 non-null  float64\n",
      " 3   bedroomcnt                    52442 non-null  float64\n",
      " 4   calculatedfinishedsquarefeet  52360 non-null  float64\n",
      " 5   fips                          52442 non-null  float64\n",
      " 6   latitude                      52442 non-null  float64\n",
      " 7   longitude                     52442 non-null  float64\n",
      " 8   lotsizesquarefeet             52073 non-null  float64\n",
      " 9   regionidcity                  51405 non-null  float64\n",
      " 10  regionidcounty                52442 non-null  float64\n",
      " 11  regionidzip                   52416 non-null  float64\n",
      " 12  yearbuilt                     52326 non-null  float64\n",
      " 13  structuretaxvaluedollarcnt    52358 non-null  float64\n",
      " 14  taxvaluedollarcnt             52441 non-null  float64\n",
      " 15  landtaxvaluedollarcnt         52441 non-null  float64\n",
      " 16  taxamount                     52438 non-null  float64\n",
      "dtypes: float64(16), int64(1)\n",
      "memory usage: 7.2 MB\n"
     ]
    }
   ],
   "source": [
    "#52442 entries,17 columns several nulls, incorrect dtypes\n",
    "zillow.info()"
   ]
  },
  {
   "cell_type": "code",
   "execution_count": 6,
   "metadata": {},
   "outputs": [
    {
     "data": {
      "text/plain": [
       "(52442, 17)"
      ]
     },
     "execution_count": 6,
     "metadata": {},
     "output_type": "execute_result"
    }
   ],
   "source": [
    "zillow.shape"
   ]
  },
  {
   "cell_type": "markdown",
   "metadata": {},
   "source": [
    "<hr style=\"border:2px solid black\"> </hr>"
   ]
  },
  {
   "cell_type": "markdown",
   "metadata": {},
   "source": [
    "### Prepare"
   ]
  },
  {
   "cell_type": "code",
   "execution_count": 22,
   "metadata": {},
   "outputs": [
    {
     "data": {
      "image/png": "[encoded data removed]",
      "text/plain": [
       "<Figure size 432x288 with 1 Axes>"
      ]
     },
     "metadata": {
      "needs_background": "light"
     },
     "output_type": "display_data"
    },
    {
     "data": {
      "image/png": "[encoded data removed]",
      "text/plain": [
       "<Figure size 432x288 with 1 Axes>"
      ]
     },
     "metadata": {
      "needs_background": "light"
     },
     "output_type": "display_data"
    },
    {
     "data": {
      "image/png": "[encoded data removed]",
      "text/plain": [
       "<Figure size 432x288 with 1 Axes>"
      ]
     },
     "metadata": {
      "needs_background": "light"
     },
     "output_type": "display_data"
    },
    {
     "data": {
      "image/png": "[encoded data removed]",
      "text/plain": [
       "<Figure size 432x288 with 1 Axes>"
      ]
     },
     "metadata": {
      "needs_background": "light"
     },
     "output_type": "display_data"
    },
    {
     "data": {
      "image/png": "[encoded data removed]",
      "text/plain": [
       "<Figure size 432x288 with 1 Axes>"
      ]
     },
     "metadata": {
      "needs_background": "light"
     },
     "output_type": "display_data"
    },
    {
     "data": {
      "image/png": "[encoded data removed]",
      "text/plain": [
       "<Figure size 432x288 with 1 Axes>"
      ]
     },
     "metadata": {
      "needs_background": "light"
     },
     "output_type": "display_data"
    },
    {
     "data": {
      "image/png": "[encoded data removed]",
      "text/plain": [
       "<Figure size 432x288 with 1 Axes>"
      ]
     },
     "metadata": {
      "needs_background": "light"
     },
     "output_type": "display_data"
    },
    {
     "data": {
      "image/png": "[encoded data removed]",
      "text/plain": [
       "<Figure size 432x288 with 1 Axes>"
      ]
     },
     "metadata": {
      "needs_background": "light"
     },
     "output_type": "display_data"
    },
    {
     "data": {
      "image/png": "[encoded data removed]",
      "text/plain": [
       "<Figure size 432x288 with 1 Axes>"
      ]
     },
     "metadata": {
      "needs_background": "light"
     },
     "output_type": "display_data"
    },
    {
     "data": {
      "image/png": "[encoded data removed]",
      "text/plain": [
       "<Figure size 432x288 with 1 Axes>"
      ]
     },
     "metadata": {
      "needs_background": "light"
     },
     "output_type": "display_data"
    },
    {
     "data": {
      "image/png": "[encoded data removed]",
      "text/plain": [
       "<Figure size 432x288 with 1 Axes>"
      ]
     },
     "metadata": {
      "needs_background": "light"
     },
     "output_type": "display_data"
    },
    {
     "data": {
      "image/png": "[encoded data removed]",
      "text/plain": [
       "<Figure size 432x288 with 1 Axes>"
      ]
     },
     "metadata": {
      "needs_background": "light"
     },
     "output_type": "display_data"
    },
    {
     "data": {
      "image/png": "[encoded data removed]",
      "text/plain": [
       "<Figure size 432x288 with 1 Axes>"
      ]
     },
     "metadata": {
      "needs_background": "light"
     },
     "output_type": "display_data"
    },
    {
     "data": {
      "image/png": "[encoded data removed]",
      "text/plain": [
       "<Figure size 432x288 with 1 Axes>"
      ]
     },
     "metadata": {
      "needs_background": "light"
     },
     "output_type": "display_data"
    },
    {
     "data": {
      "image/png": "[encoded data removed]",
      "text/plain": [
       "<Figure size 432x288 with 1 Axes>"
      ]
     },
     "metadata": {
      "needs_background": "light"
     },
     "output_type": "display_data"
    },
    {
     "data": {
      "image/png": "[encoded data removed]",
      "text/plain": [
       "<Figure size 432x288 with 1 Axes>"
      ]
     },
     "metadata": {
      "needs_background": "light"
     },
     "output_type": "display_data"
    },
    {
     "data": {
      "image/png": "[encoded data removed]",
      "text/plain": [
       "<Figure size 432x288 with 1 Axes>"
      ]
     },
     "metadata": {
      "needs_background": "light"
     },
     "output_type": "display_data"
    },
    {
     "data": {
      "image/png": "[encoded data removed]",
      "text/plain": [
       "<Figure size 432x288 with 1 Axes>"
      ]
     },
     "metadata": {
      "needs_background": "light"
     },
     "output_type": "display_data"
    }
   ],
   "source": [
    "#visualize distributions \n",
    "#check for outliers\n",
    "for col in zillow.columns:\n",
    "    plt.hist(zillow[col])\n",
    "    plt.title(col)\n",
    "    plt.show()"
   ]
  },
  {
   "cell_type": "code",
   "execution_count": 7,
   "metadata": {},
   "outputs": [
    {
     "data": {
      "text/plain": [
       "<AxesSubplot:xlabel='bedroomcnt'>"
      ]
     },
     "execution_count": 7,
     "metadata": {},
     "output_type": "execute_result"
    },
    {
     "data": {
      "image/png": "[encoded data removed]",
      "text/plain": [
       "<Figure size 432x288 with 1 Axes>"
      ]
     },
     "metadata": {
      "needs_background": "light"
     },
     "output_type": "display_data"
    }
   ],
   "source": [
    "#specifically visualize outliers in bedroom\n",
    "sns.boxplot(zillow.bedroomcnt)"
   ]
  },
  {
   "cell_type": "code",
   "execution_count": 8,
   "metadata": {
    "scrolled": true
   },
   "outputs": [
    {
     "data": {
      "text/plain": [
       "parcelid                           0\n",
       "logerror                           0\n",
       "bathroomcnt                        0\n",
       "bedroomcnt                         0\n",
       "calculatedfinishedsquarefeet      82\n",
       "fips                               0\n",
       "latitude                           0\n",
       "longitude                          0\n",
       "lotsizesquarefeet                369\n",
       "regionidcity                    1037\n",
       "regionidcounty                     0\n",
       "regionidzip                       26\n",
       "yearbuilt                        116\n",
       "structuretaxvaluedollarcnt        84\n",
       "taxvaluedollarcnt                  1\n",
       "landtaxvaluedollarcnt              1\n",
       "taxamount                          4\n",
       "dtype: int64"
      ]
     },
     "execution_count": 8,
     "metadata": {},
     "output_type": "execute_result"
    }
   ],
   "source": [
    "#look at null values\n",
    "zillow.isnull().sum()"
   ]
  },
  {
   "cell_type": "code",
   "execution_count": 9,
   "metadata": {},
   "outputs": [],
   "source": [
    "#function from prepare.py that changes column names, changes dtypes, \n",
    "#imputes values, drop nulls and outliers, creates new column with county name\n",
    "\n",
    "zillow = prepare.final_prep_zillow(zillow)"
   ]
  },
  {
   "cell_type": "code",
   "execution_count": 10,
   "metadata": {},
   "outputs": [
    {
     "data": {
      "text/html": [
       "<div>\n",
       "<style scoped>\n",
       "    .dataframe tbody tr th:only-of-type {\n",
       "        vertical-align: middle;\n",
       "    }\n",
       "\n",
       "    .dataframe tbody tr th {\n",
       "        vertical-align: top;\n",
       "    }\n",
       "\n",
       "    .dataframe thead th {\n",
       "        text-align: right;\n",
       "    }\n",
       "</style>\n",
       "<table border=\"1\" class=\"dataframe\">\n",
       "  <thead>\n",
       "    <tr style=\"text-align: right;\">\n",
       "      <th></th>\n",
       "      <th>parcelid</th>\n",
       "      <th>logerror</th>\n",
       "      <th>bathrooms</th>\n",
       "      <th>bedrooms</th>\n",
       "      <th>total_sqft</th>\n",
       "      <th>county_code</th>\n",
       "      <th>latitude</th>\n",
       "      <th>longitude</th>\n",
       "      <th>lotsizesquarefeet</th>\n",
       "      <th>regionidcity</th>\n",
       "      <th>regionidcounty</th>\n",
       "      <th>regionidzip</th>\n",
       "      <th>year_built</th>\n",
       "      <th>structuretaxvaluedollarcnt</th>\n",
       "      <th>value_assessed</th>\n",
       "      <th>landtaxvaluedollarcnt</th>\n",
       "      <th>tax_amount</th>\n",
       "      <th>county</th>\n",
       "    </tr>\n",
       "  </thead>\n",
       "  <tbody>\n",
       "    <tr>\n",
       "      <th>0</th>\n",
       "      <td>14297519</td>\n",
       "      <td>0.025595</td>\n",
       "      <td>3.5</td>\n",
       "      <td>4</td>\n",
       "      <td>3100</td>\n",
       "      <td>6059</td>\n",
       "      <td>33634931</td>\n",
       "      <td>-117869207</td>\n",
       "      <td>4506</td>\n",
       "      <td>53571</td>\n",
       "      <td>1286</td>\n",
       "      <td>96978</td>\n",
       "      <td>1998</td>\n",
       "      <td>485713</td>\n",
       "      <td>1023282</td>\n",
       "      <td>537569</td>\n",
       "      <td>11013</td>\n",
       "      <td>orange</td>\n",
       "    </tr>\n",
       "    <tr>\n",
       "      <th>1</th>\n",
       "      <td>17052889</td>\n",
       "      <td>0.055619</td>\n",
       "      <td>1.0</td>\n",
       "      <td>2</td>\n",
       "      <td>1465</td>\n",
       "      <td>6111</td>\n",
       "      <td>34449266</td>\n",
       "      <td>-119281531</td>\n",
       "      <td>12647</td>\n",
       "      <td>13091</td>\n",
       "      <td>2061</td>\n",
       "      <td>97099</td>\n",
       "      <td>1967</td>\n",
       "      <td>88000</td>\n",
       "      <td>464000</td>\n",
       "      <td>376000</td>\n",
       "      <td>5672</td>\n",
       "      <td>ventura</td>\n",
       "    </tr>\n",
       "    <tr>\n",
       "      <th>2</th>\n",
       "      <td>14186244</td>\n",
       "      <td>0.005383</td>\n",
       "      <td>2.0</td>\n",
       "      <td>3</td>\n",
       "      <td>1243</td>\n",
       "      <td>6059</td>\n",
       "      <td>33886168</td>\n",
       "      <td>-117823170</td>\n",
       "      <td>8432</td>\n",
       "      <td>21412</td>\n",
       "      <td>1286</td>\n",
       "      <td>97078</td>\n",
       "      <td>1962</td>\n",
       "      <td>85289</td>\n",
       "      <td>564778</td>\n",
       "      <td>479489</td>\n",
       "      <td>6488</td>\n",
       "      <td>orange</td>\n",
       "    </tr>\n",
       "    <tr>\n",
       "      <th>3</th>\n",
       "      <td>12177905</td>\n",
       "      <td>-0.103410</td>\n",
       "      <td>3.0</td>\n",
       "      <td>4</td>\n",
       "      <td>2376</td>\n",
       "      <td>6037</td>\n",
       "      <td>34245180</td>\n",
       "      <td>-118240722</td>\n",
       "      <td>13038</td>\n",
       "      <td>396551</td>\n",
       "      <td>3101</td>\n",
       "      <td>96330</td>\n",
       "      <td>1970</td>\n",
       "      <td>108918</td>\n",
       "      <td>145143</td>\n",
       "      <td>36225</td>\n",
       "      <td>1777</td>\n",
       "      <td>los_angeles</td>\n",
       "    </tr>\n",
       "    <tr>\n",
       "      <th>4</th>\n",
       "      <td>12095076</td>\n",
       "      <td>-0.001011</td>\n",
       "      <td>3.0</td>\n",
       "      <td>4</td>\n",
       "      <td>2962</td>\n",
       "      <td>6037</td>\n",
       "      <td>34145202</td>\n",
       "      <td>-118179824</td>\n",
       "      <td>63000</td>\n",
       "      <td>47019</td>\n",
       "      <td>3101</td>\n",
       "      <td>96293</td>\n",
       "      <td>1950</td>\n",
       "      <td>276684</td>\n",
       "      <td>773303</td>\n",
       "      <td>496619</td>\n",
       "      <td>9516</td>\n",
       "      <td>los_angeles</td>\n",
       "    </tr>\n",
       "  </tbody>\n",
       "</table>\n",
       "</div>"
      ],
      "text/plain": [
       "   parcelid  logerror  bathrooms  bedrooms  total_sqft  county_code  latitude  \\\n",
       "0  14297519  0.025595        3.5         4        3100         6059  33634931   \n",
       "1  17052889  0.055619        1.0         2        1465         6111  34449266   \n",
       "2  14186244  0.005383        2.0         3        1243         6059  33886168   \n",
       "3  12177905 -0.103410        3.0         4        2376         6037  34245180   \n",
       "4  12095076 -0.001011        3.0         4        2962         6037  34145202   \n",
       "\n",
       "   longitude  lotsizesquarefeet  regionidcity  regionidcounty  regionidzip  \\\n",
       "0 -117869207               4506         53571            1286        96978   \n",
       "1 -119281531              12647         13091            2061        97099   \n",
       "2 -117823170               8432         21412            1286        97078   \n",
       "3 -118240722              13038        396551            3101        96330   \n",
       "4 -118179824              63000         47019            3101        96293   \n",
       "\n",
       "   year_built  structuretaxvaluedollarcnt  value_assessed  \\\n",
       "0        1998                      485713         1023282   \n",
       "1        1967                       88000          464000   \n",
       "2        1962                       85289          564778   \n",
       "3        1970                      108918          145143   \n",
       "4        1950                      276684          773303   \n",
       "\n",
       "   landtaxvaluedollarcnt  tax_amount       county  \n",
       "0                 537569       11013       orange  \n",
       "1                 376000        5672      ventura  \n",
       "2                 479489        6488       orange  \n",
       "3                  36225        1777  los_angeles  \n",
       "4                 496619        9516  los_angeles  "
      ]
     },
     "execution_count": 10,
     "metadata": {},
     "output_type": "execute_result"
    }
   ],
   "source": [
    "#as you can see.. column names have been changed\n",
    "zillow.head()"
   ]
  },
  {
   "cell_type": "code",
   "execution_count": 11,
   "metadata": {},
   "outputs": [
    {
     "data": {
      "text/plain": [
       "parcelid                        int64\n",
       "logerror                      float64\n",
       "bathrooms                     float64\n",
       "bedrooms                        int64\n",
       "total_sqft                      int64\n",
       "county_code                     int64\n",
       "latitude                        int64\n",
       "longitude                       int64\n",
       "lotsizesquarefeet               int64\n",
       "regionidcity                    int64\n",
       "regionidcounty                  int64\n",
       "regionidzip                     int64\n",
       "year_built                      int64\n",
       "structuretaxvaluedollarcnt      int64\n",
       "value_assessed                  int64\n",
       "landtaxvaluedollarcnt           int64\n",
       "tax_amount                      int64\n",
       "county                         object\n",
       "dtype: object"
      ]
     },
     "execution_count": 11,
     "metadata": {},
     "output_type": "execute_result"
    }
   ],
   "source": [
    "#prepare.py also changed dtypes\n",
    "zillow.dtypes"
   ]
  },
  {
   "cell_type": "code",
   "execution_count": 24,
   "metadata": {},
   "outputs": [
    {
     "data": {
      "text/plain": [
       "parcelid                      0\n",
       "logerror                      0\n",
       "bathrooms                     0\n",
       "bedrooms                      0\n",
       "total_sqft                    0\n",
       "county_code                   0\n",
       "latitude                      0\n",
       "longitude                     0\n",
       "lotsizesquarefeet             0\n",
       "regionidcity                  0\n",
       "regionidcounty                0\n",
       "regionidzip                   0\n",
       "year_built                    0\n",
       "structuretaxvaluedollarcnt    0\n",
       "value_assessed                0\n",
       "landtaxvaluedollarcnt         0\n",
       "tax_amount                    0\n",
       "county                        0\n",
       "dtype: int64"
      ]
     },
     "execution_count": 24,
     "metadata": {},
     "output_type": "execute_result"
    }
   ],
   "source": [
    "#prepare.py imputed values with mean and dropped others\n",
    "zillow.isnull().sum()"
   ]
  },
  {
   "cell_type": "code",
   "execution_count": 15,
   "metadata": {},
   "outputs": [
    {
     "data": {
      "text/plain": [
       "(44416, 18)"
      ]
     },
     "execution_count": 15,
     "metadata": {},
     "output_type": "execute_result"
    }
   ],
   "source": [
    "#new shape after dropping outliers and nulls that were not imputed\n",
    "zillow.shape"
   ]
  },
  {
   "cell_type": "code",
   "execution_count": 16,
   "metadata": {},
   "outputs": [
    {
     "data": {
      "text/plain": [
       "<AxesSubplot:xlabel='bedrooms'>"
      ]
     },
     "execution_count": 16,
     "metadata": {},
     "output_type": "execute_result"
    },
    {
     "data": {
      "image/png": "[encoded data removed]",
      "text/plain": [
       "<Figure size 432x288 with 1 Axes>"
      ]
     },
     "metadata": {
      "needs_background": "light"
     },
     "output_type": "display_data"
    }
   ],
   "source": [
    "#visual that outliers were dropped \n",
    "sns.boxplot(zillow.bedrooms)"
   ]
  },
  {
   "cell_type": "markdown",
   "metadata": {},
   "source": [
    "<hr style=\"border:2px solid black\"> </hr>"
   ]
  },
  {
   "cell_type": "markdown",
   "metadata": {},
   "source": [
    "### Explore"
   ]
  },
  {
   "cell_type": "code",
   "execution_count": 13,
   "metadata": {
    "collapsed": true
   },
   "outputs": [
    {
     "name": "stdout",
     "output_type": "stream",
     "text": [
      "=================================================\n",
      "Dataframe head: \n",
      "   parcelid  logerror  bathrooms  bedrooms  total_sqft  county_code  latitude  \\\n",
      "0  14297519  0.025595        3.5         4        3100         6059  33634931   \n",
      "1  17052889  0.055619        1.0         2        1465         6111  34449266   \n",
      "2  14186244  0.005383        2.0         3        1243         6059  33886168   \n",
      "\n",
      "   longitude  lotsizesquarefeet  regionidcity  regionidcounty  regionidzip  \\\n",
      "0 -117869207               4506         53571            1286        96978   \n",
      "1 -119281531              12647         13091            2061        97099   \n",
      "2 -117823170               8432         21412            1286        97078   \n",
      "\n",
      "   year_built  structuretaxvaluedollarcnt  value_assessed  \\\n",
      "0        1998                      485713         1023282   \n",
      "1        1967                       88000          464000   \n",
      "2        1962                       85289          564778   \n",
      "\n",
      "   landtaxvaluedollarcnt  tax_amount   county  \n",
      "0                 537569       11013   orange  \n",
      "1                 376000        5672  ventura  \n",
      "2                 479489        6488   orange  \n",
      "=================================================\n",
      "Dataframe info: \n",
      "<class 'pandas.core.frame.DataFrame'>\n",
      "Int64Index: 44416 entries, 0 to 52440\n",
      "Data columns (total 18 columns):\n",
      " #   Column                      Non-Null Count  Dtype  \n",
      "---  ------                      --------------  -----  \n",
      " 0   parcelid                    44416 non-null  int64  \n",
      " 1   logerror                    44416 non-null  float64\n",
      " 2   bathrooms                   44416 non-null  float64\n",
      " 3   bedrooms                    44416 non-null  int64  \n",
      " 4   total_sqft                  44416 non-null  int64  \n",
      " 5   county_code                 44416 non-null  int64  \n",
      " 6   latitude                    44416 non-null  int64  \n",
      " 7   longitude                   44416 non-null  int64  \n",
      " 8   lotsizesquarefeet           44416 non-null  int64  \n",
      " 9   regionidcity                44416 non-null  int64  \n",
      " 10  regionidcounty              44416 non-null  int64  \n",
      " 11  regionidzip                 44416 non-null  int64  \n",
      " 12  year_built                  44416 non-null  int64  \n",
      " 13  structuretaxvaluedollarcnt  44416 non-null  int64  \n",
      " 14  value_assessed              44416 non-null  int64  \n",
      " 15  landtaxvaluedollarcnt       44416 non-null  int64  \n",
      " 16  tax_amount                  44416 non-null  int64  \n",
      " 17  county                      44416 non-null  object \n",
      "dtypes: float64(2), int64(15), object(1)\n",
      "memory usage: 6.4+ MB\n",
      "None\n",
      "=================================================\n",
      "DataFrame Description\n",
      "           parcelid      logerror     bathrooms      bedrooms    total_sqft  \\\n",
      "count  4.441600e+04  44416.000000  44416.000000  44416.000000  44416.000000   \n",
      "mean   1.296026e+07      0.016695      2.087998      3.200378   1683.540166   \n",
      "std    2.249614e+06      0.166244      0.717016      0.783636    586.419379   \n",
      "min    1.071186e+07     -4.655420      1.000000      2.000000    152.000000   \n",
      "25%    1.148067e+07     -0.024794      2.000000      3.000000   1239.000000   \n",
      "50%    1.260716e+07      0.005799      2.000000      3.000000   1566.000000   \n",
      "75%    1.410626e+07      0.037135      2.500000      4.000000   2042.000000   \n",
      "max    1.629608e+08      3.394544      4.000000      5.000000   3354.000000   \n",
      "\n",
      "        county_code      latitude     longitude  lotsizesquarefeet  \\\n",
      "count  44416.000000  4.441600e+04  4.441600e+04       4.441600e+04   \n",
      "mean    6049.135131  3.402969e+07 -1.181910e+08       9.899362e+03   \n",
      "std       21.226926  2.727824e+05  3.536646e+05       9.088663e+04   \n",
      "min     6037.000000  3.334062e+07 -1.194753e+08       2.360000e+02   \n",
      "25%     6037.000000  3.383507e+07 -1.183831e+08       5.497000e+03   \n",
      "50%     6037.000000  3.401701e+07 -1.181414e+08       6.671500e+03   \n",
      "75%     6059.000000  3.419409e+07 -1.179357e+08       8.190000e+03   \n",
      "max     6111.000000  3.481877e+07 -1.175723e+08       6.971010e+06   \n",
      "\n",
      "        regionidcity  regionidcounty    regionidzip    year_built  \\\n",
      "count   44416.000000    44416.000000   44416.000000  44416.000000   \n",
      "mean    34003.586208     2535.353161   96623.597938   1961.701054   \n",
      "std     50985.193774      798.376540    3828.240601     21.563345   \n",
      "min      3491.000000     1286.000000   95982.000000   1878.000000   \n",
      "25%     12447.000000     1286.000000   96212.000000   1950.000000   \n",
      "50%     24812.000000     3101.000000   96424.000000   1959.000000   \n",
      "75%     40227.000000     3101.000000   97004.000000   1976.000000   \n",
      "max    396556.000000     3101.000000  399675.000000   2016.000000   \n",
      "\n",
      "       structuretaxvaluedollarcnt  value_assessed  landtaxvaluedollarcnt  \\\n",
      "count                44416.000000    4.441600e+04           4.441600e+04   \n",
      "mean                139746.008803    3.704053e+05           2.306593e+05   \n",
      "std                  93062.984441    2.454389e+05           1.917174e+05   \n",
      "min                    302.000000    3.254000e+03           1.610000e+02   \n",
      "25%                  72058.000000    1.716368e+05           6.182325e+04   \n",
      "50%                 118053.000000    3.325210e+05           1.891885e+05   \n",
      "75%                 184697.500000    5.167302e+05           3.474380e+05   \n",
      "max                 804938.000000    1.154401e+06           1.050000e+06   \n",
      "\n",
      "         tax_amount  \n",
      "count  44416.000000  \n",
      "mean    4605.703845  \n",
      "std     2847.421391  \n",
      "min       49.000000  \n",
      "25%     2416.000000  \n",
      "50%     4191.000000  \n",
      "75%     6213.250000  \n",
      "max    30690.000000  \n",
      "=================================================\n",
      "Dataframe value counts: \n",
      "(10559606.04, 25936750.9]     44412\n",
      "(25936750.9, 41161646.8]          0\n",
      "(41161646.8, 56386542.7]          0\n",
      "(56386542.7, 71611438.6]          0\n",
      "(71611438.6, 86836334.5]          0\n",
      "(86836334.5, 102061230.4]         0\n",
      "(102061230.4, 117286126.3]        0\n",
      "(117286126.3, 132511022.2]        0\n",
      "(132511022.2, 147735918.1]        0\n",
      "(147735918.1, 162960814.0]        4\n",
      "Name: parcelid, dtype: int64\n",
      "(-4.664000000000001, -3.85]        2\n",
      "(-3.85, -3.045]                    0\n",
      "(-3.045, -2.24]                   11\n",
      "(-2.24, -1.435]                   13\n",
      "(-1.435, -0.63]                   83\n",
      "(-0.63, 0.175]                 41979\n",
      "(0.175, 0.98]                   2174\n",
      "(0.98, 1.785]                     85\n",
      "(1.785, 2.59]                     63\n",
      "(2.59, 3.395]                      6\n",
      "Name: logerror, dtype: int64\n",
      "(0.996, 1.3]     8771\n",
      "(1.3, 1.6]        822\n",
      "(1.6, 1.9]          0\n",
      "(1.9, 2.2]      20949\n",
      "(2.2, 2.5]       3708\n",
      "(2.5, 2.8]          0\n",
      "(2.8, 3.1]       8890\n",
      "(3.1, 3.4]          0\n",
      "(3.4, 3.7]        411\n",
      "(3.7, 4.0]        865\n",
      "Name: bathrooms, dtype: int64\n",
      "(1.9960000000000002, 2.3]     7946\n",
      "(2.3, 2.6]                       0\n",
      "(2.6, 2.9]                       0\n",
      "(2.9, 3.2]                   21757\n",
      "(3.2, 3.5]                       0\n",
      "(3.5, 3.8]                       0\n",
      "(3.8, 4.1]                   12580\n",
      "(4.1, 4.4]                       0\n",
      "(4.4, 4.7]                       0\n",
      "(4.7, 5.0]                    2133\n",
      "Name: bedrooms, dtype: int64\n",
      "(148.797, 472.2]        3\n",
      "(472.2, 792.4]        856\n",
      "(792.4, 1112.6]      6011\n",
      "(1112.6, 1432.8]    10975\n",
      "(1432.8, 1753.0]     9508\n",
      "(1753.0, 2073.2]     6508\n",
      "(2073.2, 2393.4]     4334\n",
      "(2393.4, 2713.6]     3076\n",
      "(2713.6, 3033.8]     1951\n",
      "(3033.8, 3354.0]     1194\n",
      "Name: total_sqft, dtype: int64\n",
      "(6036.925, 6044.4]    28943\n",
      "(6044.4, 6051.8]          0\n",
      "(6051.8, 6059.2]      11654\n",
      "(6059.2, 6066.6]          0\n",
      "(6066.6, 6074.0]          0\n",
      "(6074.0, 6081.4]          0\n",
      "(6081.4, 6088.8]          0\n",
      "(6088.8, 6096.2]          0\n",
      "(6096.2, 6103.6]          0\n",
      "(6103.6, 6111.0]       3819\n",
      "Name: county_code, dtype: int64\n",
      "(33339141.852, 33488434.7]      543\n",
      "(33488434.7, 33636249.4]       2162\n",
      "(33636249.4, 33784064.1]       5131\n",
      "(33784064.1, 33931878.8]      10041\n",
      "(33931878.8, 34079693.5]       7609\n",
      "(34079693.5, 34227508.2]      10190\n",
      "(34227508.2, 34375322.9]       4181\n",
      "(34375322.9, 34523137.6]       1321\n",
      "(34523137.6, 34670952.3]       2041\n",
      "(34670952.3, 34818767.0]       1197\n",
      "Name: latitude, dtype: int64\n",
      "(-119477167.928, -119284972.3]      139\n",
      "(-119284972.3, -119094679.6]       1219\n",
      "(-119094679.6, -118904386.9]        852\n",
      "(-118904386.9, -118714094.2]       1455\n",
      "(-118714094.2, -118523801.5]       2799\n",
      "(-118523801.5, -118333508.8]       6809\n",
      "(-118333508.8, -118143216.1]       8845\n",
      "(-118143216.1, -117952923.4]      10270\n",
      "(-117952923.4, -117762630.7]       8131\n",
      "(-117762630.7, -117572338.0]       3897\n",
      "Name: longitude, dtype: int64\n",
      "(-6734.775000000001, 697313.4]    44402\n",
      "(697313.4, 1394390.8]                 4\n",
      "(1394390.8, 2091468.2]                2\n",
      "(2091468.2, 2788545.6]                0\n",
      "(2788545.6, 3485623.0]                1\n",
      "(3485623.0, 4182700.4]                0\n",
      "(4182700.4, 4879777.8]                0\n",
      "(4879777.8, 5576855.2]                0\n",
      "(5576855.2, 6273932.6]                0\n",
      "(6273932.6, 6971010.0]                7\n",
      "Name: lotsizesquarefeet, dtype: int64\n",
      "(3097.9339999999997, 42797.5]    33929\n",
      "(42797.5, 82104.0]                8932\n",
      "(82104.0, 121410.5]                805\n",
      "(121410.5, 160717.0]                 0\n",
      "(160717.0, 200023.5]                 0\n",
      "(200023.5, 239330.0]                 0\n",
      "(239330.0, 278636.5]                16\n",
      "(278636.5, 317943.0]                 0\n",
      "(317943.0, 357249.5]                 0\n",
      "(357249.5, 396556.0]               734\n",
      "Name: regionidcity, dtype: int64\n",
      "(1284.184, 1467.5]    11654\n",
      "(1467.5, 1649.0]          0\n",
      "(1649.0, 1830.5]          0\n",
      "(1830.5, 2012.0]          0\n",
      "(2012.0, 2193.5]       3819\n",
      "(2193.5, 2375.0]          0\n",
      "(2375.0, 2556.5]          0\n",
      "(2556.5, 2738.0]          0\n",
      "(2738.0, 2919.5]          0\n",
      "(2919.5, 3101.0]      28943\n",
      "Name: regionidcounty, dtype: int64\n",
      "(95678.306, 126351.3]    44409\n",
      "(126351.3, 156720.6]         0\n",
      "(156720.6, 187089.9]         0\n",
      "(187089.9, 217459.2]         0\n",
      "(217459.2, 247828.5]         0\n",
      "(247828.5, 278197.8]         0\n",
      "(278197.8, 308567.1]         0\n",
      "(308567.1, 338936.4]         0\n",
      "(338936.4, 369305.7]         0\n",
      "(369305.7, 399675.0]         7\n",
      "Name: regionidzip, dtype: int64\n",
      "(1877.861, 1891.8]       19\n",
      "(1891.8, 1905.6]        148\n",
      "(1905.6, 1919.4]        900\n",
      "(1919.4, 1933.2]       3268\n",
      "(1933.2, 1947.0]       4238\n",
      "(1947.0, 1960.8]      14687\n",
      "(1960.8, 1974.6]       9376\n",
      "(1974.6, 1988.4]       6085\n",
      "(1988.4, 2002.2]       4042\n",
      "(2002.2, 2016.0]       1653\n",
      "Name: year_built, dtype: int64\n",
      "(-502.637, 80765.6]     13280\n",
      "(80765.6, 161229.2]     16754\n",
      "(161229.2, 241692.8]     8566\n",
      "(241692.8, 322156.4]     3496\n",
      "(322156.4, 402620.0]     1526\n",
      "(402620.0, 483083.6]      545\n",
      "(483083.6, 563547.2]      188\n",
      "(563547.2, 644010.8]       49\n",
      "(644010.8, 724474.4]        9\n",
      "(724474.4, 804938.0]        3\n",
      "Name: structuretaxvaluedollarcnt, dtype: int64\n",
      "(2102.852, 118368.7]      7603\n",
      "(118368.7, 233483.4]      7730\n",
      "(233483.4, 348598.1]      7972\n",
      "(348598.1, 463712.8]      7307\n",
      "(463712.8, 578827.5]      5279\n",
      "(578827.5, 693942.2]      3476\n",
      "(693942.2, 809056.9]      2238\n",
      "(809056.9, 924171.6]      1410\n",
      "(924171.6, 1039286.3]      845\n",
      "(1039286.3, 1154401.0]     556\n",
      "Name: value_assessed, dtype: int64\n",
      "(-888.84, 105144.9]      14962\n",
      "(105144.9, 210128.8]      8984\n",
      "(210128.8, 315112.7]      7474\n",
      "(315112.7, 420096.6]      5537\n",
      "(420096.6, 525080.5]      3633\n",
      "(525080.5, 630064.4]      1989\n",
      "(630064.4, 735048.3]      1034\n",
      "(735048.3, 840032.2]       541\n",
      "(840032.2, 945016.1]       231\n",
      "(945016.1, 1050000.0]       31\n",
      "Name: landtaxvaluedollarcnt, dtype: int64\n",
      "(18.358, 3113.1]      15413\n",
      "(3113.1, 6177.2]      17765\n",
      "(6177.2, 9241.3]       7932\n",
      "(9241.3, 12305.4]      2645\n",
      "(12305.4, 15369.5]      597\n",
      "(15369.5, 18433.6]       50\n",
      "(18433.6, 21497.7]       10\n",
      "(21497.7, 24561.8]        3\n",
      "(24561.8, 27625.9]        0\n",
      "(27625.9, 30690.0]        1\n",
      "Name: tax_amount, dtype: int64\n",
      "los_angeles    28943\n",
      "orange         11654\n",
      "ventura         3819\n",
      "Name: county, dtype: int64\n",
      "=================================================\n",
      "nulls in dataframe by column: \n",
      "                            num_rows_missing  pct_rows_missing\n",
      "parcelid                                   0               0.0\n",
      "logerror                                   0               0.0\n",
      "bathrooms                                  0               0.0\n",
      "bedrooms                                   0               0.0\n",
      "total_sqft                                 0               0.0\n",
      "county_code                                0               0.0\n",
      "latitude                                   0               0.0\n",
      "longitude                                  0               0.0\n",
      "lotsizesquarefeet                          0               0.0\n",
      "regionidcity                               0               0.0\n",
      "regionidcounty                             0               0.0\n",
      "regionidzip                                0               0.0\n",
      "year_built                                 0               0.0\n",
      "structuretaxvaluedollarcnt                 0               0.0\n",
      "value_assessed                             0               0.0\n",
      "landtaxvaluedollarcnt                      0               0.0\n",
      "tax_amount                                 0               0.0\n",
      "county                                     0               0.0\n",
      "=================================================\n",
      "nulls in dataframe by row: \n",
      "  num_cols_missing pct_cols_missing  num_rows\n",
      "0                0              0.0     44416\n",
      "=================================================\n"
     ]
    }
   ],
   "source": [
    "#function from explore.py that gets info on data: \n",
    "#missing columns, dtypes, nulls, value counts\n",
    "summary = explore.summarize(zillow)"
   ]
  },
  {
   "cell_type": "code",
   "execution_count": null,
   "metadata": {},
   "outputs": [],
   "source": []
  }
 ],
 "metadata": {
  "kernelspec": {
   "display_name": "Python 3",
   "language": "python",
   "name": "python3"
  },
  "language_info": {
   "codemirror_mode": {
    "name": "ipython",
    "version": 3
   },
   "file_extension": ".py",
   "mimetype": "text/x-python",
   "name": "python",
   "nbconvert_exporter": "python",
   "pygments_lexer": "ipython3",
   "version": "3.8.5"
  }
 },
 "nbformat": 4,
 "nbformat_minor": 4
}

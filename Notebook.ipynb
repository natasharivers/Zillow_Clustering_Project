{
 "cells": [
  {
   "cell_type": "markdown",
   "metadata": {},
   "source": [
    "![](Zillow.jpg)"
   ]
  },
  {
   "cell_type": "markdown",
   "metadata": {},
   "source": [
    "# Zillow Clustering Project\n",
    "## Natasha Rivers\n",
    "### June 28, 2021"
   ]
  },
  {
   "cell_type": "markdown",
   "metadata": {},
   "source": [
    "<hr style=\"border:2px solid black\"> </hr>"
   ]
  },
  {
   "cell_type": "markdown",
   "metadata": {},
   "source": [
    "### Imports"
   ]
  },
  {
   "cell_type": "code",
   "execution_count": 1,
   "metadata": {},
   "outputs": [],
   "source": [
    "import acquire\n",
    "import prepare\n",
    "import explore\n",
    "\n",
    "import pandas as pd\n",
    "import numpy as np\n",
    "import seaborn as sns\n",
    "import matplotlib.pyplot as plt\n",
    "\n",
    "from sklearn.model_selection import train_test_split\n",
    "from sklearn.impute import SimpleImputer\n",
    "from sklearn.preprocessing import MinMaxScaler\n",
    "from sklearn.feature_selection import RFE, SelectKBest, f_regression\n",
    "from sklearn.linear_model import LinearRegression, TweedieRegressor, LassoLars\n",
    "\n",
    "import warnings\n",
    "warnings.filterwarnings(\"ignore\")"
   ]
  },
  {
   "cell_type": "markdown",
   "metadata": {},
   "source": [
    "<hr style=\"border:2px solid black\"> </hr>"
   ]
  },
  {
   "cell_type": "markdown",
   "metadata": {},
   "source": [
    "## Acquire"
   ]
  },
  {
   "cell_type": "code",
   "execution_count": 2,
   "metadata": {},
   "outputs": [],
   "source": [
    "def get_connection(db_name):\n",
    "    '''\n",
    "    This function uses my info from my env file to\n",
    "    create a connection url to access the Codeup db.\n",
    "    '''\n",
    "    from env import host, user, password\n",
    "    return f'mysql+pymysql://{user}:{password}@{host}/{db_name}'"
   ]
  },
  {
   "cell_type": "code",
   "execution_count": 3,
   "metadata": {},
   "outputs": [],
   "source": [
    "#my query is as follows:\n",
    "def get_zillow():\n",
    "    '''\n",
    "    This function reads in the Zillow data from the Codeup db\n",
    "    with all tables joined\n",
    "    returns: a pandas DataFrame \n",
    "    '''\n",
    "    \n",
    "    zc_query = '''\n",
    "    select prop.parcelid\n",
    "        , pred.logerror\n",
    "        , bathroomcnt\n",
    "        , bedroomcnt\n",
    "        , calculatedfinishedsquarefeet\n",
    "        , fips\n",
    "        , latitude\n",
    "        , longitude\n",
    "        , lotsizesquarefeet\n",
    "        , regionidcity\n",
    "        , regionidcounty\n",
    "        , regionidzip\n",
    "        , yearbuilt\n",
    "        , structuretaxvaluedollarcnt\n",
    "        , taxvaluedollarcnt\n",
    "        , landtaxvaluedollarcnt\n",
    "        , taxamount\n",
    "    from properties_2017 prop\n",
    "    inner join predictions_2017 pred on prop.parcelid = pred.parcelid\n",
    "    where propertylandusetypeid = 261;\n",
    "    '''\n",
    "\n",
    "    return pd.read_sql(zc_query, get_connection('zillow'))"
   ]
  },
  {
   "cell_type": "code",
   "execution_count": 4,
   "metadata": {},
   "outputs": [],
   "source": [
    "def get_zillow_file():\n",
    "    '''\n",
    "    This function reads in the zillow csv if it is available\n",
    "    if not, one is created and read in as a pandas dataframe\n",
    "    using the SQL query and connection functions above\n",
    "    '''\n",
    "    if os.path.isfile('zillow.csv'):\n",
    "        df = pd.read_csv('zillow.csv', index_col=0)\n",
    "    \n",
    "    else:\n",
    "        df = get_zillow()\n",
    "        df.to_csv('zillow.csv')\n",
    "    \n",
    "    return df"
   ]
  },
  {
   "cell_type": "code",
   "execution_count": 5,
   "metadata": {},
   "outputs": [],
   "source": [
    "#function from acquire.py \n",
    "zillow = acquire.get_zillow_file()"
   ]
  },
  {
   "cell_type": "code",
   "execution_count": 6,
   "metadata": {
    "scrolled": true
   },
   "outputs": [
    {
     "data": {
      "text/html": [
       "<div>\n",
       "<style scoped>\n",
       "    .dataframe tbody tr th:only-of-type {\n",
       "        vertical-align: middle;\n",
       "    }\n",
       "\n",
       "    .dataframe tbody tr th {\n",
       "        vertical-align: top;\n",
       "    }\n",
       "\n",
       "    .dataframe thead th {\n",
       "        text-align: right;\n",
       "    }\n",
       "</style>\n",
       "<table border=\"1\" class=\"dataframe\">\n",
       "  <thead>\n",
       "    <tr style=\"text-align: right;\">\n",
       "      <th></th>\n",
       "      <th>parcelid</th>\n",
       "      <th>logerror</th>\n",
       "      <th>bathroomcnt</th>\n",
       "      <th>bedroomcnt</th>\n",
       "      <th>calculatedfinishedsquarefeet</th>\n",
       "      <th>fips</th>\n",
       "      <th>latitude</th>\n",
       "      <th>longitude</th>\n",
       "      <th>lotsizesquarefeet</th>\n",
       "      <th>regionidcity</th>\n",
       "      <th>regionidcounty</th>\n",
       "      <th>regionidzip</th>\n",
       "      <th>yearbuilt</th>\n",
       "      <th>structuretaxvaluedollarcnt</th>\n",
       "      <th>taxvaluedollarcnt</th>\n",
       "      <th>landtaxvaluedollarcnt</th>\n",
       "      <th>taxamount</th>\n",
       "    </tr>\n",
       "  </thead>\n",
       "  <tbody>\n",
       "    <tr>\n",
       "      <th>0</th>\n",
       "      <td>14297519</td>\n",
       "      <td>0.025595</td>\n",
       "      <td>3.5</td>\n",
       "      <td>4.0</td>\n",
       "      <td>3100.0</td>\n",
       "      <td>6059.0</td>\n",
       "      <td>33634931.0</td>\n",
       "      <td>-117869207.0</td>\n",
       "      <td>4506.0</td>\n",
       "      <td>53571.0</td>\n",
       "      <td>1286.0</td>\n",
       "      <td>96978.0</td>\n",
       "      <td>1998.0</td>\n",
       "      <td>485713.0</td>\n",
       "      <td>1023282.0</td>\n",
       "      <td>537569.0</td>\n",
       "      <td>11013.72</td>\n",
       "    </tr>\n",
       "    <tr>\n",
       "      <th>1</th>\n",
       "      <td>17052889</td>\n",
       "      <td>0.055619</td>\n",
       "      <td>1.0</td>\n",
       "      <td>2.0</td>\n",
       "      <td>1465.0</td>\n",
       "      <td>6111.0</td>\n",
       "      <td>34449266.0</td>\n",
       "      <td>-119281531.0</td>\n",
       "      <td>12647.0</td>\n",
       "      <td>13091.0</td>\n",
       "      <td>2061.0</td>\n",
       "      <td>97099.0</td>\n",
       "      <td>1967.0</td>\n",
       "      <td>88000.0</td>\n",
       "      <td>464000.0</td>\n",
       "      <td>376000.0</td>\n",
       "      <td>5672.48</td>\n",
       "    </tr>\n",
       "    <tr>\n",
       "      <th>2</th>\n",
       "      <td>14186244</td>\n",
       "      <td>0.005383</td>\n",
       "      <td>2.0</td>\n",
       "      <td>3.0</td>\n",
       "      <td>1243.0</td>\n",
       "      <td>6059.0</td>\n",
       "      <td>33886168.0</td>\n",
       "      <td>-117823170.0</td>\n",
       "      <td>8432.0</td>\n",
       "      <td>21412.0</td>\n",
       "      <td>1286.0</td>\n",
       "      <td>97078.0</td>\n",
       "      <td>1962.0</td>\n",
       "      <td>85289.0</td>\n",
       "      <td>564778.0</td>\n",
       "      <td>479489.0</td>\n",
       "      <td>6488.30</td>\n",
       "    </tr>\n",
       "    <tr>\n",
       "      <th>3</th>\n",
       "      <td>12177905</td>\n",
       "      <td>-0.103410</td>\n",
       "      <td>3.0</td>\n",
       "      <td>4.0</td>\n",
       "      <td>2376.0</td>\n",
       "      <td>6037.0</td>\n",
       "      <td>34245180.0</td>\n",
       "      <td>-118240722.0</td>\n",
       "      <td>13038.0</td>\n",
       "      <td>396551.0</td>\n",
       "      <td>3101.0</td>\n",
       "      <td>96330.0</td>\n",
       "      <td>1970.0</td>\n",
       "      <td>108918.0</td>\n",
       "      <td>145143.0</td>\n",
       "      <td>36225.0</td>\n",
       "      <td>1777.51</td>\n",
       "    </tr>\n",
       "    <tr>\n",
       "      <th>4</th>\n",
       "      <td>12095076</td>\n",
       "      <td>-0.001011</td>\n",
       "      <td>3.0</td>\n",
       "      <td>4.0</td>\n",
       "      <td>2962.0</td>\n",
       "      <td>6037.0</td>\n",
       "      <td>34145202.0</td>\n",
       "      <td>-118179824.0</td>\n",
       "      <td>63000.0</td>\n",
       "      <td>47019.0</td>\n",
       "      <td>3101.0</td>\n",
       "      <td>96293.0</td>\n",
       "      <td>1950.0</td>\n",
       "      <td>276684.0</td>\n",
       "      <td>773303.0</td>\n",
       "      <td>496619.0</td>\n",
       "      <td>9516.26</td>\n",
       "    </tr>\n",
       "  </tbody>\n",
       "</table>\n",
       "</div>"
      ],
      "text/plain": [
       "   parcelid  logerror  bathroomcnt  bedroomcnt  calculatedfinishedsquarefeet  \\\n",
       "0  14297519  0.025595          3.5         4.0                        3100.0   \n",
       "1  17052889  0.055619          1.0         2.0                        1465.0   \n",
       "2  14186244  0.005383          2.0         3.0                        1243.0   \n",
       "3  12177905 -0.103410          3.0         4.0                        2376.0   \n",
       "4  12095076 -0.001011          3.0         4.0                        2962.0   \n",
       "\n",
       "     fips    latitude    longitude  lotsizesquarefeet  regionidcity  \\\n",
       "0  6059.0  33634931.0 -117869207.0             4506.0       53571.0   \n",
       "1  6111.0  34449266.0 -119281531.0            12647.0       13091.0   \n",
       "2  6059.0  33886168.0 -117823170.0             8432.0       21412.0   \n",
       "3  6037.0  34245180.0 -118240722.0            13038.0      396551.0   \n",
       "4  6037.0  34145202.0 -118179824.0            63000.0       47019.0   \n",
       "\n",
       "   regionidcounty  regionidzip  yearbuilt  structuretaxvaluedollarcnt  \\\n",
       "0          1286.0      96978.0     1998.0                    485713.0   \n",
       "1          2061.0      97099.0     1967.0                     88000.0   \n",
       "2          1286.0      97078.0     1962.0                     85289.0   \n",
       "3          3101.0      96330.0     1970.0                    108918.0   \n",
       "4          3101.0      96293.0     1950.0                    276684.0   \n",
       "\n",
       "   taxvaluedollarcnt  landtaxvaluedollarcnt  taxamount  \n",
       "0          1023282.0               537569.0   11013.72  \n",
       "1           464000.0               376000.0    5672.48  \n",
       "2           564778.0               479489.0    6488.30  \n",
       "3           145143.0                36225.0    1777.51  \n",
       "4           773303.0               496619.0    9516.26  "
      ]
     },
     "execution_count": 6,
     "metadata": {},
     "output_type": "execute_result"
    }
   ],
   "source": [
    "zillow.head()"
   ]
  },
  {
   "cell_type": "code",
   "execution_count": 7,
   "metadata": {},
   "outputs": [
    {
     "data": {
      "text/plain": [
       "parcelid                          int64\n",
       "logerror                        float64\n",
       "bathroomcnt                     float64\n",
       "bedroomcnt                      float64\n",
       "calculatedfinishedsquarefeet    float64\n",
       "fips                            float64\n",
       "latitude                        float64\n",
       "longitude                       float64\n",
       "lotsizesquarefeet               float64\n",
       "regionidcity                    float64\n",
       "regionidcounty                  float64\n",
       "regionidzip                     float64\n",
       "yearbuilt                       float64\n",
       "structuretaxvaluedollarcnt      float64\n",
       "taxvaluedollarcnt               float64\n",
       "landtaxvaluedollarcnt           float64\n",
       "taxamount                       float64\n",
       "dtype: object"
      ]
     },
     "execution_count": 7,
     "metadata": {},
     "output_type": "execute_result"
    }
   ],
   "source": [
    "zillow.dtypes"
   ]
  },
  {
   "cell_type": "code",
   "execution_count": 8,
   "metadata": {},
   "outputs": [
    {
     "name": "stdout",
     "output_type": "stream",
     "text": [
      "<class 'pandas.core.frame.DataFrame'>\n",
      "Int64Index: 52442 entries, 0 to 52441\n",
      "Data columns (total 17 columns):\n",
      " #   Column                        Non-Null Count  Dtype  \n",
      "---  ------                        --------------  -----  \n",
      " 0   parcelid                      52442 non-null  int64  \n",
      " 1   logerror                      52442 non-null  float64\n",
      " 2   bathroomcnt                   52442 non-null  float64\n",
      " 3   bedroomcnt                    52442 non-null  float64\n",
      " 4   calculatedfinishedsquarefeet  52360 non-null  float64\n",
      " 5   fips                          52442 non-null  float64\n",
      " 6   latitude                      52442 non-null  float64\n",
      " 7   longitude                     52442 non-null  float64\n",
      " 8   lotsizesquarefeet             52073 non-null  float64\n",
      " 9   regionidcity                  51405 non-null  float64\n",
      " 10  regionidcounty                52442 non-null  float64\n",
      " 11  regionidzip                   52416 non-null  float64\n",
      " 12  yearbuilt                     52326 non-null  float64\n",
      " 13  structuretaxvaluedollarcnt    52358 non-null  float64\n",
      " 14  taxvaluedollarcnt             52441 non-null  float64\n",
      " 15  landtaxvaluedollarcnt         52441 non-null  float64\n",
      " 16  taxamount                     52438 non-null  float64\n",
      "dtypes: float64(16), int64(1)\n",
      "memory usage: 7.2 MB\n"
     ]
    }
   ],
   "source": [
    "#52442 entries,17 columns several nulls, incorrect dtypes\n",
    "zillow.info()"
   ]
  },
  {
   "cell_type": "code",
   "execution_count": 9,
   "metadata": {},
   "outputs": [
    {
     "data": {
      "text/plain": [
       "(52442, 17)"
      ]
     },
     "execution_count": 9,
     "metadata": {},
     "output_type": "execute_result"
    }
   ],
   "source": [
    "zillow.shape"
   ]
  },
  {
   "cell_type": "markdown",
   "metadata": {},
   "source": [
    "## Takeaways from Acquire:\n",
    "- based somewhat on personal interpretation, different \"propertylandusetypeid\" may be used. \n",
    "    - ended up settling on \"261\" (single-family residential)\n",
    "- creating a function to save get_zillow into a csv will drastically reduce time to import\n",
    "- 52,442 entries\n",
    "- 17 different columns\n",
    "    - appear to have some nulls (further explore this in prepare)\n",
    "    - all numeric datatypes (float64 & int64)"
   ]
  },
  {
   "cell_type": "markdown",
   "metadata": {},
   "source": [
    "<hr style=\"border:2px solid black\"> </hr>"
   ]
  },
  {
   "cell_type": "markdown",
   "metadata": {},
   "source": [
    "## Prepare"
   ]
  },
  {
   "cell_type": "code",
   "execution_count": 10,
   "metadata": {},
   "outputs": [
    {
     "data": {
      "image/png": "[encoded data removed]",
      "text/plain": [
       "<Figure size 432x288 with 1 Axes>"
      ]
     },
     "metadata": {
      "needs_background": "light"
     },
     "output_type": "display_data"
    },
    {
     "data": {
      "image/png": "[encoded data removed]",
      "text/plain": [
       "<Figure size 432x288 with 1 Axes>"
      ]
     },
     "metadata": {
      "needs_background": "light"
     },
     "output_type": "display_data"
    },
    {
     "data": {
      "image/png": "[encoded data removed]",
      "text/plain": [
       "<Figure size 432x288 with 1 Axes>"
      ]
     },
     "metadata": {
      "needs_background": "light"
     },
     "output_type": "display_data"
    },
    {
     "data": {
      "image/png": "[encoded data removed]",
      "text/plain": [
       "<Figure size 432x288 with 1 Axes>"
      ]
     },
     "metadata": {
      "needs_background": "light"
     },
     "output_type": "display_data"
    },
    {
     "data": {
      "image/png": "[encoded data removed]",
      "text/plain": [
       "<Figure size 432x288 with 1 Axes>"
      ]
     },
     "metadata": {
      "needs_background": "light"
     },
     "output_type": "display_data"
    },
    {
     "data": {
      "image/png": "[encoded data removed]",
      "text/plain": [
       "<Figure size 432x288 with 1 Axes>"
      ]
     },
     "metadata": {
      "needs_background": "light"
     },
     "output_type": "display_data"
    },
    {
     "data": {
      "image/png": "[encoded data removed]",
      "text/plain": [
       "<Figure size 432x288 with 1 Axes>"
      ]
     },
     "metadata": {
      "needs_background": "light"
     },
     "output_type": "display_data"
    },
    {
     "data": {
      "image/png": "[encoded data removed]",
      "text/plain": [
       "<Figure size 432x288 with 1 Axes>"
      ]
     },
     "metadata": {
      "needs_background": "light"
     },
     "output_type": "display_data"
    },
    {
     "data": {
      "image/png": "[encoded data removed]",
      "text/plain": [
       "<Figure size 432x288 with 1 Axes>"
      ]
     },
     "metadata": {
      "needs_background": "light"
     },
     "output_type": "display_data"
    },
    {
     "data": {
      "image/png": "[encoded data removed]",
      "text/plain": [
       "<Figure size 432x288 with 1 Axes>"
      ]
     },
     "metadata": {
      "needs_background": "light"
     },
     "output_type": "display_data"
    },
    {
     "data": {
      "image/png": "[encoded data removed]",
      "text/plain": [
       "<Figure size 432x288 with 1 Axes>"
      ]
     },
     "metadata": {
      "needs_background": "light"
     },
     "output_type": "display_data"
    },
    {
     "data": {
      "image/png": "[encoded data removed]",
      "text/plain": [
       "<Figure size 432x288 with 1 Axes>"
      ]
     },
     "metadata": {
      "needs_background": "light"
     },
     "output_type": "display_data"
    },
    {
     "data": {
      "image/png": "[encoded data removed]",
      "text/plain": [
       "<Figure size 432x288 with 1 Axes>"
      ]
     },
     "metadata": {
      "needs_background": "light"
     },
     "output_type": "display_data"
    },
    {
     "data": {
      "image/png": "[encoded data removed]",
      "text/plain": [
       "<Figure size 432x288 with 1 Axes>"
      ]
     },
     "metadata": {
      "needs_background": "light"
     },
     "output_type": "display_data"
    },
    {
     "data": {
      "image/png": "[encoded data removed]",
      "text/plain": [
       "<Figure size 432x288 with 1 Axes>"
      ]
     },
     "metadata": {
      "needs_background": "light"
     },
     "output_type": "display_data"
    },
    {
     "data": {
      "image/png": "[encoded data removed]",
      "text/plain": [
       "<Figure size 432x288 with 1 Axes>"
      ]
     },
     "metadata": {
      "needs_background": "light"
     },
     "output_type": "display_data"
    },
    {
     "data": {
      "image/png": "[encoded data removed]",
      "text/plain": [
       "<Figure size 432x288 with 1 Axes>"
      ]
     },
     "metadata": {
      "needs_background": "light"
     },
     "output_type": "display_data"
    }
   ],
   "source": [
    "#visualize distributions \n",
    "#check for outliers\n",
    "for col in zillow.columns:\n",
    "    plt.hist(zillow[col])\n",
    "    plt.title(col)\n",
    "    plt.show()"
   ]
  },
  {
   "cell_type": "code",
   "execution_count": 11,
   "metadata": {},
   "outputs": [
    {
     "data": {
      "text/plain": [
       "<AxesSubplot:xlabel='bedroomcnt'>"
      ]
     },
     "execution_count": 11,
     "metadata": {},
     "output_type": "execute_result"
    },
    {
     "data": {
      "image/png": "[encoded data removed]",
      "text/plain": [
       "<Figure size 432x288 with 1 Axes>"
      ]
     },
     "metadata": {
      "needs_background": "light"
     },
     "output_type": "display_data"
    }
   ],
   "source": [
    "#specifically visualize outliers in bedroom\n",
    "sns.boxplot(zillow.bedroomcnt)"
   ]
  },
  {
   "cell_type": "code",
   "execution_count": 12,
   "metadata": {
    "scrolled": false
   },
   "outputs": [
    {
     "data": {
      "text/plain": [
       "parcelid                           0\n",
       "logerror                           0\n",
       "bathroomcnt                        0\n",
       "bedroomcnt                         0\n",
       "calculatedfinishedsquarefeet      82\n",
       "fips                               0\n",
       "latitude                           0\n",
       "longitude                          0\n",
       "lotsizesquarefeet                369\n",
       "regionidcity                    1037\n",
       "regionidcounty                     0\n",
       "regionidzip                       26\n",
       "yearbuilt                        116\n",
       "structuretaxvaluedollarcnt        84\n",
       "taxvaluedollarcnt                  1\n",
       "landtaxvaluedollarcnt              1\n",
       "taxamount                          4\n",
       "dtype: int64"
      ]
     },
     "execution_count": 12,
     "metadata": {},
     "output_type": "execute_result"
    }
   ],
   "source": [
    "#look at null values\n",
    "zillow.isnull().sum()"
   ]
  },
  {
   "cell_type": "code",
   "execution_count": 13,
   "metadata": {},
   "outputs": [],
   "source": [
    "def final_prep_zillow(df):\n",
    "    '''\n",
    "    This function takes in the zillow df acquired by get_zillow_file,\n",
    "    then the function removed outliers from bedrooms, bathrooms, value_assessed, and total_sqft\n",
    "    Returns a cleaned zillow df.\n",
    "    '''\n",
    "\n",
    "    #replace blank spaces and special characters\n",
    "    df = df.replace(r'^\\s*$', np.nan, regex=True)\n",
    "\n",
    "    #drop using threshold\n",
    "    #df = handle_missing_values(df, prop_required_columns = 0.50, prop_required_row=0.75)\n",
    "\n",
    "    #impute finished square feet and lot using mean\n",
    "    df.calculatedfinishedsquarefeet=df.calculatedfinishedsquarefeet.fillna(df.calculatedfinishedsquarefeet.mean())\n",
    "    df.lotsizesquarefeet=df.lotsizesquarefeet.fillna(df.lotsizesquarefeet.mean())\n",
    "\n",
    "    #drop null values\n",
    "    df = df.dropna()\n",
    "\n",
    "    #new column with county names for fips\n",
    "    df['county'] = df.fips.apply(lambda x: 'orange' if x == 6059.0 else 'los_angeles' if x == 6037.0 else 'ventura')\n",
    "\n",
    "    #change datatypes\n",
    "    df.bedroomcnt = df.bedroomcnt.astype(int)\n",
    "    df.calculatedfinishedsquarefeet \n",
    "    df.calculatedfinishedsquarefeet.astype(int)\n",
    "    df.fips = df.fips.astype(int)\n",
    "    df.latitude = df.latitude.astype(int)\n",
    "    df.longitude = df.longitude.astype(int)\n",
    "    df.lotsizesquarefeet = df.lotsizesquarefeet.astype(int)\n",
    "    df.regionidcity = df.regionidcity.astype(int)\n",
    "    df.regionidcounty = df.regionidcounty.astype(int)\n",
    "    df.regionidzip = df.regionidzip.astype(int)\n",
    "    df.yearbuilt = df.yearbuilt.astype(int)\n",
    "    df.structuretaxvaluedollarcnt = df.structuretaxvaluedollarcnt.astype(int)\n",
    "    df.taxvaluedollarcnt = df.taxvaluedollarcnt.astype(int)\n",
    "    df.landtaxvaluedollarcnt = df.landtaxvaluedollarcnt.astype(int)\n",
    "    df.taxamount = df.taxamount.astype(int)\n",
    "\n",
    "    #change column names to be more legible\n",
    "    df = df.rename(columns={\"calculatedfinishedsquarefeet\": \"total_sqft\", \"bedroomcnt\": \"bedrooms\", \"bathroomcnt\": \"bathrooms\", \"taxvaluedollarcnt\": \"value_assessed\", \"taxamount\": \"tax_amount\", \"yearbuilt\": \"year_built\", \"fips\": \"county_code\"})\n",
    "\n",
    "    #remove outliers for bedrooms\n",
    "    q1_bed = df['bedrooms'].quantile(0.25)\n",
    "    q3_bed = df['bedrooms'].quantile(0.75)\n",
    "    iqr_bed = q3_bed - q1_bed\n",
    "    lowerbound_bed = q1_bed - (1.5 * iqr_bed)\n",
    "    upperbound_bed = q3_bed + (1.5 * iqr_bed)\n",
    "    df= df[df.bedrooms > lowerbound_bed]\n",
    "    df= df[df.bedrooms < upperbound_bed]\n",
    "\n",
    "    #remove outliers for bathrooms\n",
    "    q1_bath = df['bathrooms'].quantile(0.25)\n",
    "    q3_bath = df['bathrooms'].quantile(0.75)\n",
    "    iqr_bath = q3_bath - q1_bath\n",
    "    lowerbound_bath = q1_bath - (1.5 * iqr_bath)\n",
    "    upperbound_bath = q3_bath + (1.5 * iqr_bath)\n",
    "    df= df[df.bathrooms > lowerbound_bath]\n",
    "    df= df[df.bathrooms < upperbound_bath]\n",
    "\n",
    "    #remove outliers for value assessed\n",
    "    q1_tax = df['value_assessed'].quantile(0.25)\n",
    "    q3_tax = df['value_assessed'].quantile(0.75)\n",
    "    iqr_tax = q3_tax- q1_tax\n",
    "    lowerbound_tax = q1_tax - (1.5 * iqr_tax)\n",
    "    upperbound_tax = q3_tax + (1.5 * iqr_tax)\n",
    "    df= df[df.value_assessed > lowerbound_tax]\n",
    "    df= df[df.value_assessed < upperbound_tax]\n",
    "\n",
    "    #remove outliers for total sqft\n",
    "    q1_sqft = df['total_sqft'].quantile(0.25)\n",
    "    q3_sqft = df['total_sqft'].quantile(0.75)\n",
    "    iqr_sqft = q3_sqft - q1_sqft\n",
    "    lowerbound_sqft = q1_sqft - (1.5 * iqr_sqft)\n",
    "    upperbound_sqft = q3_sqft + (1.5 * iqr_sqft)\n",
    "    df= df[df.total_sqft > lowerbound_sqft]\n",
    "    df= df[df.total_sqft < upperbound_sqft]\n",
    "\n",
    "    #drop duplicates\n",
    "    df.drop_duplicates(inplace=True)\n",
    "    \n",
    "    return df"
   ]
  },
  {
   "cell_type": "code",
   "execution_count": 14,
   "metadata": {},
   "outputs": [],
   "source": [
    "#function from prepare.py that changes column names, changes dtypes, \n",
    "#imputes values, drop nulls and outliers, creates new column with county name\n",
    "\n",
    "zillow = prepare.final_prep_zillow(zillow)"
   ]
  },
  {
   "cell_type": "code",
   "execution_count": 15,
   "metadata": {},
   "outputs": [
    {
     "data": {
      "text/html": [
       "<div>\n",
       "<style scoped>\n",
       "    .dataframe tbody tr th:only-of-type {\n",
       "        vertical-align: middle;\n",
       "    }\n",
       "\n",
       "    .dataframe tbody tr th {\n",
       "        vertical-align: top;\n",
       "    }\n",
       "\n",
       "    .dataframe thead th {\n",
       "        text-align: right;\n",
       "    }\n",
       "</style>\n",
       "<table border=\"1\" class=\"dataframe\">\n",
       "  <thead>\n",
       "    <tr style=\"text-align: right;\">\n",
       "      <th></th>\n",
       "      <th>parcelid</th>\n",
       "      <th>logerror</th>\n",
       "      <th>bathrooms</th>\n",
       "      <th>bedrooms</th>\n",
       "      <th>total_sqft</th>\n",
       "      <th>county_code</th>\n",
       "      <th>latitude</th>\n",
       "      <th>longitude</th>\n",
       "      <th>lotsizesquarefeet</th>\n",
       "      <th>regionidcity</th>\n",
       "      <th>regionidcounty</th>\n",
       "      <th>regionidzip</th>\n",
       "      <th>year_built</th>\n",
       "      <th>structuretaxvaluedollarcnt</th>\n",
       "      <th>value_assessed</th>\n",
       "      <th>landtaxvaluedollarcnt</th>\n",
       "      <th>tax_amount</th>\n",
       "      <th>county</th>\n",
       "    </tr>\n",
       "  </thead>\n",
       "  <tbody>\n",
       "    <tr>\n",
       "      <th>0</th>\n",
       "      <td>14297519</td>\n",
       "      <td>0.025595</td>\n",
       "      <td>3.5</td>\n",
       "      <td>4</td>\n",
       "      <td>3100.0</td>\n",
       "      <td>6059</td>\n",
       "      <td>33634931</td>\n",
       "      <td>-117869207</td>\n",
       "      <td>4506</td>\n",
       "      <td>53571</td>\n",
       "      <td>1286</td>\n",
       "      <td>96978</td>\n",
       "      <td>1998</td>\n",
       "      <td>485713</td>\n",
       "      <td>1023282</td>\n",
       "      <td>537569</td>\n",
       "      <td>11013</td>\n",
       "      <td>orange</td>\n",
       "    </tr>\n",
       "    <tr>\n",
       "      <th>1</th>\n",
       "      <td>17052889</td>\n",
       "      <td>0.055619</td>\n",
       "      <td>1.0</td>\n",
       "      <td>2</td>\n",
       "      <td>1465.0</td>\n",
       "      <td>6111</td>\n",
       "      <td>34449266</td>\n",
       "      <td>-119281531</td>\n",
       "      <td>12647</td>\n",
       "      <td>13091</td>\n",
       "      <td>2061</td>\n",
       "      <td>97099</td>\n",
       "      <td>1967</td>\n",
       "      <td>88000</td>\n",
       "      <td>464000</td>\n",
       "      <td>376000</td>\n",
       "      <td>5672</td>\n",
       "      <td>ventura</td>\n",
       "    </tr>\n",
       "    <tr>\n",
       "      <th>2</th>\n",
       "      <td>14186244</td>\n",
       "      <td>0.005383</td>\n",
       "      <td>2.0</td>\n",
       "      <td>3</td>\n",
       "      <td>1243.0</td>\n",
       "      <td>6059</td>\n",
       "      <td>33886168</td>\n",
       "      <td>-117823170</td>\n",
       "      <td>8432</td>\n",
       "      <td>21412</td>\n",
       "      <td>1286</td>\n",
       "      <td>97078</td>\n",
       "      <td>1962</td>\n",
       "      <td>85289</td>\n",
       "      <td>564778</td>\n",
       "      <td>479489</td>\n",
       "      <td>6488</td>\n",
       "      <td>orange</td>\n",
       "    </tr>\n",
       "    <tr>\n",
       "      <th>3</th>\n",
       "      <td>12177905</td>\n",
       "      <td>-0.103410</td>\n",
       "      <td>3.0</td>\n",
       "      <td>4</td>\n",
       "      <td>2376.0</td>\n",
       "      <td>6037</td>\n",
       "      <td>34245180</td>\n",
       "      <td>-118240722</td>\n",
       "      <td>13038</td>\n",
       "      <td>396551</td>\n",
       "      <td>3101</td>\n",
       "      <td>96330</td>\n",
       "      <td>1970</td>\n",
       "      <td>108918</td>\n",
       "      <td>145143</td>\n",
       "      <td>36225</td>\n",
       "      <td>1777</td>\n",
       "      <td>los_angeles</td>\n",
       "    </tr>\n",
       "    <tr>\n",
       "      <th>4</th>\n",
       "      <td>12095076</td>\n",
       "      <td>-0.001011</td>\n",
       "      <td>3.0</td>\n",
       "      <td>4</td>\n",
       "      <td>2962.0</td>\n",
       "      <td>6037</td>\n",
       "      <td>34145202</td>\n",
       "      <td>-118179824</td>\n",
       "      <td>63000</td>\n",
       "      <td>47019</td>\n",
       "      <td>3101</td>\n",
       "      <td>96293</td>\n",
       "      <td>1950</td>\n",
       "      <td>276684</td>\n",
       "      <td>773303</td>\n",
       "      <td>496619</td>\n",
       "      <td>9516</td>\n",
       "      <td>los_angeles</td>\n",
       "    </tr>\n",
       "  </tbody>\n",
       "</table>\n",
       "</div>"
      ],
      "text/plain": [
       "   parcelid  logerror  bathrooms  bedrooms  total_sqft  county_code  latitude  \\\n",
       "0  14297519  0.025595        3.5         4      3100.0         6059  33634931   \n",
       "1  17052889  0.055619        1.0         2      1465.0         6111  34449266   \n",
       "2  14186244  0.005383        2.0         3      1243.0         6059  33886168   \n",
       "3  12177905 -0.103410        3.0         4      2376.0         6037  34245180   \n",
       "4  12095076 -0.001011        3.0         4      2962.0         6037  34145202   \n",
       "\n",
       "   longitude  lotsizesquarefeet  regionidcity  regionidcounty  regionidzip  \\\n",
       "0 -117869207               4506         53571            1286        96978   \n",
       "1 -119281531              12647         13091            2061        97099   \n",
       "2 -117823170               8432         21412            1286        97078   \n",
       "3 -118240722              13038        396551            3101        96330   \n",
       "4 -118179824              63000         47019            3101        96293   \n",
       "\n",
       "   year_built  structuretaxvaluedollarcnt  value_assessed  \\\n",
       "0        1998                      485713         1023282   \n",
       "1        1967                       88000          464000   \n",
       "2        1962                       85289          564778   \n",
       "3        1970                      108918          145143   \n",
       "4        1950                      276684          773303   \n",
       "\n",
       "   landtaxvaluedollarcnt  tax_amount       county  \n",
       "0                 537569       11013       orange  \n",
       "1                 376000        5672      ventura  \n",
       "2                 479489        6488       orange  \n",
       "3                  36225        1777  los_angeles  \n",
       "4                 496619        9516  los_angeles  "
      ]
     },
     "execution_count": 15,
     "metadata": {},
     "output_type": "execute_result"
    }
   ],
   "source": [
    "#as you can see.. column names have been changed\n",
    "zillow.head()"
   ]
  },
  {
   "cell_type": "code",
   "execution_count": 16,
   "metadata": {},
   "outputs": [
    {
     "data": {
      "text/plain": [
       "parcelid                        int64\n",
       "logerror                      float64\n",
       "bathrooms                     float64\n",
       "bedrooms                        int64\n",
       "total_sqft                    float64\n",
       "county_code                     int64\n",
       "latitude                        int64\n",
       "longitude                       int64\n",
       "lotsizesquarefeet               int64\n",
       "regionidcity                    int64\n",
       "regionidcounty                  int64\n",
       "regionidzip                     int64\n",
       "year_built                      int64\n",
       "structuretaxvaluedollarcnt      int64\n",
       "value_assessed                  int64\n",
       "landtaxvaluedollarcnt           int64\n",
       "tax_amount                      int64\n",
       "county                         object\n",
       "dtype: object"
      ]
     },
     "execution_count": 16,
     "metadata": {},
     "output_type": "execute_result"
    }
   ],
   "source": [
    "#prepare.py also changed dtypes\n",
    "zillow.dtypes"
   ]
  },
  {
   "cell_type": "code",
   "execution_count": 17,
   "metadata": {},
   "outputs": [
    {
     "data": {
      "text/plain": [
       "parcelid                      0\n",
       "logerror                      0\n",
       "bathrooms                     0\n",
       "bedrooms                      0\n",
       "total_sqft                    0\n",
       "county_code                   0\n",
       "latitude                      0\n",
       "longitude                     0\n",
       "lotsizesquarefeet             0\n",
       "regionidcity                  0\n",
       "regionidcounty                0\n",
       "regionidzip                   0\n",
       "year_built                    0\n",
       "structuretaxvaluedollarcnt    0\n",
       "value_assessed                0\n",
       "landtaxvaluedollarcnt         0\n",
       "tax_amount                    0\n",
       "county                        0\n",
       "dtype: int64"
      ]
     },
     "execution_count": 17,
     "metadata": {},
     "output_type": "execute_result"
    }
   ],
   "source": [
    "#prepare.py imputed values with mean and dropped others\n",
    "zillow.isnull().sum()"
   ]
  },
  {
   "cell_type": "code",
   "execution_count": 18,
   "metadata": {},
   "outputs": [
    {
     "data": {
      "text/plain": [
       "(44416, 18)"
      ]
     },
     "execution_count": 18,
     "metadata": {},
     "output_type": "execute_result"
    }
   ],
   "source": [
    "#new shape after dropping outliers and nulls that were not imputed\n",
    "zillow.shape"
   ]
  },
  {
   "cell_type": "code",
   "execution_count": 19,
   "metadata": {},
   "outputs": [
    {
     "data": {
      "text/plain": [
       "<AxesSubplot:xlabel='bedrooms'>"
      ]
     },
     "execution_count": 19,
     "metadata": {},
     "output_type": "execute_result"
    },
    {
     "data": {
      "image/png": "[encoded data removed]",
      "text/plain": [
       "<Figure size 432x288 with 1 Axes>"
      ]
     },
     "metadata": {
      "needs_background": "light"
     },
     "output_type": "display_data"
    }
   ],
   "source": [
    "#visual that outliers were dropped \n",
    "sns.boxplot(zillow.bedrooms)"
   ]
  },
  {
   "cell_type": "code",
   "execution_count": 20,
   "metadata": {},
   "outputs": [
    {
     "data": {
      "text/plain": [
       "count    44416.000000\n",
       "mean         0.016695\n",
       "std          0.166244\n",
       "min         -4.655420\n",
       "25%         -0.024794\n",
       "50%          0.005799\n",
       "75%          0.037135\n",
       "max          3.394544\n",
       "Name: logerror, dtype: float64"
      ]
     },
     "execution_count": 20,
     "metadata": {},
     "output_type": "execute_result"
    }
   ],
   "source": [
    "#take a look at our target\n",
    "zillow.logerror.describe()"
   ]
  },
  {
   "cell_type": "code",
   "execution_count": 21,
   "metadata": {
    "scrolled": true
   },
   "outputs": [
    {
     "data": {
      "image/png": "[encoded data removed]",
      "text/plain": [
       "<Figure size 432x288 with 1 Axes>"
      ]
     },
     "metadata": {
      "needs_background": "light"
     },
     "output_type": "display_data"
    }
   ],
   "source": [
    "#taxvalue with outliers removed\n",
    "sns.histplot(data=zillow.logerror)\n",
    "plt.title('Distribution of Logerror')\n",
    "plt.show()"
   ]
  },
  {
   "cell_type": "code",
   "execution_count": 22,
   "metadata": {},
   "outputs": [
    {
     "name": "stdout",
     "output_type": "stream",
     "text": [
      "train -> (24872, 18)\n",
      "validate -> (10660, 18)\n",
      "test -> (8884, 18)\n"
     ]
    }
   ],
   "source": [
    "#train validate test split\n",
    "#split data using zillow_split function from prepare.py\n",
    "train, validate, test, X_train, y_train, X_validate, y_validate, X_test, y_test = prepare.zillow_split(zillow, 'logerror')"
   ]
  },
  {
   "cell_type": "markdown",
   "metadata": {},
   "source": [
    "## Takeaways from Prepare \n",
    "- several columns were renamed in order to make them more legible\n",
    "- duplicates were dropped on parcelid\n",
    "- null values were imputed by mean for lotsizesquarefeet and total_sqft\n",
    "- outliers were dropped from bedrooms, bathrooms, total_sqft and value_assessed columns\n",
    "- created column titled \"county\" that uses county_code to name column\n",
    "- final dataframe contains 44416 entries with 18 columns "
   ]
  },
  {
   "cell_type": "markdown",
   "metadata": {},
   "source": [
    "<hr style=\"border:2px solid black\"> </hr>"
   ]
  },
  {
   "cell_type": "markdown",
   "metadata": {},
   "source": [
    "## Explore"
   ]
  },
  {
   "cell_type": "code",
   "execution_count": 23,
   "metadata": {},
   "outputs": [],
   "source": [
    "def summarize(df):\n",
    "    '''\n",
    "    this function will take in a single argument (a pandas df) \n",
    "    output various statistics on that df, including:\n",
    "    #.head()\n",
    "    #.info()\n",
    "    #.describe()\n",
    "    #.value_counts()\n",
    "    #nulls \n",
    "    '''\n",
    "    #print head\n",
    "    print('=================================================')\n",
    "    print('Dataframe head: ')\n",
    "    print(df.head(3))\n",
    "    \n",
    "    #print info\n",
    "    print('=================================================')\n",
    "    print('Dataframe info: ')\n",
    "    print(df.info())\n",
    "    \n",
    "    #print descriptive stats\n",
    "    print('=================================================')\n",
    "    print('DataFrame Description')\n",
    "    print(df.describe())\n",
    "    num_cols = df.select_dtypes(exclude='O').columns.to_list()\n",
    "    cat_cols = df.select_dtypes(include='O').columns.to_list()\n",
    "    \n",
    "    #print value counts\n",
    "    print('=================================================')\n",
    "    print('Dataframe value counts: ')\n",
    "    for col in df. columns:\n",
    "        if col in cat_cols:\n",
    "            print(df[col].value_counts())\n",
    "        else:\n",
    "            print(df[col].value_counts(bins=10, sort = False))\n",
    "    \n",
    "    #print nulls by column\n",
    "    print('=================================================')\n",
    "    print('nulls in dataframe by column: ')\n",
    "    print(nulls_by_col(df))\n",
    "    \n",
    "    #print nulls by row\n",
    "    print('=================================================')\n",
    "    print('nulls in dataframe by row: ')\n",
    "    print(nulls_by_row(df))\n",
    "    print('=================================================')"
   ]
  },
  {
   "cell_type": "code",
   "execution_count": 24,
   "metadata": {},
   "outputs": [
    {
     "name": "stdout",
     "output_type": "stream",
     "text": [
      "=================================================\n",
      "Dataframe head: \n",
      "   parcelid  logerror  bathrooms  bedrooms  total_sqft  county_code  latitude  \\\n",
      "0  14297519  0.025595        3.5         4      3100.0         6059  33634931   \n",
      "1  17052889  0.055619        1.0         2      1465.0         6111  34449266   \n",
      "2  14186244  0.005383        2.0         3      1243.0         6059  33886168   \n",
      "\n",
      "   longitude  lotsizesquarefeet  regionidcity  regionidcounty  regionidzip  \\\n",
      "0 -117869207               4506         53571            1286        96978   \n",
      "1 -119281531              12647         13091            2061        97099   \n",
      "2 -117823170               8432         21412            1286        97078   \n",
      "\n",
      "   year_built  structuretaxvaluedollarcnt  value_assessed  \\\n",
      "0        1998                      485713         1023282   \n",
      "1        1967                       88000          464000   \n",
      "2        1962                       85289          564778   \n",
      "\n",
      "   landtaxvaluedollarcnt  tax_amount   county  \n",
      "0                 537569       11013   orange  \n",
      "1                 376000        5672  ventura  \n",
      "2                 479489        6488   orange  \n",
      "=================================================\n",
      "Dataframe info: \n",
      "<class 'pandas.core.frame.DataFrame'>\n",
      "Int64Index: 44416 entries, 0 to 52440\n",
      "Data columns (total 18 columns):\n",
      " #   Column                      Non-Null Count  Dtype  \n",
      "---  ------                      --------------  -----  \n",
      " 0   parcelid                    44416 non-null  int64  \n",
      " 1   logerror                    44416 non-null  float64\n",
      " 2   bathrooms                   44416 non-null  float64\n",
      " 3   bedrooms                    44416 non-null  int64  \n",
      " 4   total_sqft                  44416 non-null  float64\n",
      " 5   county_code                 44416 non-null  int64  \n",
      " 6   latitude                    44416 non-null  int64  \n",
      " 7   longitude                   44416 non-null  int64  \n",
      " 8   lotsizesquarefeet           44416 non-null  int64  \n",
      " 9   regionidcity                44416 non-null  int64  \n",
      " 10  regionidcounty              44416 non-null  int64  \n",
      " 11  regionidzip                 44416 non-null  int64  \n",
      " 12  year_built                  44416 non-null  int64  \n",
      " 13  structuretaxvaluedollarcnt  44416 non-null  int64  \n",
      " 14  value_assessed              44416 non-null  int64  \n",
      " 15  landtaxvaluedollarcnt       44416 non-null  int64  \n",
      " 16  tax_amount                  44416 non-null  int64  \n",
      " 17  county                      44416 non-null  object \n",
      "dtypes: float64(3), int64(14), object(1)\n",
      "memory usage: 6.4+ MB\n",
      "None\n",
      "=================================================\n",
      "DataFrame Description\n",
      "           parcelid      logerror     bathrooms      bedrooms    total_sqft  \\\n",
      "count  4.441600e+04  44416.000000  44416.000000  44416.000000  44416.000000   \n",
      "mean   1.296026e+07      0.016695      2.087998      3.200378   1683.540166   \n",
      "std    2.249614e+06      0.166244      0.717016      0.783636    586.419379   \n",
      "min    1.071186e+07     -4.655420      1.000000      2.000000    152.000000   \n",
      "25%    1.148067e+07     -0.024794      2.000000      3.000000   1239.000000   \n",
      "50%    1.260716e+07      0.005799      2.000000      3.000000   1566.000000   \n",
      "75%    1.410626e+07      0.037135      2.500000      4.000000   2042.000000   \n",
      "max    1.629608e+08      3.394544      4.000000      5.000000   3354.000000   \n",
      "\n",
      "        county_code      latitude     longitude  lotsizesquarefeet  \\\n",
      "count  44416.000000  4.441600e+04  4.441600e+04       4.441600e+04   \n",
      "mean    6049.135131  3.402969e+07 -1.181910e+08       9.899362e+03   \n",
      "std       21.226926  2.727824e+05  3.536646e+05       9.088663e+04   \n",
      "min     6037.000000  3.334062e+07 -1.194753e+08       2.360000e+02   \n",
      "25%     6037.000000  3.383507e+07 -1.183831e+08       5.497000e+03   \n",
      "50%     6037.000000  3.401701e+07 -1.181414e+08       6.671500e+03   \n",
      "75%     6059.000000  3.419409e+07 -1.179357e+08       8.190000e+03   \n",
      "max     6111.000000  3.481877e+07 -1.175723e+08       6.971010e+06   \n",
      "\n",
      "        regionidcity  regionidcounty    regionidzip    year_built  \\\n",
      "count   44416.000000    44416.000000   44416.000000  44416.000000   \n",
      "mean    34003.586208     2535.353161   96623.597938   1961.701054   \n",
      "std     50985.193774      798.376540    3828.240601     21.563345   \n",
      "min      3491.000000     1286.000000   95982.000000   1878.000000   \n",
      "25%     12447.000000     1286.000000   96212.000000   1950.000000   \n",
      "50%     24812.000000     3101.000000   96424.000000   1959.000000   \n",
      "75%     40227.000000     3101.000000   97004.000000   1976.000000   \n",
      "max    396556.000000     3101.000000  399675.000000   2016.000000   \n",
      "\n",
      "       structuretaxvaluedollarcnt  value_assessed  landtaxvaluedollarcnt  \\\n",
      "count                44416.000000    4.441600e+04           4.441600e+04   \n",
      "mean                139746.008803    3.704053e+05           2.306593e+05   \n",
      "std                  93062.984441    2.454389e+05           1.917174e+05   \n",
      "min                    302.000000    3.254000e+03           1.610000e+02   \n",
      "25%                  72058.000000    1.716368e+05           6.182325e+04   \n",
      "50%                 118053.000000    3.325210e+05           1.891885e+05   \n",
      "75%                 184697.500000    5.167302e+05           3.474380e+05   \n",
      "max                 804938.000000    1.154401e+06           1.050000e+06   \n",
      "\n",
      "         tax_amount  \n",
      "count  44416.000000  \n",
      "mean    4605.703845  \n",
      "std     2847.421391  \n",
      "min       49.000000  \n",
      "25%     2416.000000  \n",
      "50%     4191.000000  \n",
      "75%     6213.250000  \n",
      "max    30690.000000  \n",
      "=================================================\n",
      "Dataframe value counts: \n",
      "(10559606.04, 25936750.9]     44412\n",
      "(25936750.9, 41161646.8]          0\n",
      "(41161646.8, 56386542.7]          0\n",
      "(56386542.7, 71611438.6]          0\n",
      "(71611438.6, 86836334.5]          0\n",
      "(86836334.5, 102061230.4]         0\n",
      "(102061230.4, 117286126.3]        0\n",
      "(117286126.3, 132511022.2]        0\n",
      "(132511022.2, 147735918.1]        0\n",
      "(147735918.1, 162960814.0]        4\n",
      "Name: parcelid, dtype: int64\n",
      "(-4.664000000000001, -3.85]        2\n",
      "(-3.85, -3.045]                    0\n",
      "(-3.045, -2.24]                   11\n",
      "(-2.24, -1.435]                   13\n",
      "(-1.435, -0.63]                   83\n",
      "(-0.63, 0.175]                 41979\n",
      "(0.175, 0.98]                   2174\n",
      "(0.98, 1.785]                     85\n",
      "(1.785, 2.59]                     63\n",
      "(2.59, 3.395]                      6\n",
      "Name: logerror, dtype: int64\n",
      "(0.996, 1.3]     8771\n",
      "(1.3, 1.6]        822\n",
      "(1.6, 1.9]          0\n",
      "(1.9, 2.2]      20949\n",
      "(2.2, 2.5]       3708\n",
      "(2.5, 2.8]          0\n",
      "(2.8, 3.1]       8890\n",
      "(3.1, 3.4]          0\n",
      "(3.4, 3.7]        411\n",
      "(3.7, 4.0]        865\n",
      "Name: bathrooms, dtype: int64\n",
      "(1.9960000000000002, 2.3]     7946\n",
      "(2.3, 2.6]                       0\n",
      "(2.6, 2.9]                       0\n",
      "(2.9, 3.2]                   21757\n",
      "(3.2, 3.5]                       0\n",
      "(3.5, 3.8]                       0\n",
      "(3.8, 4.1]                   12580\n",
      "(4.1, 4.4]                       0\n",
      "(4.4, 4.7]                       0\n",
      "(4.7, 5.0]                    2133\n",
      "Name: bedrooms, dtype: int64\n",
      "(148.797, 472.2]        3\n",
      "(472.2, 792.4]        856\n",
      "(792.4, 1112.6]      6011\n",
      "(1112.6, 1432.8]    10975\n",
      "(1432.8, 1753.0]     9508\n",
      "(1753.0, 2073.2]     6508\n",
      "(2073.2, 2393.4]     4334\n",
      "(2393.4, 2713.6]     3076\n",
      "(2713.6, 3033.8]     1951\n",
      "(3033.8, 3354.0]     1194\n",
      "Name: total_sqft, dtype: int64\n",
      "(6036.925, 6044.4]    28943\n",
      "(6044.4, 6051.8]          0\n",
      "(6051.8, 6059.2]      11654\n",
      "(6059.2, 6066.6]          0\n",
      "(6066.6, 6074.0]          0\n",
      "(6074.0, 6081.4]          0\n",
      "(6081.4, 6088.8]          0\n",
      "(6088.8, 6096.2]          0\n",
      "(6096.2, 6103.6]          0\n",
      "(6103.6, 6111.0]       3819\n",
      "Name: county_code, dtype: int64\n",
      "(33339141.852, 33488434.7]      543\n",
      "(33488434.7, 33636249.4]       2162\n",
      "(33636249.4, 33784064.1]       5131\n",
      "(33784064.1, 33931878.8]      10041\n",
      "(33931878.8, 34079693.5]       7609\n",
      "(34079693.5, 34227508.2]      10190\n",
      "(34227508.2, 34375322.9]       4181\n",
      "(34375322.9, 34523137.6]       1321\n",
      "(34523137.6, 34670952.3]       2041\n",
      "(34670952.3, 34818767.0]       1197\n",
      "Name: latitude, dtype: int64\n",
      "(-119477167.928, -119284972.3]      139\n",
      "(-119284972.3, -119094679.6]       1219\n",
      "(-119094679.6, -118904386.9]        852\n",
      "(-118904386.9, -118714094.2]       1455\n",
      "(-118714094.2, -118523801.5]       2799\n",
      "(-118523801.5, -118333508.8]       6809\n",
      "(-118333508.8, -118143216.1]       8845\n",
      "(-118143216.1, -117952923.4]      10270\n",
      "(-117952923.4, -117762630.7]       8131\n",
      "(-117762630.7, -117572338.0]       3897\n",
      "Name: longitude, dtype: int64\n",
      "(-6734.775000000001, 697313.4]    44402\n",
      "(697313.4, 1394390.8]                 4\n",
      "(1394390.8, 2091468.2]                2\n",
      "(2091468.2, 2788545.6]                0\n",
      "(2788545.6, 3485623.0]                1\n",
      "(3485623.0, 4182700.4]                0\n",
      "(4182700.4, 4879777.8]                0\n",
      "(4879777.8, 5576855.2]                0\n",
      "(5576855.2, 6273932.6]                0\n",
      "(6273932.6, 6971010.0]                7\n",
      "Name: lotsizesquarefeet, dtype: int64\n",
      "(3097.9339999999997, 42797.5]    33929\n",
      "(42797.5, 82104.0]                8932\n",
      "(82104.0, 121410.5]                805\n",
      "(121410.5, 160717.0]                 0\n",
      "(160717.0, 200023.5]                 0\n",
      "(200023.5, 239330.0]                 0\n",
      "(239330.0, 278636.5]                16\n",
      "(278636.5, 317943.0]                 0\n",
      "(317943.0, 357249.5]                 0\n",
      "(357249.5, 396556.0]               734\n",
      "Name: regionidcity, dtype: int64\n",
      "(1284.184, 1467.5]    11654\n",
      "(1467.5, 1649.0]          0\n",
      "(1649.0, 1830.5]          0\n",
      "(1830.5, 2012.0]          0\n",
      "(2012.0, 2193.5]       3819\n",
      "(2193.5, 2375.0]          0\n",
      "(2375.0, 2556.5]          0\n",
      "(2556.5, 2738.0]          0\n",
      "(2738.0, 2919.5]          0\n",
      "(2919.5, 3101.0]      28943\n",
      "Name: regionidcounty, dtype: int64\n",
      "(95678.306, 126351.3]    44409\n",
      "(126351.3, 156720.6]         0\n",
      "(156720.6, 187089.9]         0\n",
      "(187089.9, 217459.2]         0\n",
      "(217459.2, 247828.5]         0\n",
      "(247828.5, 278197.8]         0\n",
      "(278197.8, 308567.1]         0\n",
      "(308567.1, 338936.4]         0\n",
      "(338936.4, 369305.7]         0\n",
      "(369305.7, 399675.0]         7\n",
      "Name: regionidzip, dtype: int64\n",
      "(1877.861, 1891.8]       19\n",
      "(1891.8, 1905.6]        148\n",
      "(1905.6, 1919.4]        900\n",
      "(1919.4, 1933.2]       3268\n",
      "(1933.2, 1947.0]       4238\n",
      "(1947.0, 1960.8]      14687\n",
      "(1960.8, 1974.6]       9376\n",
      "(1974.6, 1988.4]       6085\n",
      "(1988.4, 2002.2]       4042\n",
      "(2002.2, 2016.0]       1653\n",
      "Name: year_built, dtype: int64\n",
      "(-502.637, 80765.6]     13280\n",
      "(80765.6, 161229.2]     16754\n",
      "(161229.2, 241692.8]     8566\n",
      "(241692.8, 322156.4]     3496\n",
      "(322156.4, 402620.0]     1526\n",
      "(402620.0, 483083.6]      545\n",
      "(483083.6, 563547.2]      188\n",
      "(563547.2, 644010.8]       49\n",
      "(644010.8, 724474.4]        9\n",
      "(724474.4, 804938.0]        3\n",
      "Name: structuretaxvaluedollarcnt, dtype: int64\n",
      "(2102.852, 118368.7]      7603\n",
      "(118368.7, 233483.4]      7730\n",
      "(233483.4, 348598.1]      7972\n",
      "(348598.1, 463712.8]      7307\n",
      "(463712.8, 578827.5]      5279\n",
      "(578827.5, 693942.2]      3476\n",
      "(693942.2, 809056.9]      2238\n",
      "(809056.9, 924171.6]      1410\n",
      "(924171.6, 1039286.3]      845\n",
      "(1039286.3, 1154401.0]     556\n",
      "Name: value_assessed, dtype: int64\n",
      "(-888.84, 105144.9]      14962\n",
      "(105144.9, 210128.8]      8984\n",
      "(210128.8, 315112.7]      7474\n",
      "(315112.7, 420096.6]      5537\n",
      "(420096.6, 525080.5]      3633\n",
      "(525080.5, 630064.4]      1989\n",
      "(630064.4, 735048.3]      1034\n",
      "(735048.3, 840032.2]       541\n",
      "(840032.2, 945016.1]       231\n",
      "(945016.1, 1050000.0]       31\n",
      "Name: landtaxvaluedollarcnt, dtype: int64\n",
      "(18.358, 3113.1]      15413\n",
      "(3113.1, 6177.2]      17765\n",
      "(6177.2, 9241.3]       7932\n",
      "(9241.3, 12305.4]      2645\n",
      "(12305.4, 15369.5]      597\n",
      "(15369.5, 18433.6]       50\n",
      "(18433.6, 21497.7]       10\n",
      "(21497.7, 24561.8]        3\n",
      "(24561.8, 27625.9]        0\n",
      "(27625.9, 30690.0]        1\n",
      "Name: tax_amount, dtype: int64\n",
      "los_angeles    28943\n",
      "orange         11654\n",
      "ventura         3819\n",
      "Name: county, dtype: int64\n",
      "=================================================\n",
      "nulls in dataframe by column: \n",
      "                            num_rows_missing  pct_rows_missing\n",
      "parcelid                                   0               0.0\n",
      "logerror                                   0               0.0\n",
      "bathrooms                                  0               0.0\n",
      "bedrooms                                   0               0.0\n",
      "total_sqft                                 0               0.0\n",
      "county_code                                0               0.0\n",
      "latitude                                   0               0.0\n",
      "longitude                                  0               0.0\n",
      "lotsizesquarefeet                          0               0.0\n",
      "regionidcity                               0               0.0\n",
      "regionidcounty                             0               0.0\n",
      "regionidzip                                0               0.0\n",
      "year_built                                 0               0.0\n",
      "structuretaxvaluedollarcnt                 0               0.0\n",
      "value_assessed                             0               0.0\n",
      "landtaxvaluedollarcnt                      0               0.0\n",
      "tax_amount                                 0               0.0\n",
      "county                                     0               0.0\n",
      "=================================================\n",
      "nulls in dataframe by row: \n",
      "  num_cols_missing pct_cols_missing  num_rows\n",
      "0                0              0.0     44416\n",
      "=================================================\n"
     ]
    }
   ],
   "source": [
    "#function from explore.py\n",
    "summary = explore.summarize(zillow)"
   ]
  },
  {
   "cell_type": "code",
   "execution_count": 25,
   "metadata": {},
   "outputs": [
    {
     "data": {
      "image/png": "[encoded data removed]",
      "text/plain": [
       "<Figure size 576x864 with 2 Axes>"
      ]
     },
     "metadata": {
      "needs_background": "light"
     },
     "output_type": "display_data"
    }
   ],
   "source": [
    "#see what correlates most with logerror\n",
    "plt.figure(figsize=(8, 12))\n",
    "heatmap = sns.heatmap(zillow.corr()[['logerror']].sort_values(by='logerror', ascending=False), vmin=-1, vmax=1, annot=True, cmap='mako_r')\n",
    "heatmap.set_title('Features Correlating with Logerror', fontdict={'fontsize':18}, pad=16);"
   ]
  },
  {
   "cell_type": "code",
   "execution_count": 26,
   "metadata": {},
   "outputs": [
    {
     "data": {
      "text/plain": [
       "Index(['parcelid', 'logerror', 'bathrooms', 'bedrooms', 'total_sqft',\n",
       "       'county_code', 'latitude', 'longitude', 'lotsizesquarefeet',\n",
       "       'regionidcity', 'regionidcounty', 'regionidzip', 'year_built',\n",
       "       'structuretaxvaluedollarcnt', 'value_assessed', 'landtaxvaluedollarcnt',\n",
       "       'tax_amount', 'county'],\n",
       "      dtype='object')"
      ]
     },
     "execution_count": 26,
     "metadata": {},
     "output_type": "execute_result"
    }
   ],
   "source": [
    "zillow.columns"
   ]
  },
  {
   "cell_type": "code",
   "execution_count": 27,
   "metadata": {},
   "outputs": [],
   "source": [
    "numeric_cols = ['bathrooms', 'bedrooms', 'total_sqft',\n",
    "       'county_code', 'latitude', 'longitude', 'lotsizesquarefeet',\n",
    "       'regionidcity', 'regionidcounty', 'regionidzip', 'year_built',\n",
    "       'structuretaxvaluedollarcnt', 'value_assessed', 'landtaxvaluedollarcnt',\n",
    "       'tax_amount']"
   ]
  },
  {
   "cell_type": "code",
   "execution_count": 28,
   "metadata": {},
   "outputs": [],
   "source": [
    "#use minmaxscaler function from prepare.py\n",
    "X_train_scaled, X_validate_scaled, X_test_scaled = prepare.min_max_scaler(X_train, X_validate, X_test, numeric_cols)"
   ]
  },
  {
   "cell_type": "code",
   "execution_count": 29,
   "metadata": {},
   "outputs": [
    {
     "data": {
      "text/html": [
       "<div>\n",
       "<style scoped>\n",
       "    .dataframe tbody tr th:only-of-type {\n",
       "        vertical-align: middle;\n",
       "    }\n",
       "\n",
       "    .dataframe tbody tr th {\n",
       "        vertical-align: top;\n",
       "    }\n",
       "\n",
       "    .dataframe thead th {\n",
       "        text-align: right;\n",
       "    }\n",
       "</style>\n",
       "<table border=\"1\" class=\"dataframe\">\n",
       "  <thead>\n",
       "    <tr style=\"text-align: right;\">\n",
       "      <th></th>\n",
       "      <th>parcelid</th>\n",
       "      <th>bathrooms</th>\n",
       "      <th>bedrooms</th>\n",
       "      <th>total_sqft</th>\n",
       "      <th>county_code</th>\n",
       "      <th>latitude</th>\n",
       "      <th>longitude</th>\n",
       "      <th>lotsizesquarefeet</th>\n",
       "      <th>regionidcity</th>\n",
       "      <th>regionidcounty</th>\n",
       "      <th>regionidzip</th>\n",
       "      <th>year_built</th>\n",
       "      <th>structuretaxvaluedollarcnt</th>\n",
       "      <th>value_assessed</th>\n",
       "      <th>landtaxvaluedollarcnt</th>\n",
       "      <th>tax_amount</th>\n",
       "      <th>county</th>\n",
       "    </tr>\n",
       "  </thead>\n",
       "  <tbody>\n",
       "    <tr>\n",
       "      <th>25510</th>\n",
       "      <td>17269042</td>\n",
       "      <td>0.166667</td>\n",
       "      <td>0.333333</td>\n",
       "      <td>0.294191</td>\n",
       "      <td>1.000000</td>\n",
       "      <td>0.563584</td>\n",
       "      <td>0.273817</td>\n",
       "      <td>0.000970</td>\n",
       "      <td>0.078325</td>\n",
       "      <td>0.426997</td>\n",
       "      <td>0.001215</td>\n",
       "      <td>0.637037</td>\n",
       "      <td>0.054903</td>\n",
       "      <td>0.051959</td>\n",
       "      <td>0.017552</td>\n",
       "      <td>0.020725</td>\n",
       "      <td>ventura</td>\n",
       "    </tr>\n",
       "    <tr>\n",
       "      <th>26165</th>\n",
       "      <td>11603467</td>\n",
       "      <td>1.000000</td>\n",
       "      <td>0.666667</td>\n",
       "      <td>0.804185</td>\n",
       "      <td>0.000000</td>\n",
       "      <td>0.476353</td>\n",
       "      <td>0.567466</td>\n",
       "      <td>0.001067</td>\n",
       "      <td>0.022785</td>\n",
       "      <td>1.000000</td>\n",
       "      <td>0.000109</td>\n",
       "      <td>0.548148</td>\n",
       "      <td>0.155708</td>\n",
       "      <td>0.161306</td>\n",
       "      <td>0.060190</td>\n",
       "      <td>0.081759</td>\n",
       "      <td>los_angeles</td>\n",
       "    </tr>\n",
       "    <tr>\n",
       "      <th>50434</th>\n",
       "      <td>14273600</td>\n",
       "      <td>0.666667</td>\n",
       "      <td>0.666667</td>\n",
       "      <td>0.688320</td>\n",
       "      <td>0.297297</td>\n",
       "      <td>0.209659</td>\n",
       "      <td>0.803600</td>\n",
       "      <td>0.000828</td>\n",
       "      <td>0.087876</td>\n",
       "      <td>0.000000</td>\n",
       "      <td>0.003217</td>\n",
       "      <td>0.711111</td>\n",
       "      <td>0.280250</td>\n",
       "      <td>0.324052</td>\n",
       "      <td>0.143187</td>\n",
       "      <td>0.146154</td>\n",
       "      <td>orange</td>\n",
       "    </tr>\n",
       "    <tr>\n",
       "      <th>25096</th>\n",
       "      <td>11091967</td>\n",
       "      <td>0.333333</td>\n",
       "      <td>1.000000</td>\n",
       "      <td>0.649906</td>\n",
       "      <td>0.000000</td>\n",
       "      <td>0.608227</td>\n",
       "      <td>0.489559</td>\n",
       "      <td>0.001277</td>\n",
       "      <td>0.022785</td>\n",
       "      <td>1.000000</td>\n",
       "      <td>0.001225</td>\n",
       "      <td>0.600000</td>\n",
       "      <td>0.220313</td>\n",
       "      <td>0.387540</td>\n",
       "      <td>0.258739</td>\n",
       "      <td>0.179118</td>\n",
       "      <td>los_angeles</td>\n",
       "    </tr>\n",
       "    <tr>\n",
       "      <th>18136</th>\n",
       "      <td>14365934</td>\n",
       "      <td>0.666667</td>\n",
       "      <td>0.666667</td>\n",
       "      <td>0.812305</td>\n",
       "      <td>0.297297</td>\n",
       "      <td>0.209073</td>\n",
       "      <td>0.940239</td>\n",
       "      <td>0.001042</td>\n",
       "      <td>0.073497</td>\n",
       "      <td>0.000000</td>\n",
       "      <td>0.003227</td>\n",
       "      <td>0.718519</td>\n",
       "      <td>0.266216</td>\n",
       "      <td>0.353392</td>\n",
       "      <td>0.186114</td>\n",
       "      <td>0.136264</td>\n",
       "      <td>orange</td>\n",
       "    </tr>\n",
       "    <tr>\n",
       "      <th>...</th>\n",
       "      <td>...</td>\n",
       "      <td>...</td>\n",
       "      <td>...</td>\n",
       "      <td>...</td>\n",
       "      <td>...</td>\n",
       "      <td>...</td>\n",
       "      <td>...</td>\n",
       "      <td>...</td>\n",
       "      <td>...</td>\n",
       "      <td>...</td>\n",
       "      <td>...</td>\n",
       "      <td>...</td>\n",
       "      <td>...</td>\n",
       "      <td>...</td>\n",
       "      <td>...</td>\n",
       "      <td>...</td>\n",
       "      <td>...</td>\n",
       "    </tr>\n",
       "    <tr>\n",
       "      <th>27680</th>\n",
       "      <td>12300016</td>\n",
       "      <td>0.333333</td>\n",
       "      <td>0.333333</td>\n",
       "      <td>0.333854</td>\n",
       "      <td>0.000000</td>\n",
       "      <td>0.408351</td>\n",
       "      <td>0.672117</td>\n",
       "      <td>0.000828</td>\n",
       "      <td>0.112630</td>\n",
       "      <td>1.000000</td>\n",
       "      <td>0.000471</td>\n",
       "      <td>0.496296</td>\n",
       "      <td>0.095359</td>\n",
       "      <td>0.199951</td>\n",
       "      <td>0.148818</td>\n",
       "      <td>0.099873</td>\n",
       "      <td>los_angeles</td>\n",
       "    </tr>\n",
       "    <tr>\n",
       "      <th>1791</th>\n",
       "      <td>12818093</td>\n",
       "      <td>0.333333</td>\n",
       "      <td>0.000000</td>\n",
       "      <td>0.308557</td>\n",
       "      <td>0.000000</td>\n",
       "      <td>0.458026</td>\n",
       "      <td>0.787949</td>\n",
       "      <td>0.001118</td>\n",
       "      <td>0.107135</td>\n",
       "      <td>1.000000</td>\n",
       "      <td>0.001669</td>\n",
       "      <td>0.533333</td>\n",
       "      <td>0.171348</td>\n",
       "      <td>0.365826</td>\n",
       "      <td>0.272458</td>\n",
       "      <td>0.163387</td>\n",
       "      <td>los_angeles</td>\n",
       "    </tr>\n",
       "    <tr>\n",
       "      <th>9000</th>\n",
       "      <td>11294244</td>\n",
       "      <td>0.333333</td>\n",
       "      <td>0.333333</td>\n",
       "      <td>0.278576</td>\n",
       "      <td>0.000000</td>\n",
       "      <td>0.914909</td>\n",
       "      <td>0.713193</td>\n",
       "      <td>0.001222</td>\n",
       "      <td>0.005198</td>\n",
       "      <td>1.000000</td>\n",
       "      <td>0.004399</td>\n",
       "      <td>0.570370</td>\n",
       "      <td>0.062484</td>\n",
       "      <td>0.055756</td>\n",
       "      <td>0.015904</td>\n",
       "      <td>0.047097</td>\n",
       "      <td>los_angeles</td>\n",
       "    </tr>\n",
       "    <tr>\n",
       "      <th>904</th>\n",
       "      <td>11280776</td>\n",
       "      <td>0.333333</td>\n",
       "      <td>0.666667</td>\n",
       "      <td>0.494379</td>\n",
       "      <td>0.000000</td>\n",
       "      <td>0.910690</td>\n",
       "      <td>0.683750</td>\n",
       "      <td>0.000958</td>\n",
       "      <td>0.005198</td>\n",
       "      <td>1.000000</td>\n",
       "      <td>0.004402</td>\n",
       "      <td>0.800000</td>\n",
       "      <td>0.178215</td>\n",
       "      <td>0.186550</td>\n",
       "      <td>0.070619</td>\n",
       "      <td>0.108457</td>\n",
       "      <td>los_angeles</td>\n",
       "    </tr>\n",
       "    <tr>\n",
       "      <th>24520</th>\n",
       "      <td>12986372</td>\n",
       "      <td>0.000000</td>\n",
       "      <td>0.333333</td>\n",
       "      <td>0.356340</td>\n",
       "      <td>0.000000</td>\n",
       "      <td>0.498244</td>\n",
       "      <td>0.781709</td>\n",
       "      <td>0.000750</td>\n",
       "      <td>0.017173</td>\n",
       "      <td>1.000000</td>\n",
       "      <td>0.001590</td>\n",
       "      <td>0.518519</td>\n",
       "      <td>0.041161</td>\n",
       "      <td>0.034999</td>\n",
       "      <td>0.009487</td>\n",
       "      <td>0.027253</td>\n",
       "      <td>los_angeles</td>\n",
       "    </tr>\n",
       "  </tbody>\n",
       "</table>\n",
       "<p>24872 rows × 17 columns</p>\n",
       "</div>"
      ],
      "text/plain": [
       "       parcelid  bathrooms  bedrooms  total_sqft  county_code  latitude  \\\n",
       "25510  17269042   0.166667  0.333333    0.294191     1.000000  0.563584   \n",
       "26165  11603467   1.000000  0.666667    0.804185     0.000000  0.476353   \n",
       "50434  14273600   0.666667  0.666667    0.688320     0.297297  0.209659   \n",
       "25096  11091967   0.333333  1.000000    0.649906     0.000000  0.608227   \n",
       "18136  14365934   0.666667  0.666667    0.812305     0.297297  0.209073   \n",
       "...         ...        ...       ...         ...          ...       ...   \n",
       "27680  12300016   0.333333  0.333333    0.333854     0.000000  0.408351   \n",
       "1791   12818093   0.333333  0.000000    0.308557     0.000000  0.458026   \n",
       "9000   11294244   0.333333  0.333333    0.278576     0.000000  0.914909   \n",
       "904    11280776   0.333333  0.666667    0.494379     0.000000  0.910690   \n",
       "24520  12986372   0.000000  0.333333    0.356340     0.000000  0.498244   \n",
       "\n",
       "       longitude  lotsizesquarefeet  regionidcity  regionidcounty  \\\n",
       "25510   0.273817           0.000970      0.078325        0.426997   \n",
       "26165   0.567466           0.001067      0.022785        1.000000   \n",
       "50434   0.803600           0.000828      0.087876        0.000000   \n",
       "25096   0.489559           0.001277      0.022785        1.000000   \n",
       "18136   0.940239           0.001042      0.073497        0.000000   \n",
       "...          ...                ...           ...             ...   \n",
       "27680   0.672117           0.000828      0.112630        1.000000   \n",
       "1791    0.787949           0.001118      0.107135        1.000000   \n",
       "9000    0.713193           0.001222      0.005198        1.000000   \n",
       "904     0.683750           0.000958      0.005198        1.000000   \n",
       "24520   0.781709           0.000750      0.017173        1.000000   \n",
       "\n",
       "       regionidzip  year_built  structuretaxvaluedollarcnt  value_assessed  \\\n",
       "25510     0.001215    0.637037                    0.054903        0.051959   \n",
       "26165     0.000109    0.548148                    0.155708        0.161306   \n",
       "50434     0.003217    0.711111                    0.280250        0.324052   \n",
       "25096     0.001225    0.600000                    0.220313        0.387540   \n",
       "18136     0.003227    0.718519                    0.266216        0.353392   \n",
       "...            ...         ...                         ...             ...   \n",
       "27680     0.000471    0.496296                    0.095359        0.199951   \n",
       "1791      0.001669    0.533333                    0.171348        0.365826   \n",
       "9000      0.004399    0.570370                    0.062484        0.055756   \n",
       "904       0.004402    0.800000                    0.178215        0.186550   \n",
       "24520     0.001590    0.518519                    0.041161        0.034999   \n",
       "\n",
       "       landtaxvaluedollarcnt  tax_amount       county  \n",
       "25510               0.017552    0.020725      ventura  \n",
       "26165               0.060190    0.081759  los_angeles  \n",
       "50434               0.143187    0.146154       orange  \n",
       "25096               0.258739    0.179118  los_angeles  \n",
       "18136               0.186114    0.136264       orange  \n",
       "...                      ...         ...          ...  \n",
       "27680               0.148818    0.099873  los_angeles  \n",
       "1791                0.272458    0.163387  los_angeles  \n",
       "9000                0.015904    0.047097  los_angeles  \n",
       "904                 0.070619    0.108457  los_angeles  \n",
       "24520               0.009487    0.027253  los_angeles  \n",
       "\n",
       "[24872 rows x 17 columns]"
      ]
     },
     "execution_count": 29,
     "metadata": {},
     "output_type": "execute_result"
    }
   ],
   "source": [
    "X_train_scaled"
   ]
  },
  {
   "cell_type": "markdown",
   "metadata": {},
   "source": [
    "### Feature Engineering"
   ]
  },
  {
   "cell_type": "code",
   "execution_count": 30,
   "metadata": {},
   "outputs": [],
   "source": [
    "def rfe(X, y, n):\n",
    "    lm = LinearRegression()\n",
    "    rfe = RFE(lm, n)\n",
    "    rfe.fit(X, y)\n",
    "    \n",
    "    n_features = X.columns[rfe.support_]\n",
    "    \n",
    "    return n_features"
   ]
  },
  {
   "cell_type": "code",
   "execution_count": 31,
   "metadata": {},
   "outputs": [
    {
     "ename": "ValueError",
     "evalue": "could not convert string to float: 'ventura'",
     "output_type": "error",
     "traceback": [
      "\u001b[0;31m---------------------------------------------------------------------------\u001b[0m",
      "\u001b[0;31mValueError\u001b[0m                                Traceback (most recent call last)",
      "\u001b[0;32m<ipython-input-31-37e4729314ce>\u001b[0m in \u001b[0;36m<module>\u001b[0;34m\u001b[0m\n\u001b[1;32m      1\u001b[0m \u001b[0;31m#RFE function from prepare.py\u001b[0m\u001b[0;34m\u001b[0m\u001b[0;34m\u001b[0m\u001b[0;34m\u001b[0m\u001b[0m\n\u001b[0;32m----> 2\u001b[0;31m \u001b[0mn_features\u001b[0m\u001b[0;34m=\u001b[0m \u001b[0mprepare\u001b[0m\u001b[0;34m.\u001b[0m\u001b[0mrfe\u001b[0m\u001b[0;34m(\u001b[0m\u001b[0mX_train_scaled\u001b[0m\u001b[0;34m,\u001b[0m \u001b[0my_train\u001b[0m\u001b[0;34m,\u001b[0m \u001b[0;36m3\u001b[0m\u001b[0;34m)\u001b[0m\u001b[0;34m\u001b[0m\u001b[0;34m\u001b[0m\u001b[0m\n\u001b[0m",
      "\u001b[0;32m~/codeup-data-science/database-exercises/Zillow_Clustering_Project/prepare.py\u001b[0m in \u001b[0;36mrfe\u001b[0;34m(X, y, n)\u001b[0m\n\u001b[1;32m    173\u001b[0m     \u001b[0mlm\u001b[0m \u001b[0;34m=\u001b[0m \u001b[0mLinearRegression\u001b[0m\u001b[0;34m(\u001b[0m\u001b[0;34m)\u001b[0m\u001b[0;34m\u001b[0m\u001b[0;34m\u001b[0m\u001b[0m\n\u001b[1;32m    174\u001b[0m     \u001b[0mrfe\u001b[0m \u001b[0;34m=\u001b[0m \u001b[0mRFE\u001b[0m\u001b[0;34m(\u001b[0m\u001b[0mlm\u001b[0m\u001b[0;34m,\u001b[0m \u001b[0mn\u001b[0m\u001b[0;34m)\u001b[0m\u001b[0;34m\u001b[0m\u001b[0;34m\u001b[0m\u001b[0m\n\u001b[0;32m--> 175\u001b[0;31m     \u001b[0mrfe\u001b[0m\u001b[0;34m.\u001b[0m\u001b[0mfit\u001b[0m\u001b[0;34m(\u001b[0m\u001b[0mX\u001b[0m\u001b[0;34m,\u001b[0m \u001b[0my\u001b[0m\u001b[0;34m)\u001b[0m\u001b[0;34m\u001b[0m\u001b[0;34m\u001b[0m\u001b[0m\n\u001b[0m\u001b[1;32m    176\u001b[0m \u001b[0;34m\u001b[0m\u001b[0m\n\u001b[1;32m    177\u001b[0m     \u001b[0mn_features\u001b[0m \u001b[0;34m=\u001b[0m \u001b[0mX\u001b[0m\u001b[0;34m.\u001b[0m\u001b[0mcolumns\u001b[0m\u001b[0;34m[\u001b[0m\u001b[0mrfe\u001b[0m\u001b[0;34m.\u001b[0m\u001b[0msupport_\u001b[0m\u001b[0;34m]\u001b[0m\u001b[0;34m\u001b[0m\u001b[0;34m\u001b[0m\u001b[0m\n",
      "\u001b[0;32m/opt/homebrew/anaconda3/lib/python3.8/site-packages/sklearn/feature_selection/_rfe.py\u001b[0m in \u001b[0;36mfit\u001b[0;34m(self, X, y)\u001b[0m\n\u001b[1;32m    149\u001b[0m             \u001b[0mThe\u001b[0m \u001b[0mtarget\u001b[0m \u001b[0mvalues\u001b[0m\u001b[0;34m.\u001b[0m\u001b[0;34m\u001b[0m\u001b[0;34m\u001b[0m\u001b[0m\n\u001b[1;32m    150\u001b[0m         \"\"\"\n\u001b[0;32m--> 151\u001b[0;31m         \u001b[0;32mreturn\u001b[0m \u001b[0mself\u001b[0m\u001b[0;34m.\u001b[0m\u001b[0m_fit\u001b[0m\u001b[0;34m(\u001b[0m\u001b[0mX\u001b[0m\u001b[0;34m,\u001b[0m \u001b[0my\u001b[0m\u001b[0;34m)\u001b[0m\u001b[0;34m\u001b[0m\u001b[0;34m\u001b[0m\u001b[0m\n\u001b[0m\u001b[1;32m    152\u001b[0m \u001b[0;34m\u001b[0m\u001b[0m\n\u001b[1;32m    153\u001b[0m     \u001b[0;32mdef\u001b[0m \u001b[0m_fit\u001b[0m\u001b[0;34m(\u001b[0m\u001b[0mself\u001b[0m\u001b[0;34m,\u001b[0m \u001b[0mX\u001b[0m\u001b[0;34m,\u001b[0m \u001b[0my\u001b[0m\u001b[0;34m,\u001b[0m \u001b[0mstep_score\u001b[0m\u001b[0;34m=\u001b[0m\u001b[0;32mNone\u001b[0m\u001b[0;34m)\u001b[0m\u001b[0;34m:\u001b[0m\u001b[0;34m\u001b[0m\u001b[0;34m\u001b[0m\u001b[0m\n",
      "\u001b[0;32m/opt/homebrew/anaconda3/lib/python3.8/site-packages/sklearn/feature_selection/_rfe.py\u001b[0m in \u001b[0;36m_fit\u001b[0;34m(self, X, y, step_score)\u001b[0m\n\u001b[1;32m    158\u001b[0m \u001b[0;34m\u001b[0m\u001b[0m\n\u001b[1;32m    159\u001b[0m         \u001b[0mtags\u001b[0m \u001b[0;34m=\u001b[0m \u001b[0mself\u001b[0m\u001b[0;34m.\u001b[0m\u001b[0m_get_tags\u001b[0m\u001b[0;34m(\u001b[0m\u001b[0;34m)\u001b[0m\u001b[0;34m\u001b[0m\u001b[0;34m\u001b[0m\u001b[0m\n\u001b[0;32m--> 160\u001b[0;31m         X, y = self._validate_data(\n\u001b[0m\u001b[1;32m    161\u001b[0m             \u001b[0mX\u001b[0m\u001b[0;34m,\u001b[0m \u001b[0my\u001b[0m\u001b[0;34m,\u001b[0m \u001b[0maccept_sparse\u001b[0m\u001b[0;34m=\u001b[0m\u001b[0;34m\"csc\"\u001b[0m\u001b[0;34m,\u001b[0m\u001b[0;34m\u001b[0m\u001b[0;34m\u001b[0m\u001b[0m\n\u001b[1;32m    162\u001b[0m             \u001b[0mensure_min_features\u001b[0m\u001b[0;34m=\u001b[0m\u001b[0;36m2\u001b[0m\u001b[0;34m,\u001b[0m\u001b[0;34m\u001b[0m\u001b[0;34m\u001b[0m\u001b[0m\n",
      "\u001b[0;32m/opt/homebrew/anaconda3/lib/python3.8/site-packages/sklearn/base.py\u001b[0m in \u001b[0;36m_validate_data\u001b[0;34m(self, X, y, reset, validate_separately, **check_params)\u001b[0m\n\u001b[1;32m    430\u001b[0m                 \u001b[0my\u001b[0m \u001b[0;34m=\u001b[0m \u001b[0mcheck_array\u001b[0m\u001b[0;34m(\u001b[0m\u001b[0my\u001b[0m\u001b[0;34m,\u001b[0m \u001b[0;34m**\u001b[0m\u001b[0mcheck_y_params\u001b[0m\u001b[0;34m)\u001b[0m\u001b[0;34m\u001b[0m\u001b[0;34m\u001b[0m\u001b[0m\n\u001b[1;32m    431\u001b[0m             \u001b[0;32melse\u001b[0m\u001b[0;34m:\u001b[0m\u001b[0;34m\u001b[0m\u001b[0;34m\u001b[0m\u001b[0m\n\u001b[0;32m--> 432\u001b[0;31m                 \u001b[0mX\u001b[0m\u001b[0;34m,\u001b[0m \u001b[0my\u001b[0m \u001b[0;34m=\u001b[0m \u001b[0mcheck_X_y\u001b[0m\u001b[0;34m(\u001b[0m\u001b[0mX\u001b[0m\u001b[0;34m,\u001b[0m \u001b[0my\u001b[0m\u001b[0;34m,\u001b[0m \u001b[0;34m**\u001b[0m\u001b[0mcheck_params\u001b[0m\u001b[0;34m)\u001b[0m\u001b[0;34m\u001b[0m\u001b[0;34m\u001b[0m\u001b[0m\n\u001b[0m\u001b[1;32m    433\u001b[0m             \u001b[0mout\u001b[0m \u001b[0;34m=\u001b[0m \u001b[0mX\u001b[0m\u001b[0;34m,\u001b[0m \u001b[0my\u001b[0m\u001b[0;34m\u001b[0m\u001b[0;34m\u001b[0m\u001b[0m\n\u001b[1;32m    434\u001b[0m \u001b[0;34m\u001b[0m\u001b[0m\n",
      "\u001b[0;32m/opt/homebrew/anaconda3/lib/python3.8/site-packages/sklearn/utils/validation.py\u001b[0m in \u001b[0;36minner_f\u001b[0;34m(*args, **kwargs)\u001b[0m\n\u001b[1;32m     70\u001b[0m                           FutureWarning)\n\u001b[1;32m     71\u001b[0m         \u001b[0mkwargs\u001b[0m\u001b[0;34m.\u001b[0m\u001b[0mupdate\u001b[0m\u001b[0;34m(\u001b[0m\u001b[0;34m{\u001b[0m\u001b[0mk\u001b[0m\u001b[0;34m:\u001b[0m \u001b[0marg\u001b[0m \u001b[0;32mfor\u001b[0m \u001b[0mk\u001b[0m\u001b[0;34m,\u001b[0m \u001b[0marg\u001b[0m \u001b[0;32min\u001b[0m \u001b[0mzip\u001b[0m\u001b[0;34m(\u001b[0m\u001b[0msig\u001b[0m\u001b[0;34m.\u001b[0m\u001b[0mparameters\u001b[0m\u001b[0;34m,\u001b[0m \u001b[0margs\u001b[0m\u001b[0;34m)\u001b[0m\u001b[0;34m}\u001b[0m\u001b[0;34m)\u001b[0m\u001b[0;34m\u001b[0m\u001b[0;34m\u001b[0m\u001b[0m\n\u001b[0;32m---> 72\u001b[0;31m         \u001b[0;32mreturn\u001b[0m \u001b[0mf\u001b[0m\u001b[0;34m(\u001b[0m\u001b[0;34m**\u001b[0m\u001b[0mkwargs\u001b[0m\u001b[0;34m)\u001b[0m\u001b[0;34m\u001b[0m\u001b[0;34m\u001b[0m\u001b[0m\n\u001b[0m\u001b[1;32m     73\u001b[0m     \u001b[0;32mreturn\u001b[0m \u001b[0minner_f\u001b[0m\u001b[0;34m\u001b[0m\u001b[0;34m\u001b[0m\u001b[0m\n\u001b[1;32m     74\u001b[0m \u001b[0;34m\u001b[0m\u001b[0m\n",
      "\u001b[0;32m/opt/homebrew/anaconda3/lib/python3.8/site-packages/sklearn/utils/validation.py\u001b[0m in \u001b[0;36mcheck_X_y\u001b[0;34m(X, y, accept_sparse, accept_large_sparse, dtype, order, copy, force_all_finite, ensure_2d, allow_nd, multi_output, ensure_min_samples, ensure_min_features, y_numeric, estimator)\u001b[0m\n\u001b[1;32m    793\u001b[0m         \u001b[0;32mraise\u001b[0m \u001b[0mValueError\u001b[0m\u001b[0;34m(\u001b[0m\u001b[0;34m\"y cannot be None\"\u001b[0m\u001b[0;34m)\u001b[0m\u001b[0;34m\u001b[0m\u001b[0;34m\u001b[0m\u001b[0m\n\u001b[1;32m    794\u001b[0m \u001b[0;34m\u001b[0m\u001b[0m\n\u001b[0;32m--> 795\u001b[0;31m     X = check_array(X, accept_sparse=accept_sparse,\n\u001b[0m\u001b[1;32m    796\u001b[0m                     \u001b[0maccept_large_sparse\u001b[0m\u001b[0;34m=\u001b[0m\u001b[0maccept_large_sparse\u001b[0m\u001b[0;34m,\u001b[0m\u001b[0;34m\u001b[0m\u001b[0;34m\u001b[0m\u001b[0m\n\u001b[1;32m    797\u001b[0m                     \u001b[0mdtype\u001b[0m\u001b[0;34m=\u001b[0m\u001b[0mdtype\u001b[0m\u001b[0;34m,\u001b[0m \u001b[0morder\u001b[0m\u001b[0;34m=\u001b[0m\u001b[0morder\u001b[0m\u001b[0;34m,\u001b[0m \u001b[0mcopy\u001b[0m\u001b[0;34m=\u001b[0m\u001b[0mcopy\u001b[0m\u001b[0;34m,\u001b[0m\u001b[0;34m\u001b[0m\u001b[0;34m\u001b[0m\u001b[0m\n",
      "\u001b[0;32m/opt/homebrew/anaconda3/lib/python3.8/site-packages/sklearn/utils/validation.py\u001b[0m in \u001b[0;36minner_f\u001b[0;34m(*args, **kwargs)\u001b[0m\n\u001b[1;32m     70\u001b[0m                           FutureWarning)\n\u001b[1;32m     71\u001b[0m         \u001b[0mkwargs\u001b[0m\u001b[0;34m.\u001b[0m\u001b[0mupdate\u001b[0m\u001b[0;34m(\u001b[0m\u001b[0;34m{\u001b[0m\u001b[0mk\u001b[0m\u001b[0;34m:\u001b[0m \u001b[0marg\u001b[0m \u001b[0;32mfor\u001b[0m \u001b[0mk\u001b[0m\u001b[0;34m,\u001b[0m \u001b[0marg\u001b[0m \u001b[0;32min\u001b[0m \u001b[0mzip\u001b[0m\u001b[0;34m(\u001b[0m\u001b[0msig\u001b[0m\u001b[0;34m.\u001b[0m\u001b[0mparameters\u001b[0m\u001b[0;34m,\u001b[0m \u001b[0margs\u001b[0m\u001b[0;34m)\u001b[0m\u001b[0;34m}\u001b[0m\u001b[0;34m)\u001b[0m\u001b[0;34m\u001b[0m\u001b[0;34m\u001b[0m\u001b[0m\n\u001b[0;32m---> 72\u001b[0;31m         \u001b[0;32mreturn\u001b[0m \u001b[0mf\u001b[0m\u001b[0;34m(\u001b[0m\u001b[0;34m**\u001b[0m\u001b[0mkwargs\u001b[0m\u001b[0;34m)\u001b[0m\u001b[0;34m\u001b[0m\u001b[0;34m\u001b[0m\u001b[0m\n\u001b[0m\u001b[1;32m     73\u001b[0m     \u001b[0;32mreturn\u001b[0m \u001b[0minner_f\u001b[0m\u001b[0;34m\u001b[0m\u001b[0;34m\u001b[0m\u001b[0m\n\u001b[1;32m     74\u001b[0m \u001b[0;34m\u001b[0m\u001b[0m\n",
      "\u001b[0;32m/opt/homebrew/anaconda3/lib/python3.8/site-packages/sklearn/utils/validation.py\u001b[0m in \u001b[0;36mcheck_array\u001b[0;34m(array, accept_sparse, accept_large_sparse, dtype, order, copy, force_all_finite, ensure_2d, allow_nd, ensure_min_samples, ensure_min_features, estimator)\u001b[0m\n\u001b[1;32m    596\u001b[0m                     \u001b[0marray\u001b[0m \u001b[0;34m=\u001b[0m \u001b[0marray\u001b[0m\u001b[0;34m.\u001b[0m\u001b[0mastype\u001b[0m\u001b[0;34m(\u001b[0m\u001b[0mdtype\u001b[0m\u001b[0;34m,\u001b[0m \u001b[0mcasting\u001b[0m\u001b[0;34m=\u001b[0m\u001b[0;34m\"unsafe\"\u001b[0m\u001b[0;34m,\u001b[0m \u001b[0mcopy\u001b[0m\u001b[0;34m=\u001b[0m\u001b[0;32mFalse\u001b[0m\u001b[0;34m)\u001b[0m\u001b[0;34m\u001b[0m\u001b[0;34m\u001b[0m\u001b[0m\n\u001b[1;32m    597\u001b[0m                 \u001b[0;32melse\u001b[0m\u001b[0;34m:\u001b[0m\u001b[0;34m\u001b[0m\u001b[0;34m\u001b[0m\u001b[0m\n\u001b[0;32m--> 598\u001b[0;31m                     \u001b[0marray\u001b[0m \u001b[0;34m=\u001b[0m \u001b[0mnp\u001b[0m\u001b[0;34m.\u001b[0m\u001b[0masarray\u001b[0m\u001b[0;34m(\u001b[0m\u001b[0marray\u001b[0m\u001b[0;34m,\u001b[0m \u001b[0morder\u001b[0m\u001b[0;34m=\u001b[0m\u001b[0morder\u001b[0m\u001b[0;34m,\u001b[0m \u001b[0mdtype\u001b[0m\u001b[0;34m=\u001b[0m\u001b[0mdtype\u001b[0m\u001b[0;34m)\u001b[0m\u001b[0;34m\u001b[0m\u001b[0;34m\u001b[0m\u001b[0m\n\u001b[0m\u001b[1;32m    599\u001b[0m             \u001b[0;32mexcept\u001b[0m \u001b[0mComplexWarning\u001b[0m\u001b[0;34m:\u001b[0m\u001b[0;34m\u001b[0m\u001b[0;34m\u001b[0m\u001b[0m\n\u001b[1;32m    600\u001b[0m                 raise ValueError(\"Complex data not supported\\n\"\n",
      "\u001b[0;32m/opt/homebrew/anaconda3/lib/python3.8/site-packages/numpy/core/_asarray.py\u001b[0m in \u001b[0;36masarray\u001b[0;34m(a, dtype, order)\u001b[0m\n\u001b[1;32m     81\u001b[0m \u001b[0;34m\u001b[0m\u001b[0m\n\u001b[1;32m     82\u001b[0m     \"\"\"\n\u001b[0;32m---> 83\u001b[0;31m     \u001b[0;32mreturn\u001b[0m \u001b[0marray\u001b[0m\u001b[0;34m(\u001b[0m\u001b[0ma\u001b[0m\u001b[0;34m,\u001b[0m \u001b[0mdtype\u001b[0m\u001b[0;34m,\u001b[0m \u001b[0mcopy\u001b[0m\u001b[0;34m=\u001b[0m\u001b[0;32mFalse\u001b[0m\u001b[0;34m,\u001b[0m \u001b[0morder\u001b[0m\u001b[0;34m=\u001b[0m\u001b[0morder\u001b[0m\u001b[0;34m)\u001b[0m\u001b[0;34m\u001b[0m\u001b[0;34m\u001b[0m\u001b[0m\n\u001b[0m\u001b[1;32m     84\u001b[0m \u001b[0;34m\u001b[0m\u001b[0m\n\u001b[1;32m     85\u001b[0m \u001b[0;34m\u001b[0m\u001b[0m\n",
      "\u001b[0;32m/opt/homebrew/anaconda3/lib/python3.8/site-packages/pandas/core/generic.py\u001b[0m in \u001b[0;36m__array__\u001b[0;34m(self, dtype)\u001b[0m\n\u001b[1;32m   1779\u001b[0m \u001b[0;34m\u001b[0m\u001b[0m\n\u001b[1;32m   1780\u001b[0m     \u001b[0;32mdef\u001b[0m \u001b[0m__array__\u001b[0m\u001b[0;34m(\u001b[0m\u001b[0mself\u001b[0m\u001b[0;34m,\u001b[0m \u001b[0mdtype\u001b[0m\u001b[0;34m=\u001b[0m\u001b[0;32mNone\u001b[0m\u001b[0;34m)\u001b[0m \u001b[0;34m->\u001b[0m \u001b[0mnp\u001b[0m\u001b[0;34m.\u001b[0m\u001b[0mndarray\u001b[0m\u001b[0;34m:\u001b[0m\u001b[0;34m\u001b[0m\u001b[0;34m\u001b[0m\u001b[0m\n\u001b[0;32m-> 1781\u001b[0;31m         \u001b[0;32mreturn\u001b[0m \u001b[0mnp\u001b[0m\u001b[0;34m.\u001b[0m\u001b[0masarray\u001b[0m\u001b[0;34m(\u001b[0m\u001b[0mself\u001b[0m\u001b[0;34m.\u001b[0m\u001b[0m_values\u001b[0m\u001b[0;34m,\u001b[0m \u001b[0mdtype\u001b[0m\u001b[0;34m=\u001b[0m\u001b[0mdtype\u001b[0m\u001b[0;34m)\u001b[0m\u001b[0;34m\u001b[0m\u001b[0;34m\u001b[0m\u001b[0m\n\u001b[0m\u001b[1;32m   1782\u001b[0m \u001b[0;34m\u001b[0m\u001b[0m\n\u001b[1;32m   1783\u001b[0m     \u001b[0;32mdef\u001b[0m \u001b[0m__array_wrap__\u001b[0m\u001b[0;34m(\u001b[0m\u001b[0mself\u001b[0m\u001b[0;34m,\u001b[0m \u001b[0mresult\u001b[0m\u001b[0;34m,\u001b[0m \u001b[0mcontext\u001b[0m\u001b[0;34m=\u001b[0m\u001b[0;32mNone\u001b[0m\u001b[0;34m)\u001b[0m\u001b[0;34m:\u001b[0m\u001b[0;34m\u001b[0m\u001b[0;34m\u001b[0m\u001b[0m\n",
      "\u001b[0;32m/opt/homebrew/anaconda3/lib/python3.8/site-packages/numpy/core/_asarray.py\u001b[0m in \u001b[0;36masarray\u001b[0;34m(a, dtype, order)\u001b[0m\n\u001b[1;32m     81\u001b[0m \u001b[0;34m\u001b[0m\u001b[0m\n\u001b[1;32m     82\u001b[0m     \"\"\"\n\u001b[0;32m---> 83\u001b[0;31m     \u001b[0;32mreturn\u001b[0m \u001b[0marray\u001b[0m\u001b[0;34m(\u001b[0m\u001b[0ma\u001b[0m\u001b[0;34m,\u001b[0m \u001b[0mdtype\u001b[0m\u001b[0;34m,\u001b[0m \u001b[0mcopy\u001b[0m\u001b[0;34m=\u001b[0m\u001b[0;32mFalse\u001b[0m\u001b[0;34m,\u001b[0m \u001b[0morder\u001b[0m\u001b[0;34m=\u001b[0m\u001b[0morder\u001b[0m\u001b[0;34m)\u001b[0m\u001b[0;34m\u001b[0m\u001b[0;34m\u001b[0m\u001b[0m\n\u001b[0m\u001b[1;32m     84\u001b[0m \u001b[0;34m\u001b[0m\u001b[0m\n\u001b[1;32m     85\u001b[0m \u001b[0;34m\u001b[0m\u001b[0m\n",
      "\u001b[0;31mValueError\u001b[0m: could not convert string to float: 'ventura'"
     ]
    }
   ],
   "source": [
    "#RFE function from prepare.py\n",
    "n_features= prepare.rfe(X_train_scaled, y_train, 3)"
   ]
  },
  {
   "cell_type": "code",
   "execution_count": null,
   "metadata": {},
   "outputs": [],
   "source": [
    "def select_kbest(X,y,k): \n",
    "    f_selector = SelectKBest(f_regression, k)\n",
    "    f_selector.fit(X, y)\n",
    "    k_features = X.columns[f_selector.get_support()]\n",
    "\n",
    "    return k_features"
   ]
  },
  {
   "cell_type": "code",
   "execution_count": null,
   "metadata": {},
   "outputs": [],
   "source": [
    "#SelectKBest function from prepare.py\n",
    "k_features = prepare.select_kbest(X_train_scaled, y_train, 3)"
   ]
  },
  {
   "cell_type": "code",
   "execution_count": null,
   "metadata": {},
   "outputs": [],
   "source": []
  }
 ],
 "metadata": {
  "kernelspec": {
   "display_name": "Python 3",
   "language": "python",
   "name": "python3"
  },
  "language_info": {
   "codemirror_mode": {
    "name": "ipython",
    "version": 3
   },
   "file_extension": ".py",
   "mimetype": "text/x-python",
   "name": "python",
   "nbconvert_exporter": "python",
   "pygments_lexer": "ipython3",
   "version": "3.8.5"
  }
 },
 "nbformat": 4,
 "nbformat_minor": 4
}

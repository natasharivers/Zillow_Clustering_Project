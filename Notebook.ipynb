{
 "cells": [
  {
   "cell_type": "markdown",
   "metadata": {},
   "source": [
    "![](Zillow.jpg)"
   ]
  },
  {
   "cell_type": "markdown",
   "metadata": {},
   "source": [
    "# Zillow Clustering Project\n",
    "## Natasha Rivers\n",
    "### June 28, 2021"
   ]
  },
  {
   "cell_type": "markdown",
   "metadata": {},
   "source": [
    "<hr style=\"border:2px solid black\"> </hr>"
   ]
  },
  {
   "cell_type": "markdown",
   "metadata": {},
   "source": [
    "### Imports"
   ]
  },
  {
   "cell_type": "code",
   "execution_count": 1,
   "metadata": {},
   "outputs": [],
   "source": [
    "import acquire\n",
    "import prepare\n",
    "import explore\n",
    "\n",
    "import pandas as pd\n",
    "import numpy as np\n",
    "import seaborn as sns\n",
    "import matplotlib.pyplot as plt\n",
    "\n",
    "from sklearn.model_selection import train_test_split\n",
    "from sklearn.impute import SimpleImputer\n",
    "from sklearn.preprocessing import MinMaxScaler\n",
    "from sklearn.feature_selection import RFE, SelectKBest, f_regression\n",
    "from sklearn.linear_model import LinearRegression, TweedieRegressor, LassoLars\n",
    "from sklearn.cluster import KMeans\n",
    "\n",
    "import warnings\n",
    "warnings.filterwarnings(\"ignore\")"
   ]
  },
  {
   "cell_type": "markdown",
   "metadata": {},
   "source": [
    "<hr style=\"border:2px solid black\"> </hr>"
   ]
  },
  {
   "cell_type": "markdown",
   "metadata": {},
   "source": [
    "## Acquire"
   ]
  },
  {
   "cell_type": "code",
   "execution_count": 2,
   "metadata": {},
   "outputs": [],
   "source": [
    "def get_connection(db_name):\n",
    "    '''\n",
    "    This function uses my info from my env file to\n",
    "    create a connection url to access the Codeup db.\n",
    "    '''\n",
    "    from env import host, user, password\n",
    "    return f'mysql+pymysql://{user}:{password}@{host}/{db_name}'"
   ]
  },
  {
   "cell_type": "code",
   "execution_count": 3,
   "metadata": {},
   "outputs": [],
   "source": [
    "#my query is as follows:\n",
    "def get_zillow():\n",
    "    '''\n",
    "    This function reads in the Zillow data from the Codeup db\n",
    "    returns: a pandas DataFrame \n",
    "    '''\n",
    "    \n",
    "    zc_query = '''\n",
    "    select prop.parcelid\n",
    "        , pred.logerror\n",
    "        , bathroomcnt\n",
    "        , bedroomcnt\n",
    "        , calculatedfinishedsquarefeet\n",
    "        , fips\n",
    "        , latitude\n",
    "        , longitude\n",
    "        , lotsizesquarefeet\n",
    "        , regionidcity\n",
    "        , regionidcounty\n",
    "        , regionidzip\n",
    "        , yearbuilt\n",
    "        , structuretaxvaluedollarcnt\n",
    "        , taxvaluedollarcnt\n",
    "        , landtaxvaluedollarcnt\n",
    "        , taxamount\n",
    "        , transactiondate\n",
    "    from properties_2017 prop\n",
    "    inner join predictions_2017 pred on prop.parcelid = pred.parcelid\n",
    "    where propertylandusetypeid = 261;\n",
    "    '''\n",
    "\n",
    "    return pd.read_sql(zc_query, get_connection('zillow'))"
   ]
  },
  {
   "cell_type": "code",
   "execution_count": 4,
   "metadata": {},
   "outputs": [],
   "source": [
    "def get_zillow_file():\n",
    "    '''\n",
    "    This function reads in the zillow csv if it is available\n",
    "    if not, one is created and read in as a pandas dataframe\n",
    "    using the SQL query and connection functions above\n",
    "    '''\n",
    "    if os.path.isfile('zillow.csv'):\n",
    "        df = pd.read_csv('zillow.csv', index_col=0)\n",
    "    \n",
    "    else:\n",
    "        df = get_zillow()\n",
    "        df.to_csv('zillow.csv')\n",
    "    \n",
    "    return df"
   ]
  },
  {
   "cell_type": "code",
   "execution_count": 5,
   "metadata": {},
   "outputs": [],
   "source": [
    "#function from acquire.py \n",
    "zillow = acquire.get_zillow_file()"
   ]
  },
  {
   "cell_type": "code",
   "execution_count": 6,
   "metadata": {
    "scrolled": true
   },
   "outputs": [
    {
     "data": {
      "text/html": [
       "<div>\n",
       "<style scoped>\n",
       "    .dataframe tbody tr th:only-of-type {\n",
       "        vertical-align: middle;\n",
       "    }\n",
       "\n",
       "    .dataframe tbody tr th {\n",
       "        vertical-align: top;\n",
       "    }\n",
       "\n",
       "    .dataframe thead th {\n",
       "        text-align: right;\n",
       "    }\n",
       "</style>\n",
       "<table border=\"1\" class=\"dataframe\">\n",
       "  <thead>\n",
       "    <tr style=\"text-align: right;\">\n",
       "      <th></th>\n",
       "      <th>parcelid</th>\n",
       "      <th>logerror</th>\n",
       "      <th>bathroomcnt</th>\n",
       "      <th>bedroomcnt</th>\n",
       "      <th>calculatedfinishedsquarefeet</th>\n",
       "      <th>fips</th>\n",
       "      <th>latitude</th>\n",
       "      <th>longitude</th>\n",
       "      <th>lotsizesquarefeet</th>\n",
       "      <th>regionidcity</th>\n",
       "      <th>regionidcounty</th>\n",
       "      <th>regionidzip</th>\n",
       "      <th>yearbuilt</th>\n",
       "      <th>structuretaxvaluedollarcnt</th>\n",
       "      <th>taxvaluedollarcnt</th>\n",
       "      <th>landtaxvaluedollarcnt</th>\n",
       "      <th>taxamount</th>\n",
       "      <th>transactiondate</th>\n",
       "    </tr>\n",
       "  </thead>\n",
       "  <tbody>\n",
       "    <tr>\n",
       "      <th>0</th>\n",
       "      <td>14297519</td>\n",
       "      <td>0.025595</td>\n",
       "      <td>3.5</td>\n",
       "      <td>4.0</td>\n",
       "      <td>3100.0</td>\n",
       "      <td>6059.0</td>\n",
       "      <td>33634931.0</td>\n",
       "      <td>-117869207.0</td>\n",
       "      <td>4506.0</td>\n",
       "      <td>53571.0</td>\n",
       "      <td>1286.0</td>\n",
       "      <td>96978.0</td>\n",
       "      <td>1998.0</td>\n",
       "      <td>485713.0</td>\n",
       "      <td>1023282.0</td>\n",
       "      <td>537569.0</td>\n",
       "      <td>11013.72</td>\n",
       "      <td>2017-01-01</td>\n",
       "    </tr>\n",
       "    <tr>\n",
       "      <th>1</th>\n",
       "      <td>17052889</td>\n",
       "      <td>0.055619</td>\n",
       "      <td>1.0</td>\n",
       "      <td>2.0</td>\n",
       "      <td>1465.0</td>\n",
       "      <td>6111.0</td>\n",
       "      <td>34449266.0</td>\n",
       "      <td>-119281531.0</td>\n",
       "      <td>12647.0</td>\n",
       "      <td>13091.0</td>\n",
       "      <td>2061.0</td>\n",
       "      <td>97099.0</td>\n",
       "      <td>1967.0</td>\n",
       "      <td>88000.0</td>\n",
       "      <td>464000.0</td>\n",
       "      <td>376000.0</td>\n",
       "      <td>5672.48</td>\n",
       "      <td>2017-01-01</td>\n",
       "    </tr>\n",
       "    <tr>\n",
       "      <th>2</th>\n",
       "      <td>14186244</td>\n",
       "      <td>0.005383</td>\n",
       "      <td>2.0</td>\n",
       "      <td>3.0</td>\n",
       "      <td>1243.0</td>\n",
       "      <td>6059.0</td>\n",
       "      <td>33886168.0</td>\n",
       "      <td>-117823170.0</td>\n",
       "      <td>8432.0</td>\n",
       "      <td>21412.0</td>\n",
       "      <td>1286.0</td>\n",
       "      <td>97078.0</td>\n",
       "      <td>1962.0</td>\n",
       "      <td>85289.0</td>\n",
       "      <td>564778.0</td>\n",
       "      <td>479489.0</td>\n",
       "      <td>6488.30</td>\n",
       "      <td>2017-01-01</td>\n",
       "    </tr>\n",
       "    <tr>\n",
       "      <th>3</th>\n",
       "      <td>12177905</td>\n",
       "      <td>-0.103410</td>\n",
       "      <td>3.0</td>\n",
       "      <td>4.0</td>\n",
       "      <td>2376.0</td>\n",
       "      <td>6037.0</td>\n",
       "      <td>34245180.0</td>\n",
       "      <td>-118240722.0</td>\n",
       "      <td>13038.0</td>\n",
       "      <td>396551.0</td>\n",
       "      <td>3101.0</td>\n",
       "      <td>96330.0</td>\n",
       "      <td>1970.0</td>\n",
       "      <td>108918.0</td>\n",
       "      <td>145143.0</td>\n",
       "      <td>36225.0</td>\n",
       "      <td>1777.51</td>\n",
       "      <td>2017-01-01</td>\n",
       "    </tr>\n",
       "    <tr>\n",
       "      <th>4</th>\n",
       "      <td>12095076</td>\n",
       "      <td>-0.001011</td>\n",
       "      <td>3.0</td>\n",
       "      <td>4.0</td>\n",
       "      <td>2962.0</td>\n",
       "      <td>6037.0</td>\n",
       "      <td>34145202.0</td>\n",
       "      <td>-118179824.0</td>\n",
       "      <td>63000.0</td>\n",
       "      <td>47019.0</td>\n",
       "      <td>3101.0</td>\n",
       "      <td>96293.0</td>\n",
       "      <td>1950.0</td>\n",
       "      <td>276684.0</td>\n",
       "      <td>773303.0</td>\n",
       "      <td>496619.0</td>\n",
       "      <td>9516.26</td>\n",
       "      <td>2017-01-01</td>\n",
       "    </tr>\n",
       "  </tbody>\n",
       "</table>\n",
       "</div>"
      ],
      "text/plain": [
       "   parcelid  logerror  bathroomcnt  bedroomcnt  calculatedfinishedsquarefeet  \\\n",
       "0  14297519  0.025595          3.5         4.0                        3100.0   \n",
       "1  17052889  0.055619          1.0         2.0                        1465.0   \n",
       "2  14186244  0.005383          2.0         3.0                        1243.0   \n",
       "3  12177905 -0.103410          3.0         4.0                        2376.0   \n",
       "4  12095076 -0.001011          3.0         4.0                        2962.0   \n",
       "\n",
       "     fips    latitude    longitude  lotsizesquarefeet  regionidcity  \\\n",
       "0  6059.0  33634931.0 -117869207.0             4506.0       53571.0   \n",
       "1  6111.0  34449266.0 -119281531.0            12647.0       13091.0   \n",
       "2  6059.0  33886168.0 -117823170.0             8432.0       21412.0   \n",
       "3  6037.0  34245180.0 -118240722.0            13038.0      396551.0   \n",
       "4  6037.0  34145202.0 -118179824.0            63000.0       47019.0   \n",
       "\n",
       "   regionidcounty  regionidzip  yearbuilt  structuretaxvaluedollarcnt  \\\n",
       "0          1286.0      96978.0     1998.0                    485713.0   \n",
       "1          2061.0      97099.0     1967.0                     88000.0   \n",
       "2          1286.0      97078.0     1962.0                     85289.0   \n",
       "3          3101.0      96330.0     1970.0                    108918.0   \n",
       "4          3101.0      96293.0     1950.0                    276684.0   \n",
       "\n",
       "   taxvaluedollarcnt  landtaxvaluedollarcnt  taxamount transactiondate  \n",
       "0          1023282.0               537569.0   11013.72      2017-01-01  \n",
       "1           464000.0               376000.0    5672.48      2017-01-01  \n",
       "2           564778.0               479489.0    6488.30      2017-01-01  \n",
       "3           145143.0                36225.0    1777.51      2017-01-01  \n",
       "4           773303.0               496619.0    9516.26      2017-01-01  "
      ]
     },
     "execution_count": 6,
     "metadata": {},
     "output_type": "execute_result"
    }
   ],
   "source": [
    "zillow.head()"
   ]
  },
  {
   "cell_type": "code",
   "execution_count": 7,
   "metadata": {},
   "outputs": [
    {
     "data": {
      "text/plain": [
       "parcelid                          int64\n",
       "logerror                        float64\n",
       "bathroomcnt                     float64\n",
       "bedroomcnt                      float64\n",
       "calculatedfinishedsquarefeet    float64\n",
       "fips                            float64\n",
       "latitude                        float64\n",
       "longitude                       float64\n",
       "lotsizesquarefeet               float64\n",
       "regionidcity                    float64\n",
       "regionidcounty                  float64\n",
       "regionidzip                     float64\n",
       "yearbuilt                       float64\n",
       "structuretaxvaluedollarcnt      float64\n",
       "taxvaluedollarcnt               float64\n",
       "landtaxvaluedollarcnt           float64\n",
       "taxamount                       float64\n",
       "transactiondate                  object\n",
       "dtype: object"
      ]
     },
     "execution_count": 7,
     "metadata": {},
     "output_type": "execute_result"
    }
   ],
   "source": [
    "zillow.dtypes"
   ]
  },
  {
   "cell_type": "code",
   "execution_count": 8,
   "metadata": {},
   "outputs": [
    {
     "name": "stdout",
     "output_type": "stream",
     "text": [
      "<class 'pandas.core.frame.DataFrame'>\n",
      "Int64Index: 52442 entries, 0 to 52441\n",
      "Data columns (total 18 columns):\n",
      " #   Column                        Non-Null Count  Dtype  \n",
      "---  ------                        --------------  -----  \n",
      " 0   parcelid                      52442 non-null  int64  \n",
      " 1   logerror                      52442 non-null  float64\n",
      " 2   bathroomcnt                   52442 non-null  float64\n",
      " 3   bedroomcnt                    52442 non-null  float64\n",
      " 4   calculatedfinishedsquarefeet  52360 non-null  float64\n",
      " 5   fips                          52442 non-null  float64\n",
      " 6   latitude                      52442 non-null  float64\n",
      " 7   longitude                     52442 non-null  float64\n",
      " 8   lotsizesquarefeet             52073 non-null  float64\n",
      " 9   regionidcity                  51405 non-null  float64\n",
      " 10  regionidcounty                52442 non-null  float64\n",
      " 11  regionidzip                   52416 non-null  float64\n",
      " 12  yearbuilt                     52326 non-null  float64\n",
      " 13  structuretaxvaluedollarcnt    52358 non-null  float64\n",
      " 14  taxvaluedollarcnt             52441 non-null  float64\n",
      " 15  landtaxvaluedollarcnt         52441 non-null  float64\n",
      " 16  taxamount                     52438 non-null  float64\n",
      " 17  transactiondate               52442 non-null  object \n",
      "dtypes: float64(16), int64(1), object(1)\n",
      "memory usage: 7.6+ MB\n"
     ]
    }
   ],
   "source": [
    "#52442 entries,17 columns several nulls, incorrect dtypes\n",
    "zillow.info()"
   ]
  },
  {
   "cell_type": "code",
   "execution_count": 9,
   "metadata": {},
   "outputs": [
    {
     "data": {
      "text/plain": [
       "(52442, 18)"
      ]
     },
     "execution_count": 9,
     "metadata": {},
     "output_type": "execute_result"
    }
   ],
   "source": [
    "zillow.shape"
   ]
  },
  {
   "cell_type": "markdown",
   "metadata": {},
   "source": [
    "## Takeaways from Acquire:\n",
    "- based somewhat on personal interpretation, different \"propertylandusetypeid\" may be used. \n",
    "    - ended up settling on \"261\" (single-family residential)\n",
    "- creating a function to save get_zillow into a csv will drastically reduce time to import\n",
    "- 52,442 entries\n",
    "- 18 different columns\n",
    "    - appear to have some nulls (further explore this in prepare)"
   ]
  },
  {
   "cell_type": "markdown",
   "metadata": {},
   "source": [
    "<hr style=\"border:2px solid black\"> </hr>"
   ]
  },
  {
   "cell_type": "markdown",
   "metadata": {},
   "source": [
    "## Prepare"
   ]
  },
  {
   "cell_type": "code",
   "execution_count": 10,
   "metadata": {},
   "outputs": [
    {
     "data": {
      "image/png": "[encoded data removed]",
      "text/plain": [
       "<Figure size 432x288 with 1 Axes>"
      ]
     },
     "metadata": {
      "needs_background": "light"
     },
     "output_type": "display_data"
    },
    {
     "data": {
      "image/png": "[encoded data removed]",
      "text/plain": [
       "<Figure size 432x288 with 1 Axes>"
      ]
     },
     "metadata": {
      "needs_background": "light"
     },
     "output_type": "display_data"
    },
    {
     "data": {
      "image/png": "[encoded data removed]",
      "text/plain": [
       "<Figure size 432x288 with 1 Axes>"
      ]
     },
     "metadata": {
      "needs_background": "light"
     },
     "output_type": "display_data"
    },
    {
     "data": {
      "image/png": "[encoded data removed]",
      "text/plain": [
       "<Figure size 432x288 with 1 Axes>"
      ]
     },
     "metadata": {
      "needs_background": "light"
     },
     "output_type": "display_data"
    },
    {
     "data": {
      "image/png": "[encoded data removed]",
      "text/plain": [
       "<Figure size 432x288 with 1 Axes>"
      ]
     },
     "metadata": {
      "needs_background": "light"
     },
     "output_type": "display_data"
    },
    {
     "data": {
      "image/png": "[encoded data removed]",
      "text/plain": [
       "<Figure size 432x288 with 1 Axes>"
      ]
     },
     "metadata": {
      "needs_background": "light"
     },
     "output_type": "display_data"
    },
    {
     "data": {
      "image/png": "[encoded data removed]",
      "text/plain": [
       "<Figure size 432x288 with 1 Axes>"
      ]
     },
     "metadata": {
      "needs_background": "light"
     },
     "output_type": "display_data"
    },
    {
     "data": {
      "image/png": "[encoded data removed]",
      "text/plain": [
       "<Figure size 432x288 with 1 Axes>"
      ]
     },
     "metadata": {
      "needs_background": "light"
     },
     "output_type": "display_data"
    },
    {
     "data": {
      "image/png": "[encoded data removed]",
      "text/plain": [
       "<Figure size 432x288 with 1 Axes>"
      ]
     },
     "metadata": {
      "needs_background": "light"
     },
     "output_type": "display_data"
    },
    {
     "data": {
      "image/png": "[encoded data removed]",
      "text/plain": [
       "<Figure size 432x288 with 1 Axes>"
      ]
     },
     "metadata": {
      "needs_background": "light"
     },
     "output_type": "display_data"
    },
    {
     "data": {
      "image/png": "[encoded data removed]",
      "text/plain": [
       "<Figure size 432x288 with 1 Axes>"
      ]
     },
     "metadata": {
      "needs_background": "light"
     },
     "output_type": "display_data"
    },
    {
     "data": {
      "image/png": "[encoded data removed]",
      "text/plain": [
       "<Figure size 432x288 with 1 Axes>"
      ]
     },
     "metadata": {
      "needs_background": "light"
     },
     "output_type": "display_data"
    },
    {
     "data": {
      "image/png": "[encoded data removed]",
      "text/plain": [
       "<Figure size 432x288 with 1 Axes>"
      ]
     },
     "metadata": {
      "needs_background": "light"
     },
     "output_type": "display_data"
    },
    {
     "data": {
      "image/png": "[encoded data removed]",
      "text/plain": [
       "<Figure size 432x288 with 1 Axes>"
      ]
     },
     "metadata": {
      "needs_background": "light"
     },
     "output_type": "display_data"
    },
    {
     "data": {
      "image/png": "[encoded data removed]",
      "text/plain": [
       "<Figure size 432x288 with 1 Axes>"
      ]
     },
     "metadata": {
      "needs_background": "light"
     },
     "output_type": "display_data"
    },
    {
     "data": {
      "image/png": "[encoded data removed]",
      "text/plain": [
       "<Figure size 432x288 with 1 Axes>"
      ]
     },
     "metadata": {
      "needs_background": "light"
     },
     "output_type": "display_data"
    },
    {
     "data": {
      "image/png": "[encoded data removed]",
      "text/plain": [
       "<Figure size 432x288 with 1 Axes>"
      ]
     },
     "metadata": {
      "needs_background": "light"
     },
     "output_type": "display_data"
    },
    {
     "data": {
      "image/png": "[encoded data removed]",
      "text/plain": [
       "<Figure size 432x288 with 1 Axes>"
      ]
     },
     "metadata": {
      "needs_background": "light"
     },
     "output_type": "display_data"
    }
   ],
   "source": [
    "#visualize distributions \n",
    "#check for outliers\n",
    "for col in zillow.columns:\n",
    "    plt.hist(zillow[col])\n",
    "    plt.title(col)\n",
    "    plt.show()"
   ]
  },
  {
   "cell_type": "code",
   "execution_count": 11,
   "metadata": {},
   "outputs": [
    {
     "data": {
      "text/plain": [
       "<AxesSubplot:xlabel='bedroomcnt'>"
      ]
     },
     "execution_count": 11,
     "metadata": {},
     "output_type": "execute_result"
    },
    {
     "data": {
      "image/png": "[encoded data removed]",
      "text/plain": [
       "<Figure size 432x288 with 1 Axes>"
      ]
     },
     "metadata": {
      "needs_background": "light"
     },
     "output_type": "display_data"
    }
   ],
   "source": [
    "#specifically visualize outliers in bedroom\n",
    "sns.boxplot(zillow.bedroomcnt)"
   ]
  },
  {
   "cell_type": "code",
   "execution_count": 12,
   "metadata": {
    "scrolled": false
   },
   "outputs": [
    {
     "data": {
      "text/plain": [
       "parcelid                           0\n",
       "logerror                           0\n",
       "bathroomcnt                        0\n",
       "bedroomcnt                         0\n",
       "calculatedfinishedsquarefeet      82\n",
       "fips                               0\n",
       "latitude                           0\n",
       "longitude                          0\n",
       "lotsizesquarefeet                369\n",
       "regionidcity                    1037\n",
       "regionidcounty                     0\n",
       "regionidzip                       26\n",
       "yearbuilt                        116\n",
       "structuretaxvaluedollarcnt        84\n",
       "taxvaluedollarcnt                  1\n",
       "landtaxvaluedollarcnt              1\n",
       "taxamount                          4\n",
       "transactiondate                    0\n",
       "dtype: int64"
      ]
     },
     "execution_count": 12,
     "metadata": {},
     "output_type": "execute_result"
    }
   ],
   "source": [
    "#look at null values\n",
    "zillow.isnull().sum()"
   ]
  },
  {
   "cell_type": "code",
   "execution_count": 13,
   "metadata": {},
   "outputs": [],
   "source": [
    "def final_prep_zillow(df):\n",
    "    '''\n",
    "    This function takes in the zillow df acquired by get_zillow_file,\n",
    "    then the function removed outliers from bedrooms, bathrooms, value_assessed, and total_sqft\n",
    "    Returns a cleaned zillow df.\n",
    "    '''\n",
    "\n",
    "    #replace blank spaces and special characters\n",
    "    df = df.replace(r'^\\s*$', np.nan, regex=True)\n",
    "\n",
    "    #handling null values\n",
    "    #drop using threshold\n",
    "    df = handle_missing_values(df, prop_required_column = .5, prop_required_row = .5)\n",
    "    #impute continuous columns using mean\n",
    "    df = impute(df, 'mean', ['calculatedfinishedsquarefeet', 'lotsizesquarefeet', 'structuretaxvaluedollarcnt', 'taxvaluedollarcnt', 'landtaxvaluedollarcnt', 'taxamount'])\n",
    "    # imputing descrete columns with most frequent value\n",
    "    df = impute(df, 'most_frequent', ['bathroomcnt', 'bedroomcnt', 'regionidcity', 'regionidcounty', 'regionidzip', 'yearbuilt', 'fips', 'latitude', 'longitude'])\n",
    "\n",
    "    #drop duplicate parcelid keeping the latest one by transaction date\n",
    "    df = df.sort_values('transactiondate').drop_duplicates('parcelid',keep='last')\n",
    "\n",
    "    #remove outlier\n",
    "    df = remove_outliers(df, 1.5, ['calculatedfinishedsquarefeet', 'bedroomcnt', 'bathroomcnt'])\n",
    "\n",
    "    #new column with county names for fips\n",
    "    df['county'] = df.fips.apply(lambda x: 'orange' if x == 6059.0 else 'los_angeles' if x == 6037.0 else 'ventura')\n",
    "\n",
    "    #change datatypes\n",
    "    df.bedroomcnt = df.bedroomcnt.astype(int)\n",
    "    df.calculatedfinishedsquarefeet = df.calculatedfinishedsquarefeet.astype(int)\n",
    "    df.fips = df.fips.astype(int)\n",
    "    df.latitude = df.latitude.astype(int)\n",
    "    df.longitude = df.longitude.astype(int)\n",
    "    df.lotsizesquarefeet = df.lotsizesquarefeet.astype(int)\n",
    "    df.regionidcity = df.regionidcity.astype(int)\n",
    "    df.regionidcounty = df.regionidcounty.astype(int)\n",
    "    df.regionidzip = df.regionidzip.astype(int)\n",
    "    df.yearbuilt = df.yearbuilt.astype(int)\n",
    "    df.structuretaxvaluedollarcnt = df.structuretaxvaluedollarcnt.astype(int)\n",
    "    df.taxvaluedollarcnt = df.taxvaluedollarcnt.astype(int)\n",
    "    df.landtaxvaluedollarcnt = df.landtaxvaluedollarcnt.astype(int)\n",
    "    df.taxamount = df.taxamount.astype(int)\n",
    "\n",
    "    #change column names to be more legible\n",
    "    df = df.rename(columns={\"calculatedfinishedsquarefeet\": \"total_sqft\", \"bedroomcnt\": \"bedrooms\", \"bathroomcnt\": \"bathrooms\", \"taxvaluedollarcnt\": \"value_assessed\", \"taxamount\": \"tax_amount\", \"yearbuilt\": \"year_built\", \"fips\": \"county_code\"})\n",
    "\n",
    "    return df\n"
   ]
  },
  {
   "cell_type": "code",
   "execution_count": 14,
   "metadata": {},
   "outputs": [],
   "source": [
    "#function from prepare.py that changes column names, changes dtypes, \n",
    "#imputes values, drop nulls and outliers, creates new column with county name\n",
    "\n",
    "zillow = prepare.final_prep_zillow(zillow)"
   ]
  },
  {
   "cell_type": "code",
   "execution_count": 15,
   "metadata": {},
   "outputs": [
    {
     "data": {
      "text/html": [
       "<div>\n",
       "<style scoped>\n",
       "    .dataframe tbody tr th:only-of-type {\n",
       "        vertical-align: middle;\n",
       "    }\n",
       "\n",
       "    .dataframe tbody tr th {\n",
       "        vertical-align: top;\n",
       "    }\n",
       "\n",
       "    .dataframe thead th {\n",
       "        text-align: right;\n",
       "    }\n",
       "</style>\n",
       "<table border=\"1\" class=\"dataframe\">\n",
       "  <thead>\n",
       "    <tr style=\"text-align: right;\">\n",
       "      <th></th>\n",
       "      <th>parcelid</th>\n",
       "      <th>logerror</th>\n",
       "      <th>bathrooms</th>\n",
       "      <th>bedrooms</th>\n",
       "      <th>total_sqft</th>\n",
       "      <th>county_code</th>\n",
       "      <th>latitude</th>\n",
       "      <th>longitude</th>\n",
       "      <th>lotsizesquarefeet</th>\n",
       "      <th>regionidcity</th>\n",
       "      <th>regionidcounty</th>\n",
       "      <th>regionidzip</th>\n",
       "      <th>year_built</th>\n",
       "      <th>structuretaxvaluedollarcnt</th>\n",
       "      <th>value_assessed</th>\n",
       "      <th>landtaxvaluedollarcnt</th>\n",
       "      <th>tax_amount</th>\n",
       "      <th>transactiondate</th>\n",
       "      <th>county</th>\n",
       "    </tr>\n",
       "  </thead>\n",
       "  <tbody>\n",
       "    <tr>\n",
       "      <th>0</th>\n",
       "      <td>14297519</td>\n",
       "      <td>0.025595</td>\n",
       "      <td>3.5</td>\n",
       "      <td>4</td>\n",
       "      <td>3100</td>\n",
       "      <td>6059</td>\n",
       "      <td>33634931</td>\n",
       "      <td>-117869207</td>\n",
       "      <td>4506</td>\n",
       "      <td>53571</td>\n",
       "      <td>1286</td>\n",
       "      <td>96978</td>\n",
       "      <td>1998</td>\n",
       "      <td>485713</td>\n",
       "      <td>1023282</td>\n",
       "      <td>537569</td>\n",
       "      <td>11013</td>\n",
       "      <td>2017-01-01</td>\n",
       "      <td>orange</td>\n",
       "    </tr>\n",
       "    <tr>\n",
       "      <th>1</th>\n",
       "      <td>17052889</td>\n",
       "      <td>0.055619</td>\n",
       "      <td>1.0</td>\n",
       "      <td>2</td>\n",
       "      <td>1465</td>\n",
       "      <td>6111</td>\n",
       "      <td>34449266</td>\n",
       "      <td>-119281531</td>\n",
       "      <td>12647</td>\n",
       "      <td>13091</td>\n",
       "      <td>2061</td>\n",
       "      <td>97099</td>\n",
       "      <td>1967</td>\n",
       "      <td>88000</td>\n",
       "      <td>464000</td>\n",
       "      <td>376000</td>\n",
       "      <td>5672</td>\n",
       "      <td>2017-01-01</td>\n",
       "      <td>ventura</td>\n",
       "    </tr>\n",
       "    <tr>\n",
       "      <th>2</th>\n",
       "      <td>14186244</td>\n",
       "      <td>0.005383</td>\n",
       "      <td>2.0</td>\n",
       "      <td>3</td>\n",
       "      <td>1243</td>\n",
       "      <td>6059</td>\n",
       "      <td>33886168</td>\n",
       "      <td>-117823170</td>\n",
       "      <td>8432</td>\n",
       "      <td>21412</td>\n",
       "      <td>1286</td>\n",
       "      <td>97078</td>\n",
       "      <td>1962</td>\n",
       "      <td>85289</td>\n",
       "      <td>564778</td>\n",
       "      <td>479489</td>\n",
       "      <td>6488</td>\n",
       "      <td>2017-01-01</td>\n",
       "      <td>orange</td>\n",
       "    </tr>\n",
       "    <tr>\n",
       "      <th>3</th>\n",
       "      <td>12177905</td>\n",
       "      <td>-0.103410</td>\n",
       "      <td>3.0</td>\n",
       "      <td>4</td>\n",
       "      <td>2376</td>\n",
       "      <td>6037</td>\n",
       "      <td>34245180</td>\n",
       "      <td>-118240722</td>\n",
       "      <td>13038</td>\n",
       "      <td>396551</td>\n",
       "      <td>3101</td>\n",
       "      <td>96330</td>\n",
       "      <td>1970</td>\n",
       "      <td>108918</td>\n",
       "      <td>145143</td>\n",
       "      <td>36225</td>\n",
       "      <td>1777</td>\n",
       "      <td>2017-01-01</td>\n",
       "      <td>los_angeles</td>\n",
       "    </tr>\n",
       "    <tr>\n",
       "      <th>4</th>\n",
       "      <td>12095076</td>\n",
       "      <td>-0.001011</td>\n",
       "      <td>3.0</td>\n",
       "      <td>4</td>\n",
       "      <td>2962</td>\n",
       "      <td>6037</td>\n",
       "      <td>34145202</td>\n",
       "      <td>-118179824</td>\n",
       "      <td>63000</td>\n",
       "      <td>47019</td>\n",
       "      <td>3101</td>\n",
       "      <td>96293</td>\n",
       "      <td>1950</td>\n",
       "      <td>276684</td>\n",
       "      <td>773303</td>\n",
       "      <td>496619</td>\n",
       "      <td>9516</td>\n",
       "      <td>2017-01-01</td>\n",
       "      <td>los_angeles</td>\n",
       "    </tr>\n",
       "  </tbody>\n",
       "</table>\n",
       "</div>"
      ],
      "text/plain": [
       "   parcelid  logerror  bathrooms  bedrooms  total_sqft  county_code  latitude  \\\n",
       "0  14297519  0.025595        3.5         4        3100         6059  33634931   \n",
       "1  17052889  0.055619        1.0         2        1465         6111  34449266   \n",
       "2  14186244  0.005383        2.0         3        1243         6059  33886168   \n",
       "3  12177905 -0.103410        3.0         4        2376         6037  34245180   \n",
       "4  12095076 -0.001011        3.0         4        2962         6037  34145202   \n",
       "\n",
       "   longitude  lotsizesquarefeet  regionidcity  regionidcounty  regionidzip  \\\n",
       "0 -117869207               4506         53571            1286        96978   \n",
       "1 -119281531              12647         13091            2061        97099   \n",
       "2 -117823170               8432         21412            1286        97078   \n",
       "3 -118240722              13038        396551            3101        96330   \n",
       "4 -118179824              63000         47019            3101        96293   \n",
       "\n",
       "   year_built  structuretaxvaluedollarcnt  value_assessed  \\\n",
       "0        1998                      485713         1023282   \n",
       "1        1967                       88000          464000   \n",
       "2        1962                       85289          564778   \n",
       "3        1970                      108918          145143   \n",
       "4        1950                      276684          773303   \n",
       "\n",
       "   landtaxvaluedollarcnt  tax_amount transactiondate       county  \n",
       "0                 537569       11013      2017-01-01       orange  \n",
       "1                 376000        5672      2017-01-01      ventura  \n",
       "2                 479489        6488      2017-01-01       orange  \n",
       "3                  36225        1777      2017-01-01  los_angeles  \n",
       "4                 496619        9516      2017-01-01  los_angeles  "
      ]
     },
     "execution_count": 15,
     "metadata": {},
     "output_type": "execute_result"
    }
   ],
   "source": [
    "#as you can see.. column names have been changed\n",
    "zillow.head()"
   ]
  },
  {
   "cell_type": "code",
   "execution_count": 16,
   "metadata": {},
   "outputs": [
    {
     "data": {
      "text/plain": [
       "parcelid                        int64\n",
       "logerror                      float64\n",
       "bathrooms                     float64\n",
       "bedrooms                        int64\n",
       "total_sqft                      int64\n",
       "county_code                     int64\n",
       "latitude                        int64\n",
       "longitude                       int64\n",
       "lotsizesquarefeet               int64\n",
       "regionidcity                    int64\n",
       "regionidcounty                  int64\n",
       "regionidzip                     int64\n",
       "year_built                      int64\n",
       "structuretaxvaluedollarcnt      int64\n",
       "value_assessed                  int64\n",
       "landtaxvaluedollarcnt           int64\n",
       "tax_amount                      int64\n",
       "transactiondate                object\n",
       "county                         object\n",
       "dtype: object"
      ]
     },
     "execution_count": 16,
     "metadata": {},
     "output_type": "execute_result"
    }
   ],
   "source": [
    "#prepare.py also changed dtypes\n",
    "zillow.dtypes"
   ]
  },
  {
   "cell_type": "code",
   "execution_count": 17,
   "metadata": {},
   "outputs": [
    {
     "data": {
      "text/plain": [
       "parcelid                      0\n",
       "logerror                      0\n",
       "bathrooms                     0\n",
       "bedrooms                      0\n",
       "total_sqft                    0\n",
       "county_code                   0\n",
       "latitude                      0\n",
       "longitude                     0\n",
       "lotsizesquarefeet             0\n",
       "regionidcity                  0\n",
       "regionidcounty                0\n",
       "regionidzip                   0\n",
       "year_built                    0\n",
       "structuretaxvaluedollarcnt    0\n",
       "value_assessed                0\n",
       "landtaxvaluedollarcnt         0\n",
       "tax_amount                    0\n",
       "transactiondate               0\n",
       "county                        0\n",
       "dtype: int64"
      ]
     },
     "execution_count": 17,
     "metadata": {},
     "output_type": "execute_result"
    }
   ],
   "source": [
    "#prepare.py dropped nulls outside of threshold and imputed values \n",
    "zillow.isnull().sum()"
   ]
  },
  {
   "cell_type": "code",
   "execution_count": 18,
   "metadata": {},
   "outputs": [
    {
     "data": {
      "text/plain": [
       "(48236, 19)"
      ]
     },
     "execution_count": 18,
     "metadata": {},
     "output_type": "execute_result"
    }
   ],
   "source": [
    "#new shape after dropping outliers and nulls that were not imputed\n",
    "zillow.shape"
   ]
  },
  {
   "cell_type": "code",
   "execution_count": 19,
   "metadata": {},
   "outputs": [
    {
     "data": {
      "text/plain": [
       "<AxesSubplot:xlabel='bedrooms'>"
      ]
     },
     "execution_count": 19,
     "metadata": {},
     "output_type": "execute_result"
    },
    {
     "data": {
      "image/png": "[encoded data removed]",
      "text/plain": [
       "<Figure size 432x288 with 1 Axes>"
      ]
     },
     "metadata": {
      "needs_background": "light"
     },
     "output_type": "display_data"
    }
   ],
   "source": [
    "#visual that outliers were dropped \n",
    "sns.boxplot(zillow.bedrooms)"
   ]
  },
  {
   "cell_type": "code",
   "execution_count": 20,
   "metadata": {},
   "outputs": [
    {
     "data": {
      "text/plain": [
       "count    48236.000000\n",
       "mean         0.016362\n",
       "std          0.168416\n",
       "min         -4.655420\n",
       "25%         -0.025022\n",
       "50%          0.005964\n",
       "75%          0.037957\n",
       "max          3.394544\n",
       "Name: logerror, dtype: float64"
      ]
     },
     "execution_count": 20,
     "metadata": {},
     "output_type": "execute_result"
    }
   ],
   "source": [
    "#take a look at our target\n",
    "zillow.logerror.describe()"
   ]
  },
  {
   "cell_type": "code",
   "execution_count": 21,
   "metadata": {
    "scrolled": true
   },
   "outputs": [
    {
     "data": {
      "image/png": "[encoded data removed]",
      "text/plain": [
       "<Figure size 432x288 with 1 Axes>"
      ]
     },
     "metadata": {
      "needs_background": "light"
     },
     "output_type": "display_data"
    }
   ],
   "source": [
    "#taxvalue with outliers removed\n",
    "sns.histplot(data=zillow.logerror)\n",
    "plt.title('Distribution of Logerror')\n",
    "plt.show()"
   ]
  },
  {
   "cell_type": "code",
   "execution_count": 22,
   "metadata": {},
   "outputs": [
    {
     "name": "stdout",
     "output_type": "stream",
     "text": [
      "train -> (27011, 19)\n",
      "validate -> (11577, 19)\n",
      "test -> (9648, 19)\n"
     ]
    }
   ],
   "source": [
    "#train validate test split\n",
    "#split data using zillow_split function from prepare.py\n",
    "train, validate, test, X_train, y_train, X_validate, y_validate, X_test, y_test = prepare.zillow_split(zillow, 'logerror')"
   ]
  },
  {
   "cell_type": "markdown",
   "metadata": {},
   "source": [
    "## Takeaways from Prepare \n",
    "- several columns were renamed in order to make them more legible\n",
    "- duplicates were dropped on parcelid\n",
    "- null values:\n",
    "    - dropped if they fell outside of the threshold (0.5 column, 0.5 rows)\n",
    "    - if fell inside the threshold, null values were imputed by 'mean' and 'most frequent'\n",
    "- outliers were dropped from bedrooms, bathrooms, total_sqft columns\n",
    "- created column titled \"county\" that uses county_code to name column\n",
    "- final dataframe contains 48236 entries with 19 columns "
   ]
  },
  {
   "cell_type": "markdown",
   "metadata": {},
   "source": [
    "<hr style=\"border:2px solid black\"> </hr>"
   ]
  },
  {
   "cell_type": "markdown",
   "metadata": {},
   "source": [
    "## Explore"
   ]
  },
  {
   "cell_type": "code",
   "execution_count": 23,
   "metadata": {},
   "outputs": [],
   "source": [
    "def summarize(df):\n",
    "    '''\n",
    "    this function will take in a single argument (a pandas df) \n",
    "    output various statistics on that df, including:\n",
    "    #.head()\n",
    "    #.info()\n",
    "    #.describe()\n",
    "    #.value_counts()\n",
    "    #nulls \n",
    "    '''\n",
    "    #print head\n",
    "    print('=================================================')\n",
    "    print('Dataframe head: ')\n",
    "    print(df.head(3))\n",
    "    \n",
    "    #print info\n",
    "    print('=================================================')\n",
    "    print('Dataframe info: ')\n",
    "    print(df.info())\n",
    "    \n",
    "    #print descriptive stats\n",
    "    print('=================================================')\n",
    "    print('DataFrame Description')\n",
    "    print(df.describe())\n",
    "    num_cols = df.select_dtypes(exclude='O').columns.to_list()\n",
    "    cat_cols = df.select_dtypes(include='O').columns.to_list()\n",
    "    \n",
    "    #print value counts\n",
    "    print('=================================================')\n",
    "    print('Dataframe value counts: ')\n",
    "    for col in df. columns:\n",
    "        if col in cat_cols:\n",
    "            print(df[col].value_counts())\n",
    "        else:\n",
    "            print(df[col].value_counts(bins=10, sort = False))\n",
    "    \n",
    "    #print nulls by column\n",
    "    print('=================================================')\n",
    "    print('nulls in dataframe by column: ')\n",
    "    print(nulls_by_col(df))\n",
    "    \n",
    "    #print nulls by row\n",
    "    print('=================================================')\n",
    "    print('nulls in dataframe by row: ')\n",
    "    print(nulls_by_row(df))\n",
    "    print('=================================================')"
   ]
  },
  {
   "cell_type": "code",
   "execution_count": 24,
   "metadata": {},
   "outputs": [
    {
     "name": "stdout",
     "output_type": "stream",
     "text": [
      "=================================================\n",
      "Dataframe head: \n",
      "   parcelid  logerror  bathrooms  bedrooms  total_sqft  county_code  latitude  \\\n",
      "0  14297519  0.025595        3.5         4        3100         6059  33634931   \n",
      "1  17052889  0.055619        1.0         2        1465         6111  34449266   \n",
      "2  14186244  0.005383        2.0         3        1243         6059  33886168   \n",
      "\n",
      "   longitude  lotsizesquarefeet  regionidcity  regionidcounty  regionidzip  \\\n",
      "0 -117869207               4506         53571            1286        96978   \n",
      "1 -119281531              12647         13091            2061        97099   \n",
      "2 -117823170               8432         21412            1286        97078   \n",
      "\n",
      "   year_built  structuretaxvaluedollarcnt  value_assessed  \\\n",
      "0        1998                      485713         1023282   \n",
      "1        1967                       88000          464000   \n",
      "2        1962                       85289          564778   \n",
      "\n",
      "   landtaxvaluedollarcnt  tax_amount transactiondate   county  \n",
      "0                 537569       11013      2017-01-01   orange  \n",
      "1                 376000        5672      2017-01-01  ventura  \n",
      "2                 479489        6488      2017-01-01   orange  \n",
      "=================================================\n",
      "Dataframe info: \n",
      "<class 'pandas.core.frame.DataFrame'>\n",
      "Int64Index: 48236 entries, 0 to 52441\n",
      "Data columns (total 19 columns):\n",
      " #   Column                      Non-Null Count  Dtype  \n",
      "---  ------                      --------------  -----  \n",
      " 0   parcelid                    48236 non-null  int64  \n",
      " 1   logerror                    48236 non-null  float64\n",
      " 2   bathrooms                   48236 non-null  float64\n",
      " 3   bedrooms                    48236 non-null  int64  \n",
      " 4   total_sqft                  48236 non-null  int64  \n",
      " 5   county_code                 48236 non-null  int64  \n",
      " 6   latitude                    48236 non-null  int64  \n",
      " 7   longitude                   48236 non-null  int64  \n",
      " 8   lotsizesquarefeet           48236 non-null  int64  \n",
      " 9   regionidcity                48236 non-null  int64  \n",
      " 10  regionidcounty              48236 non-null  int64  \n",
      " 11  regionidzip                 48236 non-null  int64  \n",
      " 12  year_built                  48236 non-null  int64  \n",
      " 13  structuretaxvaluedollarcnt  48236 non-null  int64  \n",
      " 14  value_assessed              48236 non-null  int64  \n",
      " 15  landtaxvaluedollarcnt       48236 non-null  int64  \n",
      " 16  tax_amount                  48236 non-null  int64  \n",
      " 17  transactiondate             48236 non-null  object \n",
      " 18  county                      48236 non-null  object \n",
      "dtypes: float64(2), int64(15), object(2)\n",
      "memory usage: 7.4+ MB\n",
      "None\n",
      "=================================================\n",
      "DataFrame Description\n",
      "           parcelid      logerror     bathrooms      bedrooms    total_sqft  \\\n",
      "count  4.823600e+04  48236.000000  48236.000000  48236.000000  48236.000000   \n",
      "mean   1.296924e+07      0.016362      2.153962      3.232544   1762.282631   \n",
      "std    2.987161e+06      0.168416      0.759847      0.796522    664.726400   \n",
      "min    1.071186e+07     -4.655420      1.000000      2.000000    152.000000   \n",
      "25%    1.149604e+07     -0.025022      2.000000      3.000000   1256.000000   \n",
      "50%    1.257356e+07      0.005964      2.000000      3.000000   1613.000000   \n",
      "75%    1.410690e+07      0.037957      3.000000      4.000000   2151.000000   \n",
      "max    1.676380e+08      3.394544      4.000000      5.000000   3858.000000   \n",
      "\n",
      "        county_code      latitude     longitude  lotsizesquarefeet  \\\n",
      "count  48236.000000  4.823600e+04  4.823600e+04       4.823600e+04   \n",
      "mean    6048.967203  3.402669e+07 -1.181936e+08       1.024894e+04   \n",
      "std       20.962126  2.738907e+05  3.541613e+05       8.763538e+04   \n",
      "min     6037.000000  3.334062e+07 -1.194754e+08       2.360000e+02   \n",
      "25%     6037.000000  3.383109e+07 -1.183940e+08       5.519750e+03   \n",
      "50%     6037.000000  3.402091e+07 -1.181489e+08       6.750000e+03   \n",
      "75%     6059.000000  3.419088e+07 -1.179342e+08       8.409000e+03   \n",
      "max     6111.000000  3.481877e+07 -1.175546e+08       6.971010e+06   \n",
      "\n",
      "        regionidcity  regionidcounty    regionidzip    year_built  \\\n",
      "count   48236.000000    48236.000000   48236.000000  48236.000000   \n",
      "mean    33272.840907     2534.039017   96625.222572   1962.369682   \n",
      "std     49452.358247      800.446461    4161.364482     22.140993   \n",
      "min      3491.000000     1286.000000   95982.000000   1878.000000   \n",
      "25%     12447.000000     1286.000000   96208.000000   1950.000000   \n",
      "50%     24384.000000     3101.000000   96414.000000   1960.000000   \n",
      "75%     40227.000000     3101.000000   96996.000000   1977.000000   \n",
      "max    396556.000000     3101.000000  399675.000000   2016.000000   \n",
      "\n",
      "       structuretaxvaluedollarcnt  value_assessed  landtaxvaluedollarcnt  \\\n",
      "count                4.823600e+04    4.823600e+04           4.823600e+04   \n",
      "mean                 1.600820e+05    4.424203e+05           2.825828e+05   \n",
      "std                  1.327219e+05    4.208870e+05           3.347631e+05   \n",
      "min                  3.020000e+02    1.000000e+03           1.610000e+02   \n",
      "25%                  7.518925e+04    1.849262e+05           6.917800e+04   \n",
      "50%                  1.257170e+05    3.553370e+05           2.057470e+05   \n",
      "75%                  2.044102e+05    5.670000e+05           3.807260e+05   \n",
      "max                  3.221286e+06    1.100000e+07           1.054104e+07   \n",
      "\n",
      "          tax_amount  \n",
      "count   48236.000000  \n",
      "mean     5443.423626  \n",
      "std      4857.575301  \n",
      "min        49.000000  \n",
      "25%      2565.000000  \n",
      "50%      4450.000000  \n",
      "75%      6783.250000  \n",
      "max    129365.000000  \n",
      "=================================================\n",
      "Dataframe value counts: \n",
      "(10554928.851, 26404469.8]    48223\n",
      "(26404469.8, 42097084.6]          0\n",
      "(42097084.6, 57789699.4]          0\n",
      "(57789699.4, 73482314.2]          0\n",
      "(73482314.2, 89174929.0]          1\n",
      "(89174929.0, 104867543.8]         0\n",
      "(104867543.8, 120560158.6]        0\n",
      "(120560158.6, 136252773.4]        0\n",
      "(136252773.4, 151945388.2]        0\n",
      "(151945388.2, 167638003.0]       12\n",
      "Name: parcelid, dtype: int64\n",
      "(-4.664000000000001, -3.85]        2\n",
      "(-3.85, -3.045]                    0\n",
      "(-3.045, -2.24]                   12\n",
      "(-2.24, -1.435]                   13\n",
      "(-1.435, -0.63]                  102\n",
      "(-0.63, 0.175]                 45596\n",
      "(0.175, 0.98]                   2338\n",
      "(0.98, 1.785]                     94\n",
      "(1.785, 2.59]                     72\n",
      "(2.59, 3.395]                      7\n",
      "Name: logerror, dtype: int64\n",
      "(0.996, 1.3]     8981\n",
      "(1.3, 1.6]        838\n",
      "(1.6, 1.9]          0\n",
      "(1.9, 2.2]      21708\n",
      "(2.2, 2.5]       3908\n",
      "(2.5, 2.8]          0\n",
      "(2.8, 3.1]      10349\n",
      "(3.1, 3.4]          0\n",
      "(3.4, 3.7]        761\n",
      "(3.7, 4.0]       1691\n",
      "Name: bathrooms, dtype: int64\n",
      "(1.9960000000000002, 2.3]     8306\n",
      "(2.3, 2.6]                       0\n",
      "(2.6, 2.9]                       0\n",
      "(2.9, 3.2]                   23098\n",
      "(3.2, 3.5]                       0\n",
      "(3.5, 3.8]                       0\n",
      "(3.8, 4.1]                   14141\n",
      "(4.1, 4.4]                       0\n",
      "(4.4, 4.7]                       0\n",
      "(4.7, 5.0]                    2691\n",
      "Name: bedrooms, dtype: int64\n",
      "(148.293, 522.6]       19\n",
      "(522.6, 893.2]       2135\n",
      "(893.2, 1263.8]     10174\n",
      "(1263.8, 1634.4]    12418\n",
      "(1634.4, 2005.0]     8808\n",
      "(2005.0, 2375.6]     5818\n",
      "(2375.6, 2746.2]     4015\n",
      "(2746.2, 3116.8]     2546\n",
      "(3116.8, 3487.4]     1555\n",
      "(3487.4, 3858.0]      748\n",
      "Name: total_sqft, dtype: int64\n",
      "(6036.925, 6044.4]    31459\n",
      "(6044.4, 6051.8]          0\n",
      "(6051.8, 6059.2]      12774\n",
      "(6059.2, 6066.6]          0\n",
      "(6066.6, 6074.0]          0\n",
      "(6074.0, 6081.4]          0\n",
      "(6081.4, 6088.8]          0\n",
      "(6088.8, 6096.2]          0\n",
      "(6096.2, 6103.6]          0\n",
      "(6103.6, 6111.0]       4003\n",
      "Name: county_code, dtype: int64\n",
      "(33339141.852, 33488434.7]      661\n",
      "(33488434.7, 33636249.4]       2620\n",
      "(33636249.4, 33784064.1]       5617\n",
      "(33784064.1, 33931878.8]      10446\n",
      "(33931878.8, 34079693.5]       8309\n",
      "(34079693.5, 34227508.2]      11250\n",
      "(34227508.2, 34375322.9]       4312\n",
      "(34375322.9, 34523137.6]       1701\n",
      "(34523137.6, 34670952.3]       2108\n",
      "(34670952.3, 34818767.0]       1212\n",
      "Name: latitude, dtype: int64\n",
      "(-119477336.781, -119283338.0]      152\n",
      "(-119283338.0, -119091260.0]       1259\n",
      "(-119091260.0, -118899182.0]        944\n",
      "(-118899182.0, -118707104.0]       1555\n",
      "(-118707104.0, -118515026.0]       3485\n",
      "(-118515026.0, -118322948.0]       8333\n",
      "(-118322948.0, -118130870.0]       9427\n",
      "(-118130870.0, -117938792.0]      10795\n",
      "(-117938792.0, -117746714.0]       8341\n",
      "(-117746714.0, -117554636.0]       3945\n",
      "Name: longitude, dtype: int64\n",
      "(-6734.775000000001, 697313.4]    48222\n",
      "(697313.4, 1394390.8]                 4\n",
      "(1394390.8, 2091468.2]                2\n",
      "(2091468.2, 2788545.6]                0\n",
      "(2788545.6, 3485623.0]                1\n",
      "(3485623.0, 4182700.4]                0\n",
      "(4182700.4, 4879777.8]                0\n",
      "(4879777.8, 5576855.2]                0\n",
      "(5576855.2, 6273932.6]                0\n",
      "(6273932.6, 6971010.0]                7\n",
      "Name: lotsizesquarefeet, dtype: int64\n",
      "(3097.9339999999997, 42797.5]    36988\n",
      "(42797.5, 82104.0]                9682\n",
      "(82104.0, 121410.5]                807\n",
      "(121410.5, 160717.0]                 0\n",
      "(160717.0, 200023.5]                 0\n",
      "(200023.5, 239330.0]                 0\n",
      "(239330.0, 278636.5]                16\n",
      "(278636.5, 317943.0]                 0\n",
      "(317943.0, 357249.5]                 0\n",
      "(357249.5, 396556.0]               743\n",
      "Name: regionidcity, dtype: int64\n",
      "(1284.184, 1467.5]    12774\n",
      "(1467.5, 1649.0]          0\n",
      "(1649.0, 1830.5]          0\n",
      "(1830.5, 2012.0]          0\n",
      "(2012.0, 2193.5]       4003\n",
      "(2193.5, 2375.0]          0\n",
      "(2375.0, 2556.5]          0\n",
      "(2556.5, 2738.0]          0\n",
      "(2738.0, 2919.5]          0\n",
      "(2919.5, 3101.0]      31459\n",
      "Name: regionidcounty, dtype: int64\n",
      "(95678.306, 126351.3]    48227\n",
      "(126351.3, 156720.6]         0\n",
      "(156720.6, 187089.9]         0\n",
      "(187089.9, 217459.2]         0\n",
      "(217459.2, 247828.5]         0\n",
      "(247828.5, 278197.8]         0\n",
      "(278197.8, 308567.1]         0\n",
      "(308567.1, 338936.4]         0\n",
      "(338936.4, 369305.7]         0\n",
      "(369305.7, 399675.0]         9\n",
      "Name: regionidzip, dtype: int64\n",
      "(1877.861, 1891.8]       21\n",
      "(1891.8, 1905.6]        152\n",
      "(1905.6, 1919.4]        931\n",
      "(1919.4, 1933.2]       3644\n",
      "(1933.2, 1947.0]       4623\n",
      "(1947.0, 1960.8]      15477\n",
      "(1960.8, 1974.6]       9844\n",
      "(1974.6, 1988.4]       6544\n",
      "(1988.4, 2002.2]       4822\n",
      "(2002.2, 2016.0]       2178\n",
      "Name: year_built, dtype: int64\n",
      "(-2918.985, 322400.4]     43710\n",
      "(322400.4, 644498.8]       4114\n",
      "(644498.8, 966597.2]        288\n",
      "(966597.2, 1288695.6]        85\n",
      "(1288695.6, 1610794.0]       23\n",
      "(1610794.0, 1932892.4]       10\n",
      "(1932892.4, 2254990.8]        2\n",
      "(2254990.8, 2577089.2]        3\n",
      "(2577089.2, 2899187.6]        0\n",
      "(2899187.6, 3221286.0]        1\n",
      "Name: structuretaxvaluedollarcnt, dtype: int64\n",
      "(-9999.001, 1100900.0]     45746\n",
      "(1100900.0, 2200800.0]      2127\n",
      "(2200800.0, 3300700.0]       266\n",
      "(3300700.0, 4400600.0]        61\n",
      "(4400600.0, 5500500.0]        17\n",
      "(5500500.0, 6600400.0]        10\n",
      "(6600400.0, 7700300.0]         3\n",
      "(7700300.0, 8800200.0]         1\n",
      "(8800200.0, 9900100.0]         2\n",
      "(9900100.0, 11000000.0]        3\n",
      "Name: value_assessed, dtype: int64\n",
      "(-10379.877, 1054248.6]    46959\n",
      "(1054248.6, 2108336.2]      1107\n",
      "(2108336.2, 3162423.8]       121\n",
      "(3162423.8, 4216511.4]        27\n",
      "(4216511.4, 5270599.0]        12\n",
      "(5270599.0, 6324686.6]         1\n",
      "(6324686.6, 7378774.2]         4\n",
      "(7378774.2, 8432861.8]         0\n",
      "(8432861.8, 9486949.4]         1\n",
      "(9486949.4, 10541037.0]        4\n",
      "Name: landtaxvaluedollarcnt, dtype: int64\n",
      "(-80.31700000000001, 12980.6]    45618\n",
      "(12980.6, 25912.2]                2250\n",
      "(25912.2, 38843.8]                 279\n",
      "(38843.8, 51775.4]                  54\n",
      "(51775.4, 64707.0]                  18\n",
      "(64707.0, 77638.6]                  10\n",
      "(77638.6, 90570.2]                   1\n",
      "(90570.2, 103501.8]                  2\n",
      "(103501.8, 116433.4]                 1\n",
      "(116433.4, 129365.0]                 3\n",
      "Name: tax_amount, dtype: int64\n",
      "2017-06-30    738\n",
      "2017-04-28    567\n",
      "2017-05-31    526\n",
      "2017-07-28    511\n",
      "2017-08-31    485\n",
      "             ... \n",
      "2017-05-07      1\n",
      "2017-06-03      1\n",
      "2017-05-13      1\n",
      "2017-03-12      1\n",
      "2017-08-13      1\n",
      "Name: transactiondate, Length: 256, dtype: int64\n",
      "los_angeles    31459\n",
      "orange         12774\n",
      "ventura         4003\n",
      "Name: county, dtype: int64\n",
      "=================================================\n",
      "nulls in dataframe by column: \n",
      "                            num_rows_missing  pct_rows_missing\n",
      "parcelid                                   0               0.0\n",
      "logerror                                   0               0.0\n",
      "bathrooms                                  0               0.0\n",
      "bedrooms                                   0               0.0\n",
      "total_sqft                                 0               0.0\n",
      "county_code                                0               0.0\n",
      "latitude                                   0               0.0\n",
      "longitude                                  0               0.0\n",
      "lotsizesquarefeet                          0               0.0\n",
      "regionidcity                               0               0.0\n",
      "regionidcounty                             0               0.0\n",
      "regionidzip                                0               0.0\n",
      "year_built                                 0               0.0\n",
      "structuretaxvaluedollarcnt                 0               0.0\n",
      "value_assessed                             0               0.0\n",
      "landtaxvaluedollarcnt                      0               0.0\n",
      "tax_amount                                 0               0.0\n",
      "transactiondate                            0               0.0\n",
      "county                                     0               0.0\n",
      "=================================================\n",
      "nulls in dataframe by row: \n",
      "  num_cols_missing pct_cols_missing  num_rows\n",
      "0                0              0.0     48236\n",
      "=================================================\n"
     ]
    }
   ],
   "source": [
    "#function from explore.py\n",
    "summary = explore.summarize(zillow)"
   ]
  },
  {
   "cell_type": "code",
   "execution_count": 25,
   "metadata": {},
   "outputs": [
    {
     "data": {
      "image/png": "[encoded data removed]",
      "text/plain": [
       "<Figure size 576x864 with 2 Axes>"
      ]
     },
     "metadata": {
      "needs_background": "light"
     },
     "output_type": "display_data"
    }
   ],
   "source": [
    "#see what correlates most with logerror\n",
    "plt.figure(figsize=(8, 12))\n",
    "heatmap = sns.heatmap(zillow.corr()[['logerror']].sort_values(by='logerror', ascending=False), vmin=-1, vmax=1, annot=True, cmap='mako_r')\n",
    "heatmap.set_title('Features Correlating with Logerror', fontdict={'fontsize':18}, pad=16);"
   ]
  },
  {
   "cell_type": "code",
   "execution_count": 26,
   "metadata": {},
   "outputs": [],
   "source": [
    "numeric_cols = ['bathrooms', 'bedrooms', 'total_sqft',\n",
    "       'county_code', 'latitude', 'longitude', 'lotsizesquarefeet',\n",
    "       'regionidcity', 'regionidcounty', 'regionidzip', 'year_built',\n",
    "       'structuretaxvaluedollarcnt', 'value_assessed', 'landtaxvaluedollarcnt',\n",
    "       'tax_amount']"
   ]
  },
  {
   "cell_type": "code",
   "execution_count": 27,
   "metadata": {},
   "outputs": [],
   "source": [
    "#use minmaxscaler function from prepare.py\n",
    "X_train_scaled, X_validate_scaled, X_test_scaled = prepare.min_max_scaler(X_train, X_validate, X_test, numeric_cols)"
   ]
  },
  {
   "cell_type": "code",
   "execution_count": 28,
   "metadata": {},
   "outputs": [
    {
     "data": {
      "text/html": [
       "<div>\n",
       "<style scoped>\n",
       "    .dataframe tbody tr th:only-of-type {\n",
       "        vertical-align: middle;\n",
       "    }\n",
       "\n",
       "    .dataframe tbody tr th {\n",
       "        vertical-align: top;\n",
       "    }\n",
       "\n",
       "    .dataframe thead th {\n",
       "        text-align: right;\n",
       "    }\n",
       "</style>\n",
       "<table border=\"1\" class=\"dataframe\">\n",
       "  <thead>\n",
       "    <tr style=\"text-align: right;\">\n",
       "      <th></th>\n",
       "      <th>parcelid</th>\n",
       "      <th>bathrooms</th>\n",
       "      <th>bedrooms</th>\n",
       "      <th>total_sqft</th>\n",
       "      <th>county_code</th>\n",
       "      <th>latitude</th>\n",
       "      <th>longitude</th>\n",
       "      <th>lotsizesquarefeet</th>\n",
       "      <th>regionidcity</th>\n",
       "      <th>regionidcounty</th>\n",
       "      <th>regionidzip</th>\n",
       "      <th>year_built</th>\n",
       "      <th>structuretaxvaluedollarcnt</th>\n",
       "      <th>value_assessed</th>\n",
       "      <th>landtaxvaluedollarcnt</th>\n",
       "      <th>tax_amount</th>\n",
       "      <th>transactiondate</th>\n",
       "      <th>county</th>\n",
       "    </tr>\n",
       "  </thead>\n",
       "  <tbody>\n",
       "    <tr>\n",
       "      <th>45772</th>\n",
       "      <td>13863310</td>\n",
       "      <td>0.500000</td>\n",
       "      <td>0.333333</td>\n",
       "      <td>0.494904</td>\n",
       "      <td>0.297297</td>\n",
       "      <td>0.220949</td>\n",
       "      <td>0.765216</td>\n",
       "      <td>0.000327</td>\n",
       "      <td>0.055276</td>\n",
       "      <td>0.000000</td>\n",
       "      <td>0.003240</td>\n",
       "      <td>0.804348</td>\n",
       "      <td>0.076751</td>\n",
       "      <td>0.027714</td>\n",
       "      <td>0.014872</td>\n",
       "      <td>0.028292</td>\n",
       "      <td>2017-08-17</td>\n",
       "      <td>orange</td>\n",
       "    </tr>\n",
       "    <tr>\n",
       "      <th>8333</th>\n",
       "      <td>11848044</td>\n",
       "      <td>0.333333</td>\n",
       "      <td>0.000000</td>\n",
       "      <td>0.288788</td>\n",
       "      <td>0.000000</td>\n",
       "      <td>0.488290</td>\n",
       "      <td>0.693226</td>\n",
       "      <td>0.001551</td>\n",
       "      <td>0.006437</td>\n",
       "      <td>1.000000</td>\n",
       "      <td>0.001692</td>\n",
       "      <td>0.536232</td>\n",
       "      <td>0.046515</td>\n",
       "      <td>0.027103</td>\n",
       "      <td>0.020339</td>\n",
       "      <td>0.031665</td>\n",
       "      <td>2017-02-24</td>\n",
       "      <td>los_angeles</td>\n",
       "    </tr>\n",
       "    <tr>\n",
       "      <th>40587</th>\n",
       "      <td>11964889</td>\n",
       "      <td>0.666667</td>\n",
       "      <td>0.333333</td>\n",
       "      <td>0.370612</td>\n",
       "      <td>0.000000</td>\n",
       "      <td>0.526711</td>\n",
       "      <td>0.654546</td>\n",
       "      <td>0.000538</td>\n",
       "      <td>0.022785</td>\n",
       "      <td>1.000000</td>\n",
       "      <td>0.000211</td>\n",
       "      <td>0.956522</td>\n",
       "      <td>0.117965</td>\n",
       "      <td>0.032826</td>\n",
       "      <td>0.012127</td>\n",
       "      <td>0.035070</td>\n",
       "      <td>2017-07-24</td>\n",
       "      <td>los_angeles</td>\n",
       "    </tr>\n",
       "    <tr>\n",
       "      <th>19783</th>\n",
       "      <td>13863241</td>\n",
       "      <td>0.833333</td>\n",
       "      <td>0.333333</td>\n",
       "      <td>0.707248</td>\n",
       "      <td>0.297297</td>\n",
       "      <td>0.220198</td>\n",
       "      <td>0.763144</td>\n",
       "      <td>0.000388</td>\n",
       "      <td>0.055276</td>\n",
       "      <td>0.000000</td>\n",
       "      <td>0.003240</td>\n",
       "      <td>0.891304</td>\n",
       "      <td>0.152501</td>\n",
       "      <td>0.091243</td>\n",
       "      <td>0.069374</td>\n",
       "      <td>0.088927</td>\n",
       "      <td>2017-04-25</td>\n",
       "      <td>orange</td>\n",
       "    </tr>\n",
       "    <tr>\n",
       "      <th>38289</th>\n",
       "      <td>12544826</td>\n",
       "      <td>0.000000</td>\n",
       "      <td>0.333333</td>\n",
       "      <td>0.425821</td>\n",
       "      <td>0.000000</td>\n",
       "      <td>0.292202</td>\n",
       "      <td>0.684929</td>\n",
       "      <td>0.000547</td>\n",
       "      <td>0.108906</td>\n",
       "      <td>1.000000</td>\n",
       "      <td>0.000840</td>\n",
       "      <td>0.268116</td>\n",
       "      <td>0.081359</td>\n",
       "      <td>0.075133</td>\n",
       "      <td>0.066098</td>\n",
       "      <td>0.078098</td>\n",
       "      <td>2017-07-12</td>\n",
       "      <td>los_angeles</td>\n",
       "    </tr>\n",
       "    <tr>\n",
       "      <th>...</th>\n",
       "      <td>...</td>\n",
       "      <td>...</td>\n",
       "      <td>...</td>\n",
       "      <td>...</td>\n",
       "      <td>...</td>\n",
       "      <td>...</td>\n",
       "      <td>...</td>\n",
       "      <td>...</td>\n",
       "      <td>...</td>\n",
       "      <td>...</td>\n",
       "      <td>...</td>\n",
       "      <td>...</td>\n",
       "      <td>...</td>\n",
       "      <td>...</td>\n",
       "      <td>...</td>\n",
       "      <td>...</td>\n",
       "      <td>...</td>\n",
       "      <td>...</td>\n",
       "    </tr>\n",
       "    <tr>\n",
       "      <th>20599</th>\n",
       "      <td>12607086</td>\n",
       "      <td>0.000000</td>\n",
       "      <td>0.333333</td>\n",
       "      <td>0.213477</td>\n",
       "      <td>0.000000</td>\n",
       "      <td>0.332112</td>\n",
       "      <td>0.583283</td>\n",
       "      <td>0.000823</td>\n",
       "      <td>0.130337</td>\n",
       "      <td>1.000000</td>\n",
       "      <td>0.000596</td>\n",
       "      <td>0.550725</td>\n",
       "      <td>0.060864</td>\n",
       "      <td>0.056218</td>\n",
       "      <td>0.049453</td>\n",
       "      <td>0.056090</td>\n",
       "      <td>2017-04-28</td>\n",
       "      <td>los_angeles</td>\n",
       "    </tr>\n",
       "    <tr>\n",
       "      <th>11233</th>\n",
       "      <td>12164905</td>\n",
       "      <td>0.000000</td>\n",
       "      <td>0.333333</td>\n",
       "      <td>0.317950</td>\n",
       "      <td>0.000000</td>\n",
       "      <td>0.580850</td>\n",
       "      <td>0.688734</td>\n",
       "      <td>0.000600</td>\n",
       "      <td>0.110740</td>\n",
       "      <td>1.000000</td>\n",
       "      <td>0.001021</td>\n",
       "      <td>0.304348</td>\n",
       "      <td>0.037357</td>\n",
       "      <td>0.033535</td>\n",
       "      <td>0.029274</td>\n",
       "      <td>0.034440</td>\n",
       "      <td>2017-03-14</td>\n",
       "      <td>los_angeles</td>\n",
       "    </tr>\n",
       "    <tr>\n",
       "      <th>25333</th>\n",
       "      <td>17269390</td>\n",
       "      <td>0.333333</td>\n",
       "      <td>0.666667</td>\n",
       "      <td>0.371744</td>\n",
       "      <td>1.000000</td>\n",
       "      <td>0.575446</td>\n",
       "      <td>0.256368</td>\n",
       "      <td>0.001226</td>\n",
       "      <td>0.078325</td>\n",
       "      <td>0.426997</td>\n",
       "      <td>0.001215</td>\n",
       "      <td>0.666667</td>\n",
       "      <td>0.100188</td>\n",
       "      <td>0.030554</td>\n",
       "      <td>0.013238</td>\n",
       "      <td>0.028101</td>\n",
       "      <td>2017-05-19</td>\n",
       "      <td>ventura</td>\n",
       "    </tr>\n",
       "    <tr>\n",
       "      <th>31947</th>\n",
       "      <td>12115896</td>\n",
       "      <td>0.000000</td>\n",
       "      <td>0.000000</td>\n",
       "      <td>0.382786</td>\n",
       "      <td>0.000000</td>\n",
       "      <td>0.568910</td>\n",
       "      <td>0.702644</td>\n",
       "      <td>0.002064</td>\n",
       "      <td>0.110740</td>\n",
       "      <td>1.000000</td>\n",
       "      <td>0.001021</td>\n",
       "      <td>0.333333</td>\n",
       "      <td>0.016569</td>\n",
       "      <td>0.005440</td>\n",
       "      <td>0.002590</td>\n",
       "      <td>0.007751</td>\n",
       "      <td>2017-06-16</td>\n",
       "      <td>los_angeles</td>\n",
       "    </tr>\n",
       "    <tr>\n",
       "      <th>13318</th>\n",
       "      <td>12299617</td>\n",
       "      <td>0.000000</td>\n",
       "      <td>0.000000</td>\n",
       "      <td>0.152322</td>\n",
       "      <td>0.000000</td>\n",
       "      <td>0.419334</td>\n",
       "      <td>0.659710</td>\n",
       "      <td>0.000660</td>\n",
       "      <td>0.112630</td>\n",
       "      <td>1.000000</td>\n",
       "      <td>0.000471</td>\n",
       "      <td>0.565217</td>\n",
       "      <td>0.032853</td>\n",
       "      <td>0.030821</td>\n",
       "      <td>0.027203</td>\n",
       "      <td>0.033954</td>\n",
       "      <td>2017-03-24</td>\n",
       "      <td>los_angeles</td>\n",
       "    </tr>\n",
       "  </tbody>\n",
       "</table>\n",
       "<p>27011 rows × 18 columns</p>\n",
       "</div>"
      ],
      "text/plain": [
       "       parcelid  bathrooms  bedrooms  total_sqft  county_code  latitude  \\\n",
       "45772  13863310   0.500000  0.333333    0.494904     0.297297  0.220949   \n",
       "8333   11848044   0.333333  0.000000    0.288788     0.000000  0.488290   \n",
       "40587  11964889   0.666667  0.333333    0.370612     0.000000  0.526711   \n",
       "19783  13863241   0.833333  0.333333    0.707248     0.297297  0.220198   \n",
       "38289  12544826   0.000000  0.333333    0.425821     0.000000  0.292202   \n",
       "...         ...        ...       ...         ...          ...       ...   \n",
       "20599  12607086   0.000000  0.333333    0.213477     0.000000  0.332112   \n",
       "11233  12164905   0.000000  0.333333    0.317950     0.000000  0.580850   \n",
       "25333  17269390   0.333333  0.666667    0.371744     1.000000  0.575446   \n",
       "31947  12115896   0.000000  0.000000    0.382786     0.000000  0.568910   \n",
       "13318  12299617   0.000000  0.000000    0.152322     0.000000  0.419334   \n",
       "\n",
       "       longitude  lotsizesquarefeet  regionidcity  regionidcounty  \\\n",
       "45772   0.765216           0.000327      0.055276        0.000000   \n",
       "8333    0.693226           0.001551      0.006437        1.000000   \n",
       "40587   0.654546           0.000538      0.022785        1.000000   \n",
       "19783   0.763144           0.000388      0.055276        0.000000   \n",
       "38289   0.684929           0.000547      0.108906        1.000000   \n",
       "...          ...                ...           ...             ...   \n",
       "20599   0.583283           0.000823      0.130337        1.000000   \n",
       "11233   0.688734           0.000600      0.110740        1.000000   \n",
       "25333   0.256368           0.001226      0.078325        0.426997   \n",
       "31947   0.702644           0.002064      0.110740        1.000000   \n",
       "13318   0.659710           0.000660      0.112630        1.000000   \n",
       "\n",
       "       regionidzip  year_built  structuretaxvaluedollarcnt  value_assessed  \\\n",
       "45772     0.003240    0.804348                    0.076751        0.027714   \n",
       "8333      0.001692    0.536232                    0.046515        0.027103   \n",
       "40587     0.000211    0.956522                    0.117965        0.032826   \n",
       "19783     0.003240    0.891304                    0.152501        0.091243   \n",
       "38289     0.000840    0.268116                    0.081359        0.075133   \n",
       "...            ...         ...                         ...             ...   \n",
       "20599     0.000596    0.550725                    0.060864        0.056218   \n",
       "11233     0.001021    0.304348                    0.037357        0.033535   \n",
       "25333     0.001215    0.666667                    0.100188        0.030554   \n",
       "31947     0.001021    0.333333                    0.016569        0.005440   \n",
       "13318     0.000471    0.565217                    0.032853        0.030821   \n",
       "\n",
       "       landtaxvaluedollarcnt  tax_amount transactiondate       county  \n",
       "45772               0.014872    0.028292      2017-08-17       orange  \n",
       "8333                0.020339    0.031665      2017-02-24  los_angeles  \n",
       "40587               0.012127    0.035070      2017-07-24  los_angeles  \n",
       "19783               0.069374    0.088927      2017-04-25       orange  \n",
       "38289               0.066098    0.078098      2017-07-12  los_angeles  \n",
       "...                      ...         ...             ...          ...  \n",
       "20599               0.049453    0.056090      2017-04-28  los_angeles  \n",
       "11233               0.029274    0.034440      2017-03-14  los_angeles  \n",
       "25333               0.013238    0.028101      2017-05-19      ventura  \n",
       "31947               0.002590    0.007751      2017-06-16  los_angeles  \n",
       "13318               0.027203    0.033954      2017-03-24  los_angeles  \n",
       "\n",
       "[27011 rows x 18 columns]"
      ]
     },
     "execution_count": 28,
     "metadata": {},
     "output_type": "execute_result"
    }
   ],
   "source": [
    "X_train_scaled"
   ]
  },
  {
   "cell_type": "markdown",
   "metadata": {},
   "source": [
    "### Feature Engineering"
   ]
  },
  {
   "cell_type": "code",
   "execution_count": null,
   "metadata": {},
   "outputs": [],
   "source": []
  },
  {
   "cell_type": "markdown",
   "metadata": {},
   "source": [
    "### Clustering"
   ]
  },
  {
   "cell_type": "code",
   "execution_count": 29,
   "metadata": {},
   "outputs": [
    {
     "data": {
      "text/plain": [
       "array([1, 2, 1, ..., 1, 1, 1], dtype=int32)"
      ]
     },
     "execution_count": 29,
     "metadata": {},
     "output_type": "execute_result"
    }
   ],
   "source": [
    "X = zillow[['bedrooms', 'longitude']]\n",
    "kmeans = KMeans(n_clusters=3)\n",
    "kmeans.fit(X)\n",
    "kmeans.predict(X)"
   ]
  },
  {
   "cell_type": "code",
   "execution_count": 30,
   "metadata": {},
   "outputs": [],
   "source": [
    "zillow['cluster'] = kmeans.predict(X)"
   ]
  },
  {
   "cell_type": "code",
   "execution_count": 31,
   "metadata": {},
   "outputs": [],
   "source": [
    "zillow, X_scaled, scaler, kmeans, centroids = explore.create_cluster(zillow, X, 3)"
   ]
  },
  {
   "cell_type": "code",
   "execution_count": 32,
   "metadata": {},
   "outputs": [
    {
     "ename": "ValueError",
     "evalue": "Shape of passed values is (3, 2), indices imply (3, 18)",
     "output_type": "error",
     "traceback": [
      "\u001b[0;31m---------------------------------------------------------------------------\u001b[0m",
      "\u001b[0;31mValueError\u001b[0m                                Traceback (most recent call last)",
      "\u001b[0;32m/opt/homebrew/anaconda3/lib/python3.8/site-packages/pandas/core/internals/managers.py\u001b[0m in \u001b[0;36mcreate_block_manager_from_blocks\u001b[0;34m(blocks, axes)\u001b[0m\n\u001b[1;32m   1661\u001b[0m                 blocks = [\n\u001b[0;32m-> 1662\u001b[0;31m                     \u001b[0mmake_block\u001b[0m\u001b[0;34m(\u001b[0m\u001b[0mvalues\u001b[0m\u001b[0;34m=\u001b[0m\u001b[0mblocks\u001b[0m\u001b[0;34m[\u001b[0m\u001b[0;36m0\u001b[0m\u001b[0;34m]\u001b[0m\u001b[0;34m,\u001b[0m \u001b[0mplacement\u001b[0m\u001b[0;34m=\u001b[0m\u001b[0mslice\u001b[0m\u001b[0;34m(\u001b[0m\u001b[0;36m0\u001b[0m\u001b[0;34m,\u001b[0m \u001b[0mlen\u001b[0m\u001b[0;34m(\u001b[0m\u001b[0maxes\u001b[0m\u001b[0;34m[\u001b[0m\u001b[0;36m0\u001b[0m\u001b[0;34m]\u001b[0m\u001b[0;34m)\u001b[0m\u001b[0;34m)\u001b[0m\u001b[0;34m)\u001b[0m\u001b[0;34m\u001b[0m\u001b[0;34m\u001b[0m\u001b[0m\n\u001b[0m\u001b[1;32m   1663\u001b[0m                 ]\n",
      "\u001b[0;32m/opt/homebrew/anaconda3/lib/python3.8/site-packages/pandas/core/internals/blocks.py\u001b[0m in \u001b[0;36mmake_block\u001b[0;34m(values, placement, klass, ndim, dtype)\u001b[0m\n\u001b[1;32m   2721\u001b[0m \u001b[0;34m\u001b[0m\u001b[0m\n\u001b[0;32m-> 2722\u001b[0;31m     \u001b[0;32mreturn\u001b[0m \u001b[0mklass\u001b[0m\u001b[0;34m(\u001b[0m\u001b[0mvalues\u001b[0m\u001b[0;34m,\u001b[0m \u001b[0mndim\u001b[0m\u001b[0;34m=\u001b[0m\u001b[0mndim\u001b[0m\u001b[0;34m,\u001b[0m \u001b[0mplacement\u001b[0m\u001b[0;34m=\u001b[0m\u001b[0mplacement\u001b[0m\u001b[0;34m)\u001b[0m\u001b[0;34m\u001b[0m\u001b[0;34m\u001b[0m\u001b[0m\n\u001b[0m\u001b[1;32m   2723\u001b[0m \u001b[0;34m\u001b[0m\u001b[0m\n",
      "\u001b[0;32m/opt/homebrew/anaconda3/lib/python3.8/site-packages/pandas/core/internals/blocks.py\u001b[0m in \u001b[0;36m__init__\u001b[0;34m(self, values, placement, ndim)\u001b[0m\n\u001b[1;32m    129\u001b[0m         \u001b[0;32mif\u001b[0m \u001b[0mself\u001b[0m\u001b[0;34m.\u001b[0m\u001b[0m_validate_ndim\u001b[0m \u001b[0;32mand\u001b[0m \u001b[0mself\u001b[0m\u001b[0;34m.\u001b[0m\u001b[0mndim\u001b[0m \u001b[0;32mand\u001b[0m \u001b[0mlen\u001b[0m\u001b[0;34m(\u001b[0m\u001b[0mself\u001b[0m\u001b[0;34m.\u001b[0m\u001b[0mmgr_locs\u001b[0m\u001b[0;34m)\u001b[0m \u001b[0;34m!=\u001b[0m \u001b[0mlen\u001b[0m\u001b[0;34m(\u001b[0m\u001b[0mself\u001b[0m\u001b[0;34m.\u001b[0m\u001b[0mvalues\u001b[0m\u001b[0;34m)\u001b[0m\u001b[0;34m:\u001b[0m\u001b[0;34m\u001b[0m\u001b[0;34m\u001b[0m\u001b[0m\n\u001b[0;32m--> 130\u001b[0;31m             raise ValueError(\n\u001b[0m\u001b[1;32m    131\u001b[0m                 \u001b[0;34mf\"Wrong number of items passed {len(self.values)}, \"\u001b[0m\u001b[0;34m\u001b[0m\u001b[0;34m\u001b[0m\u001b[0m\n",
      "\u001b[0;31mValueError\u001b[0m: Wrong number of items passed 2, placement implies 18",
      "\nDuring handling of the above exception, another exception occurred:\n",
      "\u001b[0;31mValueError\u001b[0m                                Traceback (most recent call last)",
      "\u001b[0;32m<ipython-input-32-266e0f477503>\u001b[0m in \u001b[0;36m<module>\u001b[0;34m\u001b[0m\n\u001b[0;32m----> 1\u001b[0;31m \u001b[0mexplore\u001b[0m\u001b[0;34m.\u001b[0m\u001b[0mcreate_scatter_plot\u001b[0m\u001b[0;34m(\u001b[0m\u001b[0;34m'bedrooms'\u001b[0m\u001b[0;34m,\u001b[0m\u001b[0;34m'longitude'\u001b[0m\u001b[0;34m,\u001b[0m\u001b[0mzillow\u001b[0m\u001b[0;34m,\u001b[0m\u001b[0mkmeans\u001b[0m\u001b[0;34m,\u001b[0m \u001b[0mX_train_scaled\u001b[0m\u001b[0;34m,\u001b[0m \u001b[0mscaler\u001b[0m\u001b[0;34m)\u001b[0m\u001b[0;34m\u001b[0m\u001b[0;34m\u001b[0m\u001b[0m\n\u001b[0m",
      "\u001b[0;32m~/codeup-data-science/database-exercises/Zillow_Clustering_Project/explore.py\u001b[0m in \u001b[0;36mcreate_scatter_plot\u001b[0;34m(x, y, df, kmeans, X_scaled, scaler)\u001b[0m\n\u001b[1;32m    111\u001b[0m     \u001b[0mplt\u001b[0m\u001b[0;34m.\u001b[0m\u001b[0mfigure\u001b[0m\u001b[0;34m(\u001b[0m\u001b[0mfigsize\u001b[0m\u001b[0;34m=\u001b[0m\u001b[0;34m(\u001b[0m\u001b[0;36m10\u001b[0m\u001b[0;34m,\u001b[0m \u001b[0;36m6\u001b[0m\u001b[0;34m)\u001b[0m\u001b[0;34m)\u001b[0m\u001b[0;34m\u001b[0m\u001b[0;34m\u001b[0m\u001b[0m\n\u001b[1;32m    112\u001b[0m     \u001b[0msns\u001b[0m\u001b[0;34m.\u001b[0m\u001b[0mscatterplot\u001b[0m\u001b[0;34m(\u001b[0m\u001b[0mx\u001b[0m \u001b[0;34m=\u001b[0m \u001b[0mx\u001b[0m\u001b[0;34m,\u001b[0m \u001b[0my\u001b[0m \u001b[0;34m=\u001b[0m \u001b[0my\u001b[0m\u001b[0;34m,\u001b[0m \u001b[0mdata\u001b[0m \u001b[0;34m=\u001b[0m \u001b[0mdf\u001b[0m\u001b[0;34m,\u001b[0m \u001b[0mhue\u001b[0m \u001b[0;34m=\u001b[0m \u001b[0;34m'cluster'\u001b[0m\u001b[0;34m)\u001b[0m\u001b[0;34m\u001b[0m\u001b[0;34m\u001b[0m\u001b[0m\n\u001b[0;32m--> 113\u001b[0;31m     \u001b[0mcentroids\u001b[0m \u001b[0;34m=\u001b[0m \u001b[0mpd\u001b[0m\u001b[0;34m.\u001b[0m\u001b[0mDataFrame\u001b[0m\u001b[0;34m(\u001b[0m\u001b[0mscaler\u001b[0m\u001b[0;34m.\u001b[0m\u001b[0minverse_transform\u001b[0m\u001b[0;34m(\u001b[0m\u001b[0mkmeans\u001b[0m\u001b[0;34m.\u001b[0m\u001b[0mcluster_centers_\u001b[0m\u001b[0;34m)\u001b[0m\u001b[0;34m,\u001b[0m \u001b[0mcolumns\u001b[0m\u001b[0;34m=\u001b[0m\u001b[0mX_scaled\u001b[0m\u001b[0;34m.\u001b[0m\u001b[0mcolumns\u001b[0m\u001b[0;34m)\u001b[0m\u001b[0;34m\u001b[0m\u001b[0;34m\u001b[0m\u001b[0m\n\u001b[0m\u001b[1;32m    114\u001b[0m     \u001b[0mcentroids\u001b[0m\u001b[0;34m.\u001b[0m\u001b[0mplot\u001b[0m\u001b[0;34m.\u001b[0m\u001b[0mscatter\u001b[0m\u001b[0;34m(\u001b[0m\u001b[0my\u001b[0m\u001b[0;34m=\u001b[0m\u001b[0my\u001b[0m\u001b[0;34m,\u001b[0m \u001b[0mx\u001b[0m\u001b[0;34m=\u001b[0m \u001b[0mx\u001b[0m\u001b[0;34m,\u001b[0m \u001b[0max\u001b[0m\u001b[0;34m=\u001b[0m\u001b[0mplt\u001b[0m\u001b[0;34m.\u001b[0m\u001b[0mgca\u001b[0m\u001b[0;34m(\u001b[0m\u001b[0;34m)\u001b[0m\u001b[0;34m,\u001b[0m \u001b[0malpha\u001b[0m\u001b[0;34m=\u001b[0m\u001b[0;36m.30\u001b[0m\u001b[0;34m,\u001b[0m \u001b[0ms\u001b[0m\u001b[0;34m=\u001b[0m\u001b[0;36m500\u001b[0m\u001b[0;34m,\u001b[0m \u001b[0mc\u001b[0m\u001b[0;34m=\u001b[0m\u001b[0;34m'black'\u001b[0m\u001b[0;34m)\u001b[0m\u001b[0;34m\u001b[0m\u001b[0;34m\u001b[0m\u001b[0m\n",
      "\u001b[0;32m/opt/homebrew/anaconda3/lib/python3.8/site-packages/pandas/core/frame.py\u001b[0m in \u001b[0;36m__init__\u001b[0;34m(self, data, index, columns, dtype, copy)\u001b[0m\n\u001b[1;32m    495\u001b[0m                 \u001b[0mmgr\u001b[0m \u001b[0;34m=\u001b[0m \u001b[0minit_dict\u001b[0m\u001b[0;34m(\u001b[0m\u001b[0;34m{\u001b[0m\u001b[0mdata\u001b[0m\u001b[0;34m.\u001b[0m\u001b[0mname\u001b[0m\u001b[0;34m:\u001b[0m \u001b[0mdata\u001b[0m\u001b[0;34m}\u001b[0m\u001b[0;34m,\u001b[0m \u001b[0mindex\u001b[0m\u001b[0;34m,\u001b[0m \u001b[0mcolumns\u001b[0m\u001b[0;34m,\u001b[0m \u001b[0mdtype\u001b[0m\u001b[0;34m=\u001b[0m\u001b[0mdtype\u001b[0m\u001b[0;34m)\u001b[0m\u001b[0;34m\u001b[0m\u001b[0;34m\u001b[0m\u001b[0m\n\u001b[1;32m    496\u001b[0m             \u001b[0;32melse\u001b[0m\u001b[0;34m:\u001b[0m\u001b[0;34m\u001b[0m\u001b[0;34m\u001b[0m\u001b[0m\n\u001b[0;32m--> 497\u001b[0;31m                 \u001b[0mmgr\u001b[0m \u001b[0;34m=\u001b[0m \u001b[0minit_ndarray\u001b[0m\u001b[0;34m(\u001b[0m\u001b[0mdata\u001b[0m\u001b[0;34m,\u001b[0m \u001b[0mindex\u001b[0m\u001b[0;34m,\u001b[0m \u001b[0mcolumns\u001b[0m\u001b[0;34m,\u001b[0m \u001b[0mdtype\u001b[0m\u001b[0;34m=\u001b[0m\u001b[0mdtype\u001b[0m\u001b[0;34m,\u001b[0m \u001b[0mcopy\u001b[0m\u001b[0;34m=\u001b[0m\u001b[0mcopy\u001b[0m\u001b[0;34m)\u001b[0m\u001b[0;34m\u001b[0m\u001b[0;34m\u001b[0m\u001b[0m\n\u001b[0m\u001b[1;32m    498\u001b[0m \u001b[0;34m\u001b[0m\u001b[0m\n\u001b[1;32m    499\u001b[0m         \u001b[0;31m# For data is list-like, or Iterable (will consume into list)\u001b[0m\u001b[0;34m\u001b[0m\u001b[0;34m\u001b[0m\u001b[0;34m\u001b[0m\u001b[0m\n",
      "\u001b[0;32m/opt/homebrew/anaconda3/lib/python3.8/site-packages/pandas/core/internals/construction.py\u001b[0m in \u001b[0;36minit_ndarray\u001b[0;34m(values, index, columns, dtype, copy)\u001b[0m\n\u001b[1;32m    232\u001b[0m         \u001b[0mblock_values\u001b[0m \u001b[0;34m=\u001b[0m \u001b[0;34m[\u001b[0m\u001b[0mvalues\u001b[0m\u001b[0;34m]\u001b[0m\u001b[0;34m\u001b[0m\u001b[0;34m\u001b[0m\u001b[0m\n\u001b[1;32m    233\u001b[0m \u001b[0;34m\u001b[0m\u001b[0m\n\u001b[0;32m--> 234\u001b[0;31m     \u001b[0;32mreturn\u001b[0m \u001b[0mcreate_block_manager_from_blocks\u001b[0m\u001b[0;34m(\u001b[0m\u001b[0mblock_values\u001b[0m\u001b[0;34m,\u001b[0m \u001b[0;34m[\u001b[0m\u001b[0mcolumns\u001b[0m\u001b[0;34m,\u001b[0m \u001b[0mindex\u001b[0m\u001b[0;34m]\u001b[0m\u001b[0;34m)\u001b[0m\u001b[0;34m\u001b[0m\u001b[0;34m\u001b[0m\u001b[0m\n\u001b[0m\u001b[1;32m    235\u001b[0m \u001b[0;34m\u001b[0m\u001b[0m\n\u001b[1;32m    236\u001b[0m \u001b[0;34m\u001b[0m\u001b[0m\n",
      "\u001b[0;32m/opt/homebrew/anaconda3/lib/python3.8/site-packages/pandas/core/internals/managers.py\u001b[0m in \u001b[0;36mcreate_block_manager_from_blocks\u001b[0;34m(blocks, axes)\u001b[0m\n\u001b[1;32m   1670\u001b[0m         \u001b[0mblocks\u001b[0m \u001b[0;34m=\u001b[0m \u001b[0;34m[\u001b[0m\u001b[0mgetattr\u001b[0m\u001b[0;34m(\u001b[0m\u001b[0mb\u001b[0m\u001b[0;34m,\u001b[0m \u001b[0;34m\"values\"\u001b[0m\u001b[0;34m,\u001b[0m \u001b[0mb\u001b[0m\u001b[0;34m)\u001b[0m \u001b[0;32mfor\u001b[0m \u001b[0mb\u001b[0m \u001b[0;32min\u001b[0m \u001b[0mblocks\u001b[0m\u001b[0;34m]\u001b[0m\u001b[0;34m\u001b[0m\u001b[0;34m\u001b[0m\u001b[0m\n\u001b[1;32m   1671\u001b[0m         \u001b[0mtot_items\u001b[0m \u001b[0;34m=\u001b[0m \u001b[0msum\u001b[0m\u001b[0;34m(\u001b[0m\u001b[0mb\u001b[0m\u001b[0;34m.\u001b[0m\u001b[0mshape\u001b[0m\u001b[0;34m[\u001b[0m\u001b[0;36m0\u001b[0m\u001b[0;34m]\u001b[0m \u001b[0;32mfor\u001b[0m \u001b[0mb\u001b[0m \u001b[0;32min\u001b[0m \u001b[0mblocks\u001b[0m\u001b[0;34m)\u001b[0m\u001b[0;34m\u001b[0m\u001b[0;34m\u001b[0m\u001b[0m\n\u001b[0;32m-> 1672\u001b[0;31m         \u001b[0;32mraise\u001b[0m \u001b[0mconstruction_error\u001b[0m\u001b[0;34m(\u001b[0m\u001b[0mtot_items\u001b[0m\u001b[0;34m,\u001b[0m \u001b[0mblocks\u001b[0m\u001b[0;34m[\u001b[0m\u001b[0;36m0\u001b[0m\u001b[0;34m]\u001b[0m\u001b[0;34m.\u001b[0m\u001b[0mshape\u001b[0m\u001b[0;34m[\u001b[0m\u001b[0;36m1\u001b[0m\u001b[0;34m:\u001b[0m\u001b[0;34m]\u001b[0m\u001b[0;34m,\u001b[0m \u001b[0maxes\u001b[0m\u001b[0;34m,\u001b[0m \u001b[0me\u001b[0m\u001b[0;34m)\u001b[0m\u001b[0;34m\u001b[0m\u001b[0;34m\u001b[0m\u001b[0m\n\u001b[0m\u001b[1;32m   1673\u001b[0m \u001b[0;34m\u001b[0m\u001b[0m\n\u001b[1;32m   1674\u001b[0m \u001b[0;34m\u001b[0m\u001b[0m\n",
      "\u001b[0;31mValueError\u001b[0m: Shape of passed values is (3, 2), indices imply (3, 18)"
     ]
    },
    {
     "data": {
      "image/png": "[encoded data removed]",
      "text/plain": [
       "<Figure size 720x432 with 1 Axes>"
      ]
     },
     "metadata": {
      "needs_background": "light"
     },
     "output_type": "display_data"
    }
   ],
   "source": [
    "explore.create_scatter_plot('bedrooms','longitude',zillow,kmeans, X_train_scaled, scaler)"
   ]
  },
  {
   "cell_type": "code",
   "execution_count": null,
   "metadata": {},
   "outputs": [],
   "source": []
  }
 ],
 "metadata": {
  "kernelspec": {
   "display_name": "Python 3",
   "language": "python",
   "name": "python3"
  },
  "language_info": {
   "codemirror_mode": {
    "name": "ipython",
    "version": 3
   },
   "file_extension": ".py",
   "mimetype": "text/x-python",
   "name": "python",
   "nbconvert_exporter": "python",
   "pygments_lexer": "ipython3",
   "version": "3.8.5"
  }
 },
 "nbformat": 4,
 "nbformat_minor": 4
}
